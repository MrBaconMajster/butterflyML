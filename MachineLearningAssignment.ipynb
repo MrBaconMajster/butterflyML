{
 "cells": [
  {
   "cell_type": "code",
   "execution_count": 1,
   "metadata": {
    "id": "MVcPwFhvsch4"
   },
   "outputs": [],
   "source": [
    "# 18222757 Maciej Augustynek ,18244327 Bartlomiej Skorecki\n",
    "# Code executes till the end without errors\n",
    "# Original source : https://www.kaggle.com/esraamohamedahmed/classification-of-butterflies-images"
   ]
  },
  {
   "cell_type": "code",
   "execution_count": 2,
   "metadata": {
    "id": "EBh-8oBAtiV5"
   },
   "outputs": [],
   "source": [
    "# This Python 3 environment comes with many helpful analytics libraries installed\n",
    "# It is defined by the kaggle/python Docker image: https://github.com/kaggle/docker-python\n",
    "# For example, here's several helpful packages to load\n",
    "\n",
    "import numpy as np \n",
    "import pandas as pd\n",
    "import os\n",
    "from tensorflow.keras.metrics import Precision , Recall"
   ]
  },
  {
   "cell_type": "code",
   "execution_count": 3,
   "metadata": {
    "id": "oyK5dKektuTp"
   },
   "outputs": [],
   "source": [
    "import cv2\n",
    "path='./images/'\n",
    "file=os.listdir('./images/')\n",
    "features=[] #to store images\n",
    "labels=[] #to store labels\n",
    "for img in file:\n",
    "    # label=int(img) \n",
    "    label=int(img[:3]) #extracts label from the image file name\n",
    "    labels.append(label) #adds the found label to the list of labels\n",
    "    img_array=cv2.imread(os.path.join(path,img),cv2.IMREAD_COLOR)\n",
    "    #Resizes images into the size 220x220\n",
    "    img_array=cv2.resize(img_array,(220,220))\n",
    "    #stores images in the array\n",
    "    features.append(img_array)"
   ]
  },
  {
   "cell_type": "code",
   "execution_count": 4,
   "metadata": {
    "id": "EkIz7S2Ot4w4"
   },
   "outputs": [
    {
     "data": {
      "text/plain": [
       "['001.txt',\n",
       " '002.txt',\n",
       " '003.txt',\n",
       " '004.txt',\n",
       " '005.txt',\n",
       " '006.txt',\n",
       " '007.txt',\n",
       " '008.txt',\n",
       " '009.txt',\n",
       " '010.txt']"
      ]
     },
     "execution_count": 4,
     "metadata": {},
     "output_type": "execute_result"
    }
   ],
   "source": [
    "import os\n",
    "descrid_path='./descriptions'\n",
    "descrid=os.listdir('./descriptions')\n",
    "descrid"
   ]
  },
  {
   "cell_type": "code",
   "execution_count": 5,
   "metadata": {
    "id": "sNhJA5gEt5Gc"
   },
   "outputs": [],
   "source": [
    "#Creating a list of butterfly types\n",
    "dict_1={'001': 'Danaus_plexippus', '002': 'Heliconius_charitonius', '003': 'Heliconius_erato', '004': 'Junonia_coenia', '005': 'Lycaena_phlaeas', '006': 'Nymphalis_antiopa', '007': 'Papilio_cresphontes', '008': 'Pieris_rapae', '009': 'Vanessa_atalanta', '0010': 'Vanessa_cardui'} "
   ]
  },
  {
   "cell_type": "code",
   "execution_count": 6,
   "metadata": {
    "id": "p9QAUoPQt5IQ"
   },
   "outputs": [
    {
     "name": "stdout",
     "output_type": "stream",
     "text": [
      "{1, 2, 3, 4, 5, 6, 7, 8, 9, 10}\n",
      "{'Pieris_rapae', 'Lycaena_phlaeas', 'Heliconius_erato', 'Vanessa_atalanta', 'Heliconius_charitonius', 'Nymphalis_antiopa', 'Papilio_cresphontes', 'Junonia_coenia', 'Danaus_plexippus', 'Vanessa_cardui'}\n"
     ]
    }
   ],
   "source": [
    "print(set(labels))\n",
    "list_labels=[]\n",
    "#We add labels to a set for each image in the dataset. We will use this list later to assign the labels to the images.\n",
    "for i in labels:\n",
    "    new_label=dict_1['00'+str(i)]\n",
    "    list_labels.append(new_label)\n",
    "#Printed unique labels from the labels added\n",
    "print(set(list_labels)) "
   ]
  },
  {
   "cell_type": "code",
   "execution_count": 7,
   "metadata": {
    "id": "7BUvaHZwt5KE"
   },
   "outputs": [
    {
     "name": "stdout",
     "output_type": "stream",
     "text": [
      "(832, 220, 220, 3)\n"
     ]
    }
   ],
   "source": [
    "import numpy as np\n",
    "#We change the 220x220 images into a numpy array to make it easier for them to work with the model\n",
    "features=np.array(features)\n",
    "#Normalising the images\n",
    "features=features/255.0\n",
    "features=features.reshape(-1,220,220,3)\n",
    "print(features.shape)"
   ]
  },
  {
   "cell_type": "code",
   "execution_count": 8,
   "metadata": {
    "id": "De2ihj3_t5SG"
   },
   "outputs": [],
   "source": [
    "#OneHotEncoding:To deal with categorical values we need to preprocess it using onehot ecnoding\n",
    "from sklearn.preprocessing import OneHotEncoder,LabelEncoder\n",
    "#One hot encoding coverts our labels so they can be processed by the ML model better to get a better prediction\n",
    "le=LabelEncoder()\n",
    "#Fits our labels into the LabelEncoder and returns the transformed data\n",
    "y=le.fit_transform(list_labels)\n",
    "from tensorflow.keras.utils import to_categorical\n",
    "#Needs to be changed to to_categorical since we have more than 2 classes to be identified\n",
    "y=to_categorical(y)"
   ]
  },
  {
   "cell_type": "code",
   "execution_count": 9,
   "metadata": {
    "id": "kBQn7MdGt5T7"
   },
   "outputs": [],
   "source": [
    "from sklearn.model_selection import train_test_split\n",
    "#Splits our data into our training and test dataset. Our test data is 20% of the overall data and training data is 80%\n",
    "x_train,x_test,y_train,y_test=train_test_split(features,y,random_state=11,test_size=0.2)"
   ]
  },
  {
   "cell_type": "code",
   "execution_count": 10,
   "metadata": {
    "id": "ztrKG8a-t_2g"
   },
   "outputs": [],
   "source": [
    "from tensorflow.keras.layers import (\n",
    "    BatchNormalization, Conv2D, MaxPooling2D, Activation, Flatten, Dropout, Dense\n",
    ")\n",
    "from tensorflow.keras.models import Sequential\n",
    "from tensorflow.keras.optimizers import Adam\n",
    "from tensorflow.keras.regularizers import l2,l1\n",
    "from tensorflow.keras import layers\n",
    "import tensorflow as tf\n",
    "\n",
    "#Building the model\n",
    "\n",
    "data_augmentation = tf.keras.Sequential([\n",
    "  layers.RandomFlip(\"horizontal_and_vertical\"),\n",
    "  layers.RandomRotation(0.2),\n",
    "])\n",
    "\n",
    "model = tf.keras.Sequential([\n",
    "  # Add the preprocessing layers you created earlier.\n",
    "  data_augmentation,\n",
    "])\n",
    "\n",
    "\n",
    "# Allows us to create multiple layers to use a CNN structure\n",
    "model.add(Conv2D(32, (3,3), padding=\"same\", activation = 'relu', kernel_regularizer=l2(0.0002) , input_shape=(220,220,3)))\n",
    "model.add(BatchNormalization())\n",
    "model.add(MaxPooling2D((3,3)))\n",
    "\n",
    "\n",
    "model.add(Conv2D(32, (5, 5), activation='relu', kernel_regularizer=l2(0.0002))) \n",
    "model.add(BatchNormalization())\n",
    "model.add(MaxPooling2D((3,3)))\n",
    "\n",
    "\n",
    "model.add(Conv2D(64, (3, 3), activation='relu', kernel_regularizer=l2(0.0002))) \n",
    "model.add(BatchNormalization())\n",
    "model.add(MaxPooling2D((2, 2)))\n",
    "\n",
    "\n",
    "model.add(Conv2D(128, (3, 3), activation='relu', kernel_regularizer=l2(0.0002))) \n",
    "model.add(BatchNormalization())\n",
    "model.add(MaxPooling2D((2, 2)))\n",
    "\n",
    "\n",
    "model.add(Conv2D(128, (3, 3), activation='relu' , kernel_regularizer=l2(0.0002))) \n",
    "model.add(BatchNormalization())\n",
    "model.add(MaxPooling2D((2, 2)))\n",
    "\n",
    "\n",
    "model.add(Flatten())\n",
    "# Dropout layer used to help reduce overfitting\n",
    "\n",
    "model.add(Dense(100, activation='relu'))\n",
    "model.add(Dropout(0.3))\n",
    "\n",
    "model.add(Dense(100, activation='relu'))\n",
    "model.add(Dropout(0.3))\n",
    "\n",
    "# Output layer have 10 labels \n",
    "model.add(Dense(10, activation='softmax'))\n",
    "\n"
   ]
  },
  {
   "cell_type": "code",
   "execution_count": 11,
   "metadata": {
    "id": "iar8DH8Ht_4Q"
   },
   "outputs": [
    {
     "name": "stdout",
     "output_type": "stream",
     "text": [
      "Epoch 1/50\n",
      "45/45 [==============================] - 15s 300ms/step - loss: 2.2102 - accuracy: 0.2594 - precision: 0.4819 - recall: 0.0752 - val_loss: 2.4479 - val_accuracy: 0.1203 - val_precision: 0.0000e+00 - val_recall: 0.0000e+00\n",
      "Epoch 2/50\n",
      "45/45 [==============================] - 13s 292ms/step - loss: 1.6487 - accuracy: 0.4286 - precision: 0.6303 - recall: 0.2500 - val_loss: 2.9589 - val_accuracy: 0.1203 - val_precision: 0.0000e+00 - val_recall: 0.0000e+00\n",
      "Epoch 3/50\n",
      "45/45 [==============================] - 13s 291ms/step - loss: 1.4254 - accuracy: 0.5244 - precision: 0.6377 - recall: 0.3308 - val_loss: 3.5451 - val_accuracy: 0.1654 - val_precision: 0.5000 - val_recall: 0.0075\n",
      "Epoch 4/50\n",
      "45/45 [==============================] - 13s 292ms/step - loss: 1.1690 - accuracy: 0.6109 - precision: 0.7356 - recall: 0.4549 - val_loss: 3.5298 - val_accuracy: 0.1053 - val_precision: 0.2895 - val_recall: 0.0827\n",
      "Epoch 5/50\n",
      "45/45 [==============================] - 13s 293ms/step - loss: 1.1063 - accuracy: 0.6335 - precision: 0.7432 - recall: 0.5169 - val_loss: 3.2451 - val_accuracy: 0.2331 - val_precision: 0.4103 - val_recall: 0.1203\n",
      "Epoch 6/50\n",
      "45/45 [==============================] - 13s 292ms/step - loss: 0.9713 - accuracy: 0.6823 - precision: 0.7789 - recall: 0.5959 - val_loss: 3.2253 - val_accuracy: 0.2105 - val_precision: 0.3091 - val_recall: 0.1278\n",
      "Epoch 7/50\n",
      "45/45 [==============================] - 13s 291ms/step - loss: 0.8765 - accuracy: 0.7256 - precision: 0.8052 - recall: 0.6372 - val_loss: 3.2482 - val_accuracy: 0.1504 - val_precision: 0.1585 - val_recall: 0.0977\n",
      "Epoch 8/50\n",
      "45/45 [==============================] - 13s 293ms/step - loss: 0.7269 - accuracy: 0.7876 - precision: 0.8394 - recall: 0.6974 - val_loss: 3.2812 - val_accuracy: 0.2331 - val_precision: 0.2600 - val_recall: 0.1955\n",
      "Epoch 9/50\n",
      "45/45 [==============================] - 13s 295ms/step - loss: 0.7438 - accuracy: 0.7801 - precision: 0.8400 - recall: 0.7105 - val_loss: 2.3220 - val_accuracy: 0.5188 - val_precision: 0.5963 - val_recall: 0.4887\n",
      "Epoch 10/50\n",
      "45/45 [==============================] - 13s 291ms/step - loss: 0.6678 - accuracy: 0.7989 - precision: 0.8422 - recall: 0.7425 - val_loss: 1.9874 - val_accuracy: 0.5489 - val_precision: 0.5893 - val_recall: 0.4962\n",
      "Epoch 11/50\n",
      "45/45 [==============================] - 13s 293ms/step - loss: 0.6305 - accuracy: 0.8346 - precision: 0.8776 - recall: 0.7820 - val_loss: 1.4108 - val_accuracy: 0.6767 - val_precision: 0.7034 - val_recall: 0.6241\n",
      "Epoch 12/50\n",
      "45/45 [==============================] - 13s 292ms/step - loss: 0.4939 - accuracy: 0.8628 - precision: 0.8986 - recall: 0.8327 - val_loss: 0.9186 - val_accuracy: 0.8045 - val_precision: 0.8160 - val_recall: 0.7669\n",
      "Epoch 13/50\n",
      "45/45 [==============================] - 13s 293ms/step - loss: 0.4937 - accuracy: 0.8759 - precision: 0.9060 - recall: 0.8515 - val_loss: 0.7881 - val_accuracy: 0.8346 - val_precision: 0.8618 - val_recall: 0.7970\n",
      "Epoch 14/50\n",
      "45/45 [==============================] - 13s 292ms/step - loss: 0.5609 - accuracy: 0.8346 - precision: 0.8717 - recall: 0.8045 - val_loss: 1.0258 - val_accuracy: 0.7820 - val_precision: 0.8305 - val_recall: 0.7368\n",
      "Epoch 15/50\n",
      "45/45 [==============================] - 13s 292ms/step - loss: 0.5129 - accuracy: 0.8665 - precision: 0.9016 - recall: 0.8271 - val_loss: 0.9694 - val_accuracy: 0.7519 - val_precision: 0.7760 - val_recall: 0.7293\n",
      "Epoch 16/50\n",
      "45/45 [==============================] - 13s 292ms/step - loss: 0.3870 - accuracy: 0.8929 - precision: 0.9212 - recall: 0.8571 - val_loss: 0.6220 - val_accuracy: 0.8421 - val_precision: 0.8605 - val_recall: 0.8346\n",
      "Epoch 17/50\n",
      "45/45 [==============================] - 13s 293ms/step - loss: 0.4055 - accuracy: 0.8929 - precision: 0.9193 - recall: 0.8778 - val_loss: 0.5156 - val_accuracy: 0.8571 - val_precision: 0.8692 - val_recall: 0.8496\n",
      "Epoch 18/50\n",
      "45/45 [==============================] - 13s 294ms/step - loss: 0.4749 - accuracy: 0.8778 - precision: 0.9095 - recall: 0.8496 - val_loss: 0.5955 - val_accuracy: 0.8496 - val_precision: 0.8862 - val_recall: 0.8195\n",
      "Epoch 19/50\n",
      "45/45 [==============================] - 13s 297ms/step - loss: 0.3952 - accuracy: 0.9079 - precision: 0.9310 - recall: 0.8872 - val_loss: 0.4733 - val_accuracy: 0.9023 - val_precision: 0.9444 - val_recall: 0.8947\n",
      "Epoch 20/50\n",
      "45/45 [==============================] - 14s 310ms/step - loss: 0.4174 - accuracy: 0.8872 - precision: 0.9185 - recall: 0.8684 - val_loss: 0.4070 - val_accuracy: 0.9098 - val_precision: 0.9297 - val_recall: 0.8947\n",
      "Epoch 21/50\n",
      "45/45 [==============================] - 13s 297ms/step - loss: 0.3828 - accuracy: 0.9041 - precision: 0.9291 - recall: 0.8872 - val_loss: 0.7258 - val_accuracy: 0.8571 - val_precision: 0.9091 - val_recall: 0.8271\n",
      "Epoch 22/50\n",
      "45/45 [==============================] - 13s 299ms/step - loss: 0.3914 - accuracy: 0.9004 - precision: 0.9199 - recall: 0.8853 - val_loss: 0.4846 - val_accuracy: 0.8797 - val_precision: 0.8992 - val_recall: 0.8722\n",
      "Epoch 23/50\n",
      "45/45 [==============================] - 14s 310ms/step - loss: 0.4058 - accuracy: 0.8947 - precision: 0.9208 - recall: 0.8741 - val_loss: 0.6280 - val_accuracy: 0.8421 - val_precision: 0.8672 - val_recall: 0.8346\n",
      "Epoch 24/50\n",
      "45/45 [==============================] - 13s 297ms/step - loss: 0.3378 - accuracy: 0.9154 - precision: 0.9302 - recall: 0.9023 - val_loss: 0.4459 - val_accuracy: 0.8872 - val_precision: 0.9147 - val_recall: 0.8872\n",
      "Epoch 25/50\n",
      "45/45 [==============================] - 13s 299ms/step - loss: 0.3125 - accuracy: 0.9267 - precision: 0.9365 - recall: 0.9154 - val_loss: 0.6350 - val_accuracy: 0.8496 - val_precision: 0.8898 - val_recall: 0.8496\n",
      "Epoch 26/50\n",
      "45/45 [==============================] - 13s 296ms/step - loss: 0.3727 - accuracy: 0.9098 - precision: 0.9228 - recall: 0.8985 - val_loss: 0.5623 - val_accuracy: 0.8571 - val_precision: 0.8952 - val_recall: 0.8346\n",
      "Epoch 27/50\n",
      "45/45 [==============================] - 13s 294ms/step - loss: 0.3346 - accuracy: 0.9229 - precision: 0.9391 - recall: 0.8985 - val_loss: 0.7426 - val_accuracy: 0.8346 - val_precision: 0.8583 - val_recall: 0.8195\n",
      "Epoch 28/50\n",
      "45/45 [==============================] - 13s 294ms/step - loss: 0.3309 - accuracy: 0.9173 - precision: 0.9341 - recall: 0.9060 - val_loss: 0.8631 - val_accuracy: 0.7970 - val_precision: 0.8346 - val_recall: 0.7970\n",
      "Epoch 29/50\n",
      "45/45 [==============================] - 13s 295ms/step - loss: 0.2532 - accuracy: 0.9530 - precision: 0.9670 - recall: 0.9361 - val_loss: 0.3076 - val_accuracy: 0.9549 - val_precision: 0.9535 - val_recall: 0.9248\n",
      "Epoch 30/50\n",
      "45/45 [==============================] - 13s 295ms/step - loss: 0.3158 - accuracy: 0.9286 - precision: 0.9436 - recall: 0.9117 - val_loss: 1.0096 - val_accuracy: 0.7669 - val_precision: 0.7983 - val_recall: 0.7143\n",
      "Epoch 31/50\n",
      "45/45 [==============================] - 13s 296ms/step - loss: 0.2789 - accuracy: 0.9305 - precision: 0.9425 - recall: 0.9248 - val_loss: 0.5312 - val_accuracy: 0.8271 - val_precision: 0.8720 - val_recall: 0.8195\n",
      "Epoch 32/50\n",
      "45/45 [==============================] - 13s 296ms/step - loss: 0.2797 - accuracy: 0.9398 - precision: 0.9556 - recall: 0.9305 - val_loss: 0.4171 - val_accuracy: 0.9173 - val_precision: 0.9219 - val_recall: 0.8872\n",
      "Epoch 33/50\n",
      "45/45 [==============================] - 13s 295ms/step - loss: 0.3206 - accuracy: 0.9173 - precision: 0.9322 - recall: 0.9041 - val_loss: 0.4387 - val_accuracy: 0.8947 - val_precision: 0.9015 - val_recall: 0.8947\n",
      "Epoch 34/50\n",
      "45/45 [==============================] - 13s 295ms/step - loss: 0.3142 - accuracy: 0.9229 - precision: 0.9385 - recall: 0.9173 - val_loss: 0.9129 - val_accuracy: 0.8045 - val_precision: 0.8154 - val_recall: 0.7970\n",
      "Epoch 35/50\n",
      "45/45 [==============================] - 13s 297ms/step - loss: 0.3372 - accuracy: 0.9173 - precision: 0.9301 - recall: 0.9004 - val_loss: 0.3063 - val_accuracy: 0.9474 - val_precision: 0.9606 - val_recall: 0.9173\n",
      "Epoch 36/50\n",
      "45/45 [==============================] - 13s 296ms/step - loss: 0.2664 - accuracy: 0.9361 - precision: 0.9520 - recall: 0.9323 - val_loss: 0.2860 - val_accuracy: 0.9549 - val_precision: 0.9612 - val_recall: 0.9323\n",
      "Epoch 37/50\n"
     ]
    },
    {
     "name": "stdout",
     "output_type": "stream",
     "text": [
      "45/45 [==============================] - 13s 294ms/step - loss: 0.2561 - accuracy: 0.9492 - precision: 0.9561 - recall: 0.9417 - val_loss: 0.3361 - val_accuracy: 0.9398 - val_precision: 0.9466 - val_recall: 0.9323\n",
      "Epoch 38/50\n",
      "45/45 [==============================] - 13s 295ms/step - loss: 0.2670 - accuracy: 0.9530 - precision: 0.9595 - recall: 0.9361 - val_loss: 0.5516 - val_accuracy: 0.8797 - val_precision: 0.8915 - val_recall: 0.8647\n",
      "Epoch 39/50\n",
      "45/45 [==============================] - 13s 293ms/step - loss: 0.1859 - accuracy: 0.9643 - precision: 0.9658 - recall: 0.9568 - val_loss: 0.3188 - val_accuracy: 0.9398 - val_precision: 0.9457 - val_recall: 0.9173\n",
      "Epoch 40/50\n",
      "45/45 [==============================] - 13s 295ms/step - loss: 0.2440 - accuracy: 0.9530 - precision: 0.9651 - recall: 0.9361 - val_loss: 0.3100 - val_accuracy: 0.9474 - val_precision: 0.9542 - val_recall: 0.9398\n",
      "Epoch 41/50\n",
      "45/45 [==============================] - 13s 295ms/step - loss: 0.2670 - accuracy: 0.9530 - precision: 0.9598 - recall: 0.9436 - val_loss: 0.3736 - val_accuracy: 0.9474 - val_precision: 0.9453 - val_recall: 0.9098\n",
      "Epoch 42/50\n",
      "45/45 [==============================] - 13s 297ms/step - loss: 0.2450 - accuracy: 0.9492 - precision: 0.9543 - recall: 0.9417 - val_loss: 0.5594 - val_accuracy: 0.8797 - val_precision: 0.8984 - val_recall: 0.8647\n",
      "Epoch 43/50\n",
      "45/45 [==============================] - 13s 295ms/step - loss: 0.2075 - accuracy: 0.9699 - precision: 0.9751 - recall: 0.9586 - val_loss: 0.4152 - val_accuracy: 0.9474 - val_precision: 0.9542 - val_recall: 0.9398\n",
      "Epoch 44/50\n",
      "45/45 [==============================] - 13s 294ms/step - loss: 0.3097 - accuracy: 0.9398 - precision: 0.9465 - recall: 0.9305 - val_loss: 0.4095 - val_accuracy: 0.9248 - val_precision: 0.9385 - val_recall: 0.9173\n",
      "Epoch 45/50\n",
      "45/45 [==============================] - 13s 295ms/step - loss: 0.2311 - accuracy: 0.9662 - precision: 0.9770 - recall: 0.9586 - val_loss: 0.2961 - val_accuracy: 0.9549 - val_precision: 0.9615 - val_recall: 0.9398\n",
      "Epoch 46/50\n",
      "45/45 [==============================] - 13s 295ms/step - loss: 0.2022 - accuracy: 0.9605 - precision: 0.9696 - recall: 0.9586 - val_loss: 0.4605 - val_accuracy: 0.8947 - val_precision: 0.9154 - val_recall: 0.8947\n",
      "Epoch 47/50\n",
      "45/45 [==============================] - 14s 303ms/step - loss: 0.2786 - accuracy: 0.9474 - precision: 0.9526 - recall: 0.9436 - val_loss: 0.4766 - val_accuracy: 0.9098 - val_precision: 0.9219 - val_recall: 0.8872\n",
      "Epoch 48/50\n",
      "45/45 [==============================] - 13s 292ms/step - loss: 0.2136 - accuracy: 0.9586 - precision: 0.9658 - recall: 0.9568 - val_loss: 0.6439 - val_accuracy: 0.8647 - val_precision: 0.8779 - val_recall: 0.8647\n",
      "Epoch 49/50\n",
      "45/45 [==============================] - 13s 292ms/step - loss: 0.2220 - accuracy: 0.9586 - precision: 0.9658 - recall: 0.9549 - val_loss: 0.4833 - val_accuracy: 0.9323 - val_precision: 0.9323 - val_recall: 0.9323\n",
      "Epoch 50/50\n",
      "45/45 [==============================] - 13s 291ms/step - loss: 0.1697 - accuracy: 0.9793 - precision: 0.9848 - recall: 0.9718 - val_loss: 0.3869 - val_accuracy: 0.9248 - val_precision: 0.9389 - val_recall: 0.9248\n",
      "Model: \"sequential_1\"\n",
      "_________________________________________________________________\n",
      "Layer (type)                 Output Shape              Param #   \n",
      "=================================================================\n",
      "sequential (Sequential)      (None, 220, 220, 3)       0         \n",
      "_________________________________________________________________\n",
      "conv2d (Conv2D)              (None, 220, 220, 32)      896       \n",
      "_________________________________________________________________\n",
      "batch_normalization (BatchNo (None, 220, 220, 32)      128       \n",
      "_________________________________________________________________\n",
      "max_pooling2d (MaxPooling2D) (None, 73, 73, 32)        0         \n",
      "_________________________________________________________________\n",
      "conv2d_1 (Conv2D)            (None, 69, 69, 32)        25632     \n",
      "_________________________________________________________________\n",
      "batch_normalization_1 (Batch (None, 69, 69, 32)        128       \n",
      "_________________________________________________________________\n",
      "max_pooling2d_1 (MaxPooling2 (None, 23, 23, 32)        0         \n",
      "_________________________________________________________________\n",
      "conv2d_2 (Conv2D)            (None, 21, 21, 64)        18496     \n",
      "_________________________________________________________________\n",
      "batch_normalization_2 (Batch (None, 21, 21, 64)        256       \n",
      "_________________________________________________________________\n",
      "max_pooling2d_2 (MaxPooling2 (None, 10, 10, 64)        0         \n",
      "_________________________________________________________________\n",
      "conv2d_3 (Conv2D)            (None, 8, 8, 128)         73856     \n",
      "_________________________________________________________________\n",
      "batch_normalization_3 (Batch (None, 8, 8, 128)         512       \n",
      "_________________________________________________________________\n",
      "max_pooling2d_3 (MaxPooling2 (None, 4, 4, 128)         0         \n",
      "_________________________________________________________________\n",
      "conv2d_4 (Conv2D)            (None, 2, 2, 128)         147584    \n",
      "_________________________________________________________________\n",
      "batch_normalization_4 (Batch (None, 2, 2, 128)         512       \n",
      "_________________________________________________________________\n",
      "max_pooling2d_4 (MaxPooling2 (None, 1, 1, 128)         0         \n",
      "_________________________________________________________________\n",
      "flatten (Flatten)            (None, 128)               0         \n",
      "_________________________________________________________________\n",
      "dense (Dense)                (None, 100)               12900     \n",
      "_________________________________________________________________\n",
      "dropout (Dropout)            (None, 100)               0         \n",
      "_________________________________________________________________\n",
      "dense_1 (Dense)              (None, 100)               10100     \n",
      "_________________________________________________________________\n",
      "dropout_1 (Dropout)          (None, 100)               0         \n",
      "_________________________________________________________________\n",
      "dense_2 (Dense)              (None, 10)                1010      \n",
      "=================================================================\n",
      "Total params: 292,010\n",
      "Trainable params: 291,242\n",
      "Non-trainable params: 768\n",
      "_________________________________________________________________\n"
     ]
    }
   ],
   "source": [
    "import tensorflow\n",
    "optimizer = tensorflow.keras.optimizers.Adam(0.001)\n",
    "optimizer.learning_rate.assign(0.01)\n",
    "\n",
    "model.compile(optimizer='adam'\n",
    "              ,metrics=['accuracy',Precision(), Recall()],loss='categorical_crossentropy')\n",
    "\n",
    "history=model.fit(x_train,y_train,batch_size=12,epochs=50,validation_split=0.2)\n",
    "model.summary()"
   ]
  },
  {
   "cell_type": "code",
   "execution_count": 12,
   "metadata": {
    "id": "UbCOPYuct_51"
   },
   "outputs": [
    {
     "data": {
      "image/png": "[encoded data removed]",
      "text/plain": [
       "<Figure size 864x576 with 1 Axes>"
      ]
     },
     "metadata": {},
     "output_type": "display_data"
    }
   ],
   "source": [
    "import matplotlib.pyplot as plt\n",
    "import seaborn as sns\n",
    "sns.set_style('whitegrid')\n",
    "plt.figure(figsize=(12,8))\n",
    "plt.plot(history.history['accuracy'])\n",
    "plt.plot(history.history['val_accuracy'])\n",
    "plt.xlabel('Epochs')\n",
    "plt.ylabel('Accuracy score')\n",
    "plt.title('Model Accuracy')\n",
    "plt.legend(['Train','Test'])\n",
    "plt.show()"
   ]
  },
  {
   "cell_type": "code",
   "execution_count": 13,
   "metadata": {
    "id": "9ALJnIz2t_7x"
   },
   "outputs": [
    {
     "name": "stdout",
     "output_type": "stream",
     "text": [
      "6/6 [==============================] - 1s 126ms/step - loss: 0.3606 - accuracy: 0.9222 - precision: 0.9317 - recall: 0.8982\n"
     ]
    }
   ],
   "source": [
    "loss,accuracy,precision,recall=model.evaluate(x_test,y_test)"
   ]
  },
  {
   "cell_type": "code",
   "execution_count": 14,
   "metadata": {
    "id": "51e9xMjft_9t"
   },
   "outputs": [
    {
     "name": "stdout",
     "output_type": "stream",
     "text": [
      "WARNING:tensorflow:`input_shape` is undefined or non-square, or `rows` is not in [96, 128, 160, 192, 224]. Weights for input shape (224, 224) will be loaded as the default.\n",
      "Model: \"mobilenetv2_1.00_224\"\n",
      "__________________________________________________________________________________________________\n",
      "Layer (type)                    Output Shape         Param #     Connected to                     \n",
      "==================================================================================================\n",
      "input_1 (InputLayer)            [(None, 220, 220, 3) 0                                            \n",
      "__________________________________________________________________________________________________\n",
      "Conv1 (Conv2D)                  (None, 110, 110, 32) 864         input_1[0][0]                    \n",
      "__________________________________________________________________________________________________\n",
      "bn_Conv1 (BatchNormalization)   (None, 110, 110, 32) 128         Conv1[0][0]                      \n",
      "__________________________________________________________________________________________________\n",
      "Conv1_relu (ReLU)               (None, 110, 110, 32) 0           bn_Conv1[0][0]                   \n",
      "__________________________________________________________________________________________________\n",
      "expanded_conv_depthwise (Depthw (None, 110, 110, 32) 288         Conv1_relu[0][0]                 \n",
      "__________________________________________________________________________________________________\n",
      "expanded_conv_depthwise_BN (Bat (None, 110, 110, 32) 128         expanded_conv_depthwise[0][0]    \n",
      "__________________________________________________________________________________________________\n",
      "expanded_conv_depthwise_relu (R (None, 110, 110, 32) 0           expanded_conv_depthwise_BN[0][0] \n",
      "__________________________________________________________________________________________________\n",
      "expanded_conv_project (Conv2D)  (None, 110, 110, 16) 512         expanded_conv_depthwise_relu[0][0\n",
      "__________________________________________________________________________________________________\n",
      "expanded_conv_project_BN (Batch (None, 110, 110, 16) 64          expanded_conv_project[0][0]      \n",
      "__________________________________________________________________________________________________\n",
      "block_1_expand (Conv2D)         (None, 110, 110, 96) 1536        expanded_conv_project_BN[0][0]   \n",
      "__________________________________________________________________________________________________\n",
      "block_1_expand_BN (BatchNormali (None, 110, 110, 96) 384         block_1_expand[0][0]             \n",
      "__________________________________________________________________________________________________\n",
      "block_1_expand_relu (ReLU)      (None, 110, 110, 96) 0           block_1_expand_BN[0][0]          \n",
      "__________________________________________________________________________________________________\n",
      "block_1_pad (ZeroPadding2D)     (None, 111, 111, 96) 0           block_1_expand_relu[0][0]        \n",
      "__________________________________________________________________________________________________\n",
      "block_1_depthwise (DepthwiseCon (None, 55, 55, 96)   864         block_1_pad[0][0]                \n",
      "__________________________________________________________________________________________________\n",
      "block_1_depthwise_BN (BatchNorm (None, 55, 55, 96)   384         block_1_depthwise[0][0]          \n",
      "__________________________________________________________________________________________________\n",
      "block_1_depthwise_relu (ReLU)   (None, 55, 55, 96)   0           block_1_depthwise_BN[0][0]       \n",
      "__________________________________________________________________________________________________\n",
      "block_1_project (Conv2D)        (None, 55, 55, 24)   2304        block_1_depthwise_relu[0][0]     \n",
      "__________________________________________________________________________________________________\n",
      "block_1_project_BN (BatchNormal (None, 55, 55, 24)   96          block_1_project[0][0]            \n",
      "__________________________________________________________________________________________________\n",
      "block_2_expand (Conv2D)         (None, 55, 55, 144)  3456        block_1_project_BN[0][0]         \n",
      "__________________________________________________________________________________________________\n",
      "block_2_expand_BN (BatchNormali (None, 55, 55, 144)  576         block_2_expand[0][0]             \n",
      "__________________________________________________________________________________________________\n",
      "block_2_expand_relu (ReLU)      (None, 55, 55, 144)  0           block_2_expand_BN[0][0]          \n",
      "__________________________________________________________________________________________________\n",
      "block_2_depthwise (DepthwiseCon (None, 55, 55, 144)  1296        block_2_expand_relu[0][0]        \n",
      "__________________________________________________________________________________________________\n",
      "block_2_depthwise_BN (BatchNorm (None, 55, 55, 144)  576         block_2_depthwise[0][0]          \n",
      "__________________________________________________________________________________________________\n",
      "block_2_depthwise_relu (ReLU)   (None, 55, 55, 144)  0           block_2_depthwise_BN[0][0]       \n",
      "__________________________________________________________________________________________________\n",
      "block_2_project (Conv2D)        (None, 55, 55, 24)   3456        block_2_depthwise_relu[0][0]     \n",
      "__________________________________________________________________________________________________\n",
      "block_2_project_BN (BatchNormal (None, 55, 55, 24)   96          block_2_project[0][0]            \n",
      "__________________________________________________________________________________________________\n",
      "block_2_add (Add)               (None, 55, 55, 24)   0           block_1_project_BN[0][0]         \n",
      "                                                                 block_2_project_BN[0][0]         \n",
      "__________________________________________________________________________________________________\n",
      "block_3_expand (Conv2D)         (None, 55, 55, 144)  3456        block_2_add[0][0]                \n",
      "__________________________________________________________________________________________________\n",
      "block_3_expand_BN (BatchNormali (None, 55, 55, 144)  576         block_3_expand[0][0]             \n",
      "__________________________________________________________________________________________________\n",
      "block_3_expand_relu (ReLU)      (None, 55, 55, 144)  0           block_3_expand_BN[0][0]          \n",
      "__________________________________________________________________________________________________\n",
      "block_3_pad (ZeroPadding2D)     (None, 57, 57, 144)  0           block_3_expand_relu[0][0]        \n",
      "__________________________________________________________________________________________________\n",
      "block_3_depthwise (DepthwiseCon (None, 28, 28, 144)  1296        block_3_pad[0][0]                \n",
      "__________________________________________________________________________________________________\n",
      "block_3_depthwise_BN (BatchNorm (None, 28, 28, 144)  576         block_3_depthwise[0][0]          \n",
      "__________________________________________________________________________________________________\n",
      "block_3_depthwise_relu (ReLU)   (None, 28, 28, 144)  0           block_3_depthwise_BN[0][0]       \n",
      "__________________________________________________________________________________________________\n",
      "block_3_project (Conv2D)        (None, 28, 28, 32)   4608        block_3_depthwise_relu[0][0]     \n",
      "__________________________________________________________________________________________________\n",
      "block_3_project_BN (BatchNormal (None, 28, 28, 32)   128         block_3_project[0][0]            \n",
      "__________________________________________________________________________________________________\n",
      "block_4_expand (Conv2D)         (None, 28, 28, 192)  6144        block_3_project_BN[0][0]         \n",
      "__________________________________________________________________________________________________\n",
      "block_4_expand_BN (BatchNormali (None, 28, 28, 192)  768         block_4_expand[0][0]             \n",
      "__________________________________________________________________________________________________\n",
      "block_4_expand_relu (ReLU)      (None, 28, 28, 192)  0           block_4_expand_BN[0][0]          \n",
      "__________________________________________________________________________________________________\n",
      "block_4_depthwise (DepthwiseCon (None, 28, 28, 192)  1728        block_4_expand_relu[0][0]        \n",
      "__________________________________________________________________________________________________\n",
      "block_4_depthwise_BN (BatchNorm (None, 28, 28, 192)  768         block_4_depthwise[0][0]          \n",
      "__________________________________________________________________________________________________\n",
      "block_4_depthwise_relu (ReLU)   (None, 28, 28, 192)  0           block_4_depthwise_BN[0][0]       \n",
      "__________________________________________________________________________________________________\n",
      "block_4_project (Conv2D)        (None, 28, 28, 32)   6144        block_4_depthwise_relu[0][0]     \n",
      "__________________________________________________________________________________________________\n",
      "block_4_project_BN (BatchNormal (None, 28, 28, 32)   128         block_4_project[0][0]            \n",
      "__________________________________________________________________________________________________\n",
      "block_4_add (Add)               (None, 28, 28, 32)   0           block_3_project_BN[0][0]         \n",
      "                                                                 block_4_project_BN[0][0]         \n",
      "__________________________________________________________________________________________________\n",
      "block_5_expand (Conv2D)         (None, 28, 28, 192)  6144        block_4_add[0][0]                \n",
      "__________________________________________________________________________________________________\n",
      "block_5_expand_BN (BatchNormali (None, 28, 28, 192)  768         block_5_expand[0][0]             \n",
      "__________________________________________________________________________________________________\n",
      "block_5_expand_relu (ReLU)      (None, 28, 28, 192)  0           block_5_expand_BN[0][0]          \n",
      "__________________________________________________________________________________________________\n",
      "block_5_depthwise (DepthwiseCon (None, 28, 28, 192)  1728        block_5_expand_relu[0][0]        \n",
      "__________________________________________________________________________________________________\n",
      "block_5_depthwise_BN (BatchNorm (None, 28, 28, 192)  768         block_5_depthwise[0][0]          \n",
      "__________________________________________________________________________________________________\n",
      "block_5_depthwise_relu (ReLU)   (None, 28, 28, 192)  0           block_5_depthwise_BN[0][0]       \n",
      "__________________________________________________________________________________________________\n",
      "block_5_project (Conv2D)        (None, 28, 28, 32)   6144        block_5_depthwise_relu[0][0]     \n",
      "__________________________________________________________________________________________________\n",
      "block_5_project_BN (BatchNormal (None, 28, 28, 32)   128         block_5_project[0][0]            \n",
      "__________________________________________________________________________________________________\n",
      "block_5_add (Add)               (None, 28, 28, 32)   0           block_4_add[0][0]                \n",
      "                                                                 block_5_project_BN[0][0]         \n",
      "__________________________________________________________________________________________________\n",
      "block_6_expand (Conv2D)         (None, 28, 28, 192)  6144        block_5_add[0][0]                \n",
      "__________________________________________________________________________________________________\n",
      "block_6_expand_BN (BatchNormali (None, 28, 28, 192)  768         block_6_expand[0][0]             \n",
      "__________________________________________________________________________________________________\n",
      "block_6_expand_relu (ReLU)      (None, 28, 28, 192)  0           block_6_expand_BN[0][0]          \n",
      "__________________________________________________________________________________________________\n",
      "block_6_pad (ZeroPadding2D)     (None, 29, 29, 192)  0           block_6_expand_relu[0][0]        \n",
      "__________________________________________________________________________________________________\n",
      "block_6_depthwise (DepthwiseCon (None, 14, 14, 192)  1728        block_6_pad[0][0]                \n",
      "__________________________________________________________________________________________________\n",
      "block_6_depthwise_BN (BatchNorm (None, 14, 14, 192)  768         block_6_depthwise[0][0]          \n",
      "__________________________________________________________________________________________________\n",
      "block_6_depthwise_relu (ReLU)   (None, 14, 14, 192)  0           block_6_depthwise_BN[0][0]       \n",
      "__________________________________________________________________________________________________\n",
      "block_6_project (Conv2D)        (None, 14, 14, 64)   12288       block_6_depthwise_relu[0][0]     \n",
      "__________________________________________________________________________________________________\n",
      "block_6_project_BN (BatchNormal (None, 14, 14, 64)   256         block_6_project[0][0]            \n",
      "__________________________________________________________________________________________________\n",
      "block_7_expand (Conv2D)         (None, 14, 14, 384)  24576       block_6_project_BN[0][0]         \n",
      "__________________________________________________________________________________________________\n",
      "block_7_expand_BN (BatchNormali (None, 14, 14, 384)  1536        block_7_expand[0][0]             \n",
      "__________________________________________________________________________________________________\n",
      "block_7_expand_relu (ReLU)      (None, 14, 14, 384)  0           block_7_expand_BN[0][0]          \n",
      "__________________________________________________________________________________________________\n",
      "block_7_depthwise (DepthwiseCon (None, 14, 14, 384)  3456        block_7_expand_relu[0][0]        \n",
      "__________________________________________________________________________________________________\n",
      "block_7_depthwise_BN (BatchNorm (None, 14, 14, 384)  1536        block_7_depthwise[0][0]          \n",
      "__________________________________________________________________________________________________\n",
      "block_7_depthwise_relu (ReLU)   (None, 14, 14, 384)  0           block_7_depthwise_BN[0][0]       \n",
      "__________________________________________________________________________________________________\n",
      "block_7_project (Conv2D)        (None, 14, 14, 64)   24576       block_7_depthwise_relu[0][0]     \n",
      "__________________________________________________________________________________________________\n",
      "block_7_project_BN (BatchNormal (None, 14, 14, 64)   256         block_7_project[0][0]            \n",
      "__________________________________________________________________________________________________\n",
      "block_7_add (Add)               (None, 14, 14, 64)   0           block_6_project_BN[0][0]         \n",
      "                                                                 block_7_project_BN[0][0]         \n",
      "__________________________________________________________________________________________________\n",
      "block_8_expand (Conv2D)         (None, 14, 14, 384)  24576       block_7_add[0][0]                \n",
      "__________________________________________________________________________________________________\n",
      "block_8_expand_BN (BatchNormali (None, 14, 14, 384)  1536        block_8_expand[0][0]             \n",
      "__________________________________________________________________________________________________\n",
      "block_8_expand_relu (ReLU)      (None, 14, 14, 384)  0           block_8_expand_BN[0][0]          \n",
      "__________________________________________________________________________________________________\n",
      "block_8_depthwise (DepthwiseCon (None, 14, 14, 384)  3456        block_8_expand_relu[0][0]        \n",
      "__________________________________________________________________________________________________\n",
      "block_8_depthwise_BN (BatchNorm (None, 14, 14, 384)  1536        block_8_depthwise[0][0]          \n",
      "__________________________________________________________________________________________________\n",
      "block_8_depthwise_relu (ReLU)   (None, 14, 14, 384)  0           block_8_depthwise_BN[0][0]       \n",
      "__________________________________________________________________________________________________\n",
      "block_8_project (Conv2D)        (None, 14, 14, 64)   24576       block_8_depthwise_relu[0][0]     \n",
      "__________________________________________________________________________________________________\n",
      "block_8_project_BN (BatchNormal (None, 14, 14, 64)   256         block_8_project[0][0]            \n",
      "__________________________________________________________________________________________________\n",
      "block_8_add (Add)               (None, 14, 14, 64)   0           block_7_add[0][0]                \n",
      "                                                                 block_8_project_BN[0][0]         \n",
      "__________________________________________________________________________________________________\n",
      "block_9_expand (Conv2D)         (None, 14, 14, 384)  24576       block_8_add[0][0]                \n",
      "__________________________________________________________________________________________________\n",
      "block_9_expand_BN (BatchNormali (None, 14, 14, 384)  1536        block_9_expand[0][0]             \n",
      "__________________________________________________________________________________________________\n",
      "block_9_expand_relu (ReLU)      (None, 14, 14, 384)  0           block_9_expand_BN[0][0]          \n",
      "__________________________________________________________________________________________________\n",
      "block_9_depthwise (DepthwiseCon (None, 14, 14, 384)  3456        block_9_expand_relu[0][0]        \n",
      "__________________________________________________________________________________________________\n",
      "block_9_depthwise_BN (BatchNorm (None, 14, 14, 384)  1536        block_9_depthwise[0][0]          \n",
      "__________________________________________________________________________________________________\n",
      "block_9_depthwise_relu (ReLU)   (None, 14, 14, 384)  0           block_9_depthwise_BN[0][0]       \n",
      "__________________________________________________________________________________________________\n",
      "block_9_project (Conv2D)        (None, 14, 14, 64)   24576       block_9_depthwise_relu[0][0]     \n",
      "__________________________________________________________________________________________________\n",
      "block_9_project_BN (BatchNormal (None, 14, 14, 64)   256         block_9_project[0][0]            \n",
      "__________________________________________________________________________________________________\n",
      "block_9_add (Add)               (None, 14, 14, 64)   0           block_8_add[0][0]                \n",
      "                                                                 block_9_project_BN[0][0]         \n",
      "__________________________________________________________________________________________________\n",
      "block_10_expand (Conv2D)        (None, 14, 14, 384)  24576       block_9_add[0][0]                \n",
      "__________________________________________________________________________________________________\n",
      "block_10_expand_BN (BatchNormal (None, 14, 14, 384)  1536        block_10_expand[0][0]            \n",
      "__________________________________________________________________________________________________\n",
      "block_10_expand_relu (ReLU)     (None, 14, 14, 384)  0           block_10_expand_BN[0][0]         \n",
      "__________________________________________________________________________________________________\n",
      "block_10_depthwise (DepthwiseCo (None, 14, 14, 384)  3456        block_10_expand_relu[0][0]       \n",
      "__________________________________________________________________________________________________\n",
      "block_10_depthwise_BN (BatchNor (None, 14, 14, 384)  1536        block_10_depthwise[0][0]         \n",
      "__________________________________________________________________________________________________\n",
      "block_10_depthwise_relu (ReLU)  (None, 14, 14, 384)  0           block_10_depthwise_BN[0][0]      \n",
      "__________________________________________________________________________________________________\n",
      "block_10_project (Conv2D)       (None, 14, 14, 96)   36864       block_10_depthwise_relu[0][0]    \n",
      "__________________________________________________________________________________________________\n",
      "block_10_project_BN (BatchNorma (None, 14, 14, 96)   384         block_10_project[0][0]           \n",
      "__________________________________________________________________________________________________\n",
      "block_11_expand (Conv2D)        (None, 14, 14, 576)  55296       block_10_project_BN[0][0]        \n",
      "__________________________________________________________________________________________________\n",
      "block_11_expand_BN (BatchNormal (None, 14, 14, 576)  2304        block_11_expand[0][0]            \n",
      "__________________________________________________________________________________________________\n",
      "block_11_expand_relu (ReLU)     (None, 14, 14, 576)  0           block_11_expand_BN[0][0]         \n",
      "__________________________________________________________________________________________________\n",
      "block_11_depthwise (DepthwiseCo (None, 14, 14, 576)  5184        block_11_expand_relu[0][0]       \n",
      "__________________________________________________________________________________________________\n",
      "block_11_depthwise_BN (BatchNor (None, 14, 14, 576)  2304        block_11_depthwise[0][0]         \n",
      "__________________________________________________________________________________________________\n",
      "block_11_depthwise_relu (ReLU)  (None, 14, 14, 576)  0           block_11_depthwise_BN[0][0]      \n",
      "__________________________________________________________________________________________________\n",
      "block_11_project (Conv2D)       (None, 14, 14, 96)   55296       block_11_depthwise_relu[0][0]    \n",
      "__________________________________________________________________________________________________\n",
      "block_11_project_BN (BatchNorma (None, 14, 14, 96)   384         block_11_project[0][0]           \n",
      "__________________________________________________________________________________________________\n",
      "block_11_add (Add)              (None, 14, 14, 96)   0           block_10_project_BN[0][0]        \n",
      "                                                                 block_11_project_BN[0][0]        \n",
      "__________________________________________________________________________________________________\n",
      "block_12_expand (Conv2D)        (None, 14, 14, 576)  55296       block_11_add[0][0]               \n",
      "__________________________________________________________________________________________________\n",
      "block_12_expand_BN (BatchNormal (None, 14, 14, 576)  2304        block_12_expand[0][0]            \n",
      "__________________________________________________________________________________________________\n",
      "block_12_expand_relu (ReLU)     (None, 14, 14, 576)  0           block_12_expand_BN[0][0]         \n",
      "__________________________________________________________________________________________________\n",
      "block_12_depthwise (DepthwiseCo (None, 14, 14, 576)  5184        block_12_expand_relu[0][0]       \n",
      "__________________________________________________________________________________________________\n",
      "block_12_depthwise_BN (BatchNor (None, 14, 14, 576)  2304        block_12_depthwise[0][0]         \n",
      "__________________________________________________________________________________________________\n",
      "block_12_depthwise_relu (ReLU)  (None, 14, 14, 576)  0           block_12_depthwise_BN[0][0]      \n",
      "__________________________________________________________________________________________________\n",
      "block_12_project (Conv2D)       (None, 14, 14, 96)   55296       block_12_depthwise_relu[0][0]    \n",
      "__________________________________________________________________________________________________\n",
      "block_12_project_BN (BatchNorma (None, 14, 14, 96)   384         block_12_project[0][0]           \n",
      "__________________________________________________________________________________________________\n",
      "block_12_add (Add)              (None, 14, 14, 96)   0           block_11_add[0][0]               \n",
      "                                                                 block_12_project_BN[0][0]        \n",
      "__________________________________________________________________________________________________\n",
      "block_13_expand (Conv2D)        (None, 14, 14, 576)  55296       block_12_add[0][0]               \n",
      "__________________________________________________________________________________________________\n",
      "block_13_expand_BN (BatchNormal (None, 14, 14, 576)  2304        block_13_expand[0][0]            \n",
      "__________________________________________________________________________________________________\n",
      "block_13_expand_relu (ReLU)     (None, 14, 14, 576)  0           block_13_expand_BN[0][0]         \n",
      "__________________________________________________________________________________________________\n",
      "block_13_pad (ZeroPadding2D)    (None, 15, 15, 576)  0           block_13_expand_relu[0][0]       \n",
      "__________________________________________________________________________________________________\n",
      "block_13_depthwise (DepthwiseCo (None, 7, 7, 576)    5184        block_13_pad[0][0]               \n",
      "__________________________________________________________________________________________________\n",
      "block_13_depthwise_BN (BatchNor (None, 7, 7, 576)    2304        block_13_depthwise[0][0]         \n",
      "__________________________________________________________________________________________________\n",
      "block_13_depthwise_relu (ReLU)  (None, 7, 7, 576)    0           block_13_depthwise_BN[0][0]      \n",
      "__________________________________________________________________________________________________\n",
      "block_13_project (Conv2D)       (None, 7, 7, 160)    92160       block_13_depthwise_relu[0][0]    \n",
      "__________________________________________________________________________________________________\n",
      "block_13_project_BN (BatchNorma (None, 7, 7, 160)    640         block_13_project[0][0]           \n",
      "__________________________________________________________________________________________________\n",
      "block_14_expand (Conv2D)        (None, 7, 7, 960)    153600      block_13_project_BN[0][0]        \n",
      "__________________________________________________________________________________________________\n",
      "block_14_expand_BN (BatchNormal (None, 7, 7, 960)    3840        block_14_expand[0][0]            \n",
      "__________________________________________________________________________________________________\n",
      "block_14_expand_relu (ReLU)     (None, 7, 7, 960)    0           block_14_expand_BN[0][0]         \n",
      "__________________________________________________________________________________________________\n",
      "block_14_depthwise (DepthwiseCo (None, 7, 7, 960)    8640        block_14_expand_relu[0][0]       \n",
      "__________________________________________________________________________________________________\n",
      "block_14_depthwise_BN (BatchNor (None, 7, 7, 960)    3840        block_14_depthwise[0][0]         \n",
      "__________________________________________________________________________________________________\n",
      "block_14_depthwise_relu (ReLU)  (None, 7, 7, 960)    0           block_14_depthwise_BN[0][0]      \n",
      "__________________________________________________________________________________________________\n",
      "block_14_project (Conv2D)       (None, 7, 7, 160)    153600      block_14_depthwise_relu[0][0]    \n",
      "__________________________________________________________________________________________________\n",
      "block_14_project_BN (BatchNorma (None, 7, 7, 160)    640         block_14_project[0][0]           \n",
      "__________________________________________________________________________________________________\n",
      "block_14_add (Add)              (None, 7, 7, 160)    0           block_13_project_BN[0][0]        \n",
      "                                                                 block_14_project_BN[0][0]        \n",
      "__________________________________________________________________________________________________\n",
      "block_15_expand (Conv2D)        (None, 7, 7, 960)    153600      block_14_add[0][0]               \n",
      "__________________________________________________________________________________________________\n",
      "block_15_expand_BN (BatchNormal (None, 7, 7, 960)    3840        block_15_expand[0][0]            \n",
      "__________________________________________________________________________________________________\n",
      "block_15_expand_relu (ReLU)     (None, 7, 7, 960)    0           block_15_expand_BN[0][0]         \n",
      "__________________________________________________________________________________________________\n",
      "block_15_depthwise (DepthwiseCo (None, 7, 7, 960)    8640        block_15_expand_relu[0][0]       \n",
      "__________________________________________________________________________________________________\n",
      "block_15_depthwise_BN (BatchNor (None, 7, 7, 960)    3840        block_15_depthwise[0][0]         \n",
      "__________________________________________________________________________________________________\n",
      "block_15_depthwise_relu (ReLU)  (None, 7, 7, 960)    0           block_15_depthwise_BN[0][0]      \n",
      "__________________________________________________________________________________________________\n",
      "block_15_project (Conv2D)       (None, 7, 7, 160)    153600      block_15_depthwise_relu[0][0]    \n",
      "__________________________________________________________________________________________________\n",
      "block_15_project_BN (BatchNorma (None, 7, 7, 160)    640         block_15_project[0][0]           \n",
      "__________________________________________________________________________________________________\n",
      "block_15_add (Add)              (None, 7, 7, 160)    0           block_14_add[0][0]               \n",
      "                                                                 block_15_project_BN[0][0]        \n",
      "__________________________________________________________________________________________________\n",
      "block_16_expand (Conv2D)        (None, 7, 7, 960)    153600      block_15_add[0][0]               \n",
      "__________________________________________________________________________________________________\n",
      "block_16_expand_BN (BatchNormal (None, 7, 7, 960)    3840        block_16_expand[0][0]            \n",
      "__________________________________________________________________________________________________\n",
      "block_16_expand_relu (ReLU)     (None, 7, 7, 960)    0           block_16_expand_BN[0][0]         \n",
      "__________________________________________________________________________________________________\n",
      "block_16_depthwise (DepthwiseCo (None, 7, 7, 960)    8640        block_16_expand_relu[0][0]       \n",
      "__________________________________________________________________________________________________\n",
      "block_16_depthwise_BN (BatchNor (None, 7, 7, 960)    3840        block_16_depthwise[0][0]         \n",
      "__________________________________________________________________________________________________\n",
      "block_16_depthwise_relu (ReLU)  (None, 7, 7, 960)    0           block_16_depthwise_BN[0][0]      \n",
      "__________________________________________________________________________________________________\n",
      "block_16_project (Conv2D)       (None, 7, 7, 320)    307200      block_16_depthwise_relu[0][0]    \n",
      "__________________________________________________________________________________________________\n",
      "block_16_project_BN (BatchNorma (None, 7, 7, 320)    1280        block_16_project[0][0]           \n",
      "__________________________________________________________________________________________________\n",
      "Conv_1 (Conv2D)                 (None, 7, 7, 1280)   409600      block_16_project_BN[0][0]        \n",
      "__________________________________________________________________________________________________\n",
      "Conv_1_bn (BatchNormalization)  (None, 7, 7, 1280)   5120        Conv_1[0][0]                     \n",
      "__________________________________________________________________________________________________\n",
      "out_relu (ReLU)                 (None, 7, 7, 1280)   0           Conv_1_bn[0][0]                  \n",
      "__________________________________________________________________________________________________\n",
      "global_average_pooling2d (Globa (None, 1280)         0           out_relu[0][0]                   \n",
      "==================================================================================================\n",
      "Total params: 2,257,984\n",
      "Trainable params: 2,223,872\n",
      "Non-trainable params: 34,112\n",
      "__________________________________________________________________________________________________\n"
     ]
    }
   ],
   "source": [
    "import tensorflow\n",
    "# This network has many hyper parameters that you have to adjust first\n",
    "# The first hyperparameter gives you the freedom to choose whether to enter the final dense layer of the network or cancel it, in which case it has been cancelled.\n",
    "# By specifying include_top= False we exclude the prediction layer which allows us to substitute our custom prediction layer later on.\n",
    "mnet = tensorflow.keras.applications.mobilenet_v2.MobileNetV2(include_top=False, \n",
    "                                                      input_shape=(220, 220, 3),#same as of custom model\n",
    "                                                      pooling='avg',\n",
    "                                                      weights='imagenet')\n",
    "\n",
    "mnet.summary()"
   ]
  },
  {
   "cell_type": "code",
   "execution_count": 15,
   "metadata": {
    "id": "kSDKs3-auEMi"
   },
   "outputs": [],
   "source": [
    "model2=tf.keras.Sequential([\n",
    "    mnet,\n",
    "    Dropout(0.25),\n",
    "    Dense(10,activation='softmax') # here we use 10 layers because we have to predict bewtween 10 classes\n",
    "    \n",
    "])\n"
   ]
  },
  {
   "cell_type": "code",
   "execution_count": 16,
   "metadata": {
    "id": "L0aXWHmIuEOW"
   },
   "outputs": [],
   "source": [
    "# here we freezed the layer that responsible for feature extraction\n",
    "model2.layers[0].trainable = False\n"
   ]
  },
  {
   "cell_type": "code",
   "execution_count": 17,
   "metadata": {
    "id": "JyK1FF8UuEQT",
    "scrolled": true
   },
   "outputs": [
    {
     "name": "stdout",
     "output_type": "stream",
     "text": [
      "Epoch 1/20\n",
      "39/39 [==============================] - 11s 253ms/step - loss: 1.8987 - accuracy: 0.3785 - precision_1: 0.7564 - recall_1: 0.1269 - val_loss: 0.9181 - val_accuracy: 0.8150 - val_precision_1: 0.9452 - val_recall_1: 0.3450\n",
      "Epoch 2/20\n",
      "39/39 [==============================] - 9s 237ms/step - loss: 0.7226 - accuracy: 0.8366 - precision_1: 0.9497 - recall_1: 0.6086 - val_loss: 0.4527 - val_accuracy: 0.9200 - val_precision_1: 0.9750 - val_recall_1: 0.7800\n",
      "Epoch 3/20\n",
      "39/39 [==============================] - 9s 237ms/step - loss: 0.4070 - accuracy: 0.9312 - precision_1: 0.9742 - recall_1: 0.8129 - val_loss: 0.3293 - val_accuracy: 0.9400 - val_precision_1: 0.9831 - val_recall_1: 0.8750\n",
      "Epoch 4/20\n",
      "39/39 [==============================] - 9s 241ms/step - loss: 0.2625 - accuracy: 0.9720 - precision_1: 0.9906 - recall_1: 0.9097 - val_loss: 0.2485 - val_accuracy: 0.9700 - val_precision_1: 0.9945 - val_recall_1: 0.9050\n",
      "Epoch 5/20\n",
      "39/39 [==============================] - 9s 238ms/step - loss: 0.2151 - accuracy: 0.9720 - precision_1: 0.9908 - recall_1: 0.9269 - val_loss: 0.2196 - val_accuracy: 0.9550 - val_precision_1: 0.9894 - val_recall_1: 0.9300\n",
      "Epoch 6/20\n",
      "39/39 [==============================] - 9s 237ms/step - loss: 0.1477 - accuracy: 0.9892 - precision_1: 0.9956 - recall_1: 0.9742 - val_loss: 0.1797 - val_accuracy: 0.9750 - val_precision_1: 0.9947 - val_recall_1: 0.9350\n",
      "Epoch 7/20\n",
      "39/39 [==============================] - 9s 238ms/step - loss: 0.1183 - accuracy: 0.9892 - precision_1: 0.9913 - recall_1: 0.9806 - val_loss: 0.1654 - val_accuracy: 0.9800 - val_precision_1: 0.9896 - val_recall_1: 0.9500\n",
      "Epoch 8/20\n",
      "39/39 [==============================] - 9s 238ms/step - loss: 0.0985 - accuracy: 0.9935 - precision_1: 1.0000 - recall_1: 0.9806 - val_loss: 0.1610 - val_accuracy: 0.9700 - val_precision_1: 0.9846 - val_recall_1: 0.9600\n",
      "Epoch 9/20\n",
      "39/39 [==============================] - 9s 237ms/step - loss: 0.0840 - accuracy: 1.0000 - precision_1: 1.0000 - recall_1: 0.9914 - val_loss: 0.1364 - val_accuracy: 0.9800 - val_precision_1: 0.9948 - val_recall_1: 0.9500\n",
      "Epoch 10/20\n",
      "39/39 [==============================] - 9s 235ms/step - loss: 0.0698 - accuracy: 0.9978 - precision_1: 1.0000 - recall_1: 0.9957 - val_loss: 0.1407 - val_accuracy: 0.9750 - val_precision_1: 0.9797 - val_recall_1: 0.9650\n",
      "Epoch 11/20\n",
      "39/39 [==============================] - 9s 237ms/step - loss: 0.0633 - accuracy: 1.0000 - precision_1: 1.0000 - recall_1: 1.0000 - val_loss: 0.1224 - val_accuracy: 0.9750 - val_precision_1: 0.9847 - val_recall_1: 0.9650\n",
      "Epoch 12/20\n",
      "39/39 [==============================] - 9s 237ms/step - loss: 0.0550 - accuracy: 1.0000 - precision_1: 1.0000 - recall_1: 1.0000 - val_loss: 0.1214 - val_accuracy: 0.9750 - val_precision_1: 0.9794 - val_recall_1: 0.9500\n",
      "Epoch 13/20\n",
      "39/39 [==============================] - 9s 235ms/step - loss: 0.0408 - accuracy: 1.0000 - precision_1: 1.0000 - recall_1: 1.0000 - val_loss: 0.1155 - val_accuracy: 0.9750 - val_precision_1: 0.9746 - val_recall_1: 0.9600\n",
      "Epoch 14/20\n",
      "39/39 [==============================] - 9s 239ms/step - loss: 0.0445 - accuracy: 1.0000 - precision_1: 1.0000 - recall_1: 1.0000 - val_loss: 0.1083 - val_accuracy: 0.9750 - val_precision_1: 0.9846 - val_recall_1: 0.9600\n",
      "Epoch 15/20\n",
      "39/39 [==============================] - 9s 238ms/step - loss: 0.0377 - accuracy: 1.0000 - precision_1: 1.0000 - recall_1: 1.0000 - val_loss: 0.1091 - val_accuracy: 0.9750 - val_precision_1: 0.9796 - val_recall_1: 0.9600\n",
      "Epoch 16/20\n",
      "39/39 [==============================] - 9s 236ms/step - loss: 0.0356 - accuracy: 1.0000 - precision_1: 1.0000 - recall_1: 1.0000 - val_loss: 0.0998 - val_accuracy: 0.9750 - val_precision_1: 0.9797 - val_recall_1: 0.9650\n",
      "Epoch 17/20\n",
      "39/39 [==============================] - 9s 238ms/step - loss: 0.0333 - accuracy: 1.0000 - precision_1: 1.0000 - recall_1: 1.0000 - val_loss: 0.0973 - val_accuracy: 0.9750 - val_precision_1: 0.9847 - val_recall_1: 0.9650\n",
      "Epoch 18/20\n",
      "39/39 [==============================] - 9s 243ms/step - loss: 0.0298 - accuracy: 1.0000 - precision_1: 1.0000 - recall_1: 1.0000 - val_loss: 0.0959 - val_accuracy: 0.9750 - val_precision_1: 0.9847 - val_recall_1: 0.9650\n",
      "Epoch 19/20\n",
      "39/39 [==============================] - 9s 236ms/step - loss: 0.0239 - accuracy: 1.0000 - precision_1: 1.0000 - recall_1: 1.0000 - val_loss: 0.1001 - val_accuracy: 0.9750 - val_precision_1: 0.9749 - val_recall_1: 0.9700\n",
      "Epoch 20/20\n",
      "39/39 [==============================] - 9s 236ms/step - loss: 0.0265 - accuracy: 0.9978 - precision_1: 0.9978 - recall_1: 0.9978 - val_loss: 0.0958 - val_accuracy: 0.9750 - val_precision_1: 0.9797 - val_recall_1: 0.9650\n",
      "Model: \"sequential_2\"\n",
      "_________________________________________________________________\n",
      "Layer (type)                 Output Shape              Param #   \n",
      "=================================================================\n",
      "mobilenetv2_1.00_224 (Functi (None, 1280)              2257984   \n",
      "_________________________________________________________________\n",
      "dropout_2 (Dropout)          (None, 1280)              0         \n",
      "_________________________________________________________________\n",
      "dense_3 (Dense)              (None, 10)                12810     \n",
      "=================================================================\n",
      "Total params: 2,270,794\n",
      "Trainable params: 12,810\n",
      "Non-trainable params: 2,257,984\n",
      "_________________________________________________________________\n"
     ]
    }
   ],
   "source": [
    "model2.compile(loss='categorical_crossentropy', optimizer='adam', metrics=['accuracy',Precision(), Recall()])\n",
    "#Here we supply our training data to the mobilenet model.\n",
    "history2=model2.fit(x_train,y_train,batch_size=12, epochs=20,validation_split=0.3)\n",
    "model2.summary()"
   ]
  },
  {
   "cell_type": "code",
   "execution_count": 18,
   "metadata": {
    "id": "0pIR-gCNuESS"
   },
   "outputs": [
    {
     "name": "stdout",
     "output_type": "stream",
     "text": [
      "6/6 [==============================] - 2s 356ms/step - loss: 0.1448 - accuracy: 0.9760 - precision_1: 0.9812 - recall_1: 0.9401\n"
     ]
    },
    {
     "data": {
      "image/png": "[encoded data removed]",
      "text/plain": [
       "<Figure size 864x576 with 1 Axes>"
      ]
     },
     "metadata": {},
     "output_type": "display_data"
    }
   ],
   "source": [
    "loss,accuracy,precision,recall=model2.evaluate(x_test,y_test)\n",
    "sns.set_style('darkgrid')\n",
    "plt.figure(figsize=(12,8))\n",
    "plt.plot(history2.history['accuracy'])\n",
    "plt.plot(history2.history['val_accuracy'])\n",
    "plt.xlabel('Epochs')\n",
    "plt.ylabel('Accuracy score')\n",
    "plt.title('Model Accuracy')\n",
    "plt.legend(['Train','Test'])\n",
    "plt.show()"
   ]
  },
  {
   "cell_type": "code",
   "execution_count": 19,
   "metadata": {},
   "outputs": [
    {
     "data": {
      "image/png": "[encoded data removed]",
      "text/plain": [
       "<Figure size 864x576 with 1 Axes>"
      ]
     },
     "metadata": {},
     "output_type": "display_data"
    }
   ],
   "source": [
    "sns.set_style('darkgrid')\n",
    "plt.figure(figsize=(12,8))\n",
    "plt.plot(history2.history['precision_1'])\n",
    "plt.plot(history2.history['val_precision_1'])\n",
    "plt.xlabel('Epochs')\n",
    "plt.ylabel('Precision')\n",
    "plt.title('Model Precision')\n",
    "plt.legend(['Train','Test'])\n",
    "plt.show()"
   ]
  },
  {
   "cell_type": "code",
   "execution_count": 20,
   "metadata": {},
   "outputs": [
    {
     "data": {
      "image/png": "[encoded data removed]",
      "text/plain": [
       "<Figure size 864x576 with 1 Axes>"
      ]
     },
     "metadata": {},
     "output_type": "display_data"
    }
   ],
   "source": [
    "sns.set_style('darkgrid')\n",
    "plt.figure(figsize=(12,8))\n",
    "plt.plot(history2.history['recall_1'])\n",
    "plt.plot(history2.history['val_recall_1'])\n",
    "plt.xlabel('Epochs')\n",
    "plt.ylabel('Recall')\n",
    "plt.title('Model Recall')\n",
    "plt.legend(['Train','Test'])\n",
    "plt.show()"
   ]
  },
  {
   "cell_type": "code",
   "execution_count": 21,
   "metadata": {},
   "outputs": [
    {
     "name": "stdout",
     "output_type": "stream",
     "text": [
      "[0.37849462032318115, 0.8365591168403625, 0.9311828017234802, 0.9720430374145508, 0.9720430374145508, 0.9892473220825195, 0.9892473220825195, 0.9935483932495117, 1.0, 0.9978494644165039, 1.0, 1.0, 1.0, 1.0, 1.0, 1.0, 1.0, 1.0, 1.0, 0.9978494644165039]\n"
     ]
    }
   ],
   "source": [
    "print(history2.history['accuracy'])"
   ]
  },
  {
   "cell_type": "code",
   "execution_count": 22,
   "metadata": {},
   "outputs": [
    {
     "name": "stdout",
     "output_type": "stream",
     "text": [
      "\n",
      "Average Train Recall:\n",
      "0.9152688235044479\n",
      "\n",
      "Average Test Recall:\n",
      "0.9109999850392342\n"
     ]
    }
   ],
   "source": [
    "sumTrain = 0\n",
    "sumTest = 0\n",
    "for x in history2.history['recall_1']:\n",
    "    sumTrain += x\n",
    "    \n",
    "for x in history2.history['val_recall_1']:\n",
    "    sumTest += x\n",
    "\n",
    "print(\"\")\n",
    "print(\"Average Train Recall:\")\n",
    "print(sumTrain / len(history2.history['recall_1']))\n",
    "\n",
    "print(\"\")\n",
    "print(\"Average Test Recall:\")\n",
    "print(sumTest / len(history2.history['val_recall_1']))\n",
    "\n"
   ]
  },
  {
   "cell_type": "code",
   "execution_count": 23,
   "metadata": {},
   "outputs": [
    {
     "name": "stdout",
     "output_type": "stream",
     "text": [
      "\n",
      "Average Train Accuracy:\n",
      "0.9529032289981842\n",
      "\n",
      "Average Test Accuracy:\n",
      "0.9615000188350677\n"
     ]
    }
   ],
   "source": [
    "sumTrain = 0\n",
    "sumTest = 0\n",
    "for x in history2.history['accuracy']:\n",
    "    sumTrain += x\n",
    "    \n",
    "for x in history2.history['val_accuracy']:\n",
    "    sumTest += x\n",
    "\n",
    "print(\"\")\n",
    "print(\"Average Train Accuracy:\")\n",
    "print(sumTrain / len(history2.history['accuracy']))\n",
    "\n",
    "print(\"\")\n",
    "print(\"Average Test Accuracy:\")\n",
    "print(sumTest / len(history2.history['val_accuracy']))\n",
    "\n"
   ]
  },
  {
   "cell_type": "code",
   "execution_count": 24,
   "metadata": {},
   "outputs": [
    {
     "name": "stdout",
     "output_type": "stream",
     "text": [
      "\n",
      "Average Train Precision:\n",
      "0.9823248296976089\n",
      "\n",
      "Average Test Precision:\n",
      "0.981855645775795\n"
     ]
    }
   ],
   "source": [
    "sumTrain = 0\n",
    "sumTest = 0\n",
    "for x in history2.history['precision_1']:\n",
    "    sumTrain += x\n",
    "    \n",
    "for x in history2.history['val_precision_1']:\n",
    "    sumTest += x\n",
    "\n",
    "print(\"\")\n",
    "print(\"Average Train Precision:\")\n",
    "print(sumTrain / len(history2.history['precision_1']))\n",
    "\n",
    "print(\"\")\n",
    "print(\"Average Test Precision:\")\n",
    "print(sumTest / len(history2.history['val_precision_1']))\n",
    "\n"
   ]
  },
  {
   "cell_type": "code",
   "execution_count": null,
   "metadata": {},
   "outputs": [],
   "source": []
  }
 ],
 "metadata": {
  "colab": {
   "collapsed_sections": [],
   "name": "Untitled2.ipynb",
   "provenance": []
  },
  "kernelspec": {
   "display_name": "Python 3 (ipykernel)",
   "language": "python",
   "name": "python3"
  },
  "language_info": {
   "codemirror_mode": {
    "name": "ipython",
    "version": 3
   },
   "file_extension": ".py",
   "mimetype": "text/x-python",
   "name": "python",
   "nbconvert_exporter": "python",
   "pygments_lexer": "ipython3",
   "version": "3.9.7"
  }
 },
 "nbformat": 4,
 "nbformat_minor": 4
}

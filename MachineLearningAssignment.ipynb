{
 "cells": [
  {
   "cell_type": "code",
   "execution_count": 1,
   "metadata": {
    "id": "MVcPwFhvsch4"
   },
   "outputs": [],
   "source": [
    "# 18222757 Maciej Augustynek ,18244327 Bartlomiej Skorecki\n",
    "# Code executes till the end without errors\n",
    "# Original source : https://www.kaggle.com/esraamohamedahmed/classification-of-butterflies-images"
   ]
  },
  {
   "cell_type": "code",
   "execution_count": 2,
   "metadata": {
    "id": "EBh-8oBAtiV5"
   },
   "outputs": [],
   "source": [
    "# This Python 3 environment comes with many helpful analytics libraries installed\n",
    "# It is defined by the kaggle/python Docker image: https://github.com/kaggle/docker-python\n",
    "# For example, here's several helpful packages to load\n",
    "\n",
    "import numpy as np \n",
    "import pandas as pd\n",
    "import os\n",
    "from tensorflow.keras.metrics import Precision , Recall"
   ]
  },
  {
   "cell_type": "code",
   "execution_count": 3,
   "metadata": {
    "id": "oyK5dKektuTp"
   },
   "outputs": [],
   "source": [
    "import cv2\n",
    "path='./images/'\n",
    "file=os.listdir('./images/')\n",
    "features=[] #to store images\n",
    "labels=[] #to store labels\n",
    "for img in file:\n",
    "    # label=int(img) \n",
    "    label=int(img[:3]) #extracts label from the image file name\n",
    "    labels.append(label) #adds the found label to the list of labels\n",
    "    img_array=cv2.imread(os.path.join(path,img),cv2.IMREAD_COLOR)\n",
    "    #Resizes images into the size 220x220\n",
    "    img_array=cv2.resize(img_array,(220,220))\n",
    "    #stores images in the array\n",
    "    features.append(img_array)"
   ]
  },
  {
   "cell_type": "code",
   "execution_count": 4,
   "metadata": {
    "id": "EkIz7S2Ot4w4"
   },
   "outputs": [
    {
     "data": {
      "text/plain": [
       "['001.txt',\n",
       " '002.txt',\n",
       " '003.txt',\n",
       " '004.txt',\n",
       " '005.txt',\n",
       " '006.txt',\n",
       " '007.txt',\n",
       " '008.txt',\n",
       " '009.txt',\n",
       " '010.txt']"
      ]
     },
     "execution_count": 4,
     "metadata": {},
     "output_type": "execute_result"
    }
   ],
   "source": [
    "import os\n",
    "descrid_path='./descriptions'\n",
    "descrid=os.listdir('./descriptions')\n",
    "descrid"
   ]
  },
  {
   "cell_type": "code",
   "execution_count": 5,
   "metadata": {
    "id": "sNhJA5gEt5Gc"
   },
   "outputs": [],
   "source": [
    "#Creating a list of butterfly types\n",
    "dict_1={'001': 'Danaus_plexippus', '002': 'Heliconius_charitonius', '003': 'Heliconius_erato', '004': 'Junonia_coenia', '005': 'Lycaena_phlaeas', '006': 'Nymphalis_antiopa', '007': 'Papilio_cresphontes', '008': 'Pieris_rapae', '009': 'Vanessa_atalanta', '0010': 'Vanessa_cardui'} "
   ]
  },
  {
   "cell_type": "code",
   "execution_count": 6,
   "metadata": {
    "id": "p9QAUoPQt5IQ"
   },
   "outputs": [
    {
     "name": "stdout",
     "output_type": "stream",
     "text": [
      "{1, 2, 3, 4, 5, 6, 7, 8, 9, 10}\n",
      "{'Pieris_rapae', 'Heliconius_charitonius', 'Lycaena_phlaeas', 'Papilio_cresphontes', 'Danaus_plexippus', 'Vanessa_cardui', 'Junonia_coenia', 'Nymphalis_antiopa', 'Heliconius_erato', 'Vanessa_atalanta'}\n"
     ]
    }
   ],
   "source": [
    "print(set(labels))\n",
    "list_labels=[]\n",
    "#We add labels to a set for each image in the dataset. We will use this list later to assign the labels to the images.\n",
    "for i in labels:\n",
    "    new_label=dict_1['00'+str(i)]\n",
    "    list_labels.append(new_label)\n",
    "#Printed unique labels from the labels added\n",
    "print(set(list_labels)) "
   ]
  },
  {
   "cell_type": "code",
   "execution_count": 7,
   "metadata": {
    "id": "7BUvaHZwt5KE"
   },
   "outputs": [
    {
     "name": "stdout",
     "output_type": "stream",
     "text": [
      "(832, 220, 220, 3)\n"
     ]
    }
   ],
   "source": [
    "import numpy as np\n",
    "#We change the 220x220 images into a numpy array to make it easier for them to work with the model\n",
    "features=np.array(features)\n",
    "#Normalising the images\n",
    "features=features/255.0\n",
    "features=features.reshape(-1,220,220,3)\n",
    "print(features.shape)"
   ]
  },
  {
   "cell_type": "code",
   "execution_count": 8,
   "metadata": {
    "id": "De2ihj3_t5SG"
   },
   "outputs": [],
   "source": [
    "#OneHotEncoding:To deal with categorical values we need to preprocess it using onehot ecnoding\n",
    "from sklearn.preprocessing import OneHotEncoder,LabelEncoder\n",
    "#One hot encoding coverts our labels so they can be processed by the ML model better to get a better prediction\n",
    "le=LabelEncoder()\n",
    "#Fits our labels into the LabelEncoder and returns the transformed data\n",
    "y=le.fit_transform(list_labels)\n",
    "from tensorflow.keras.utils import to_categorical\n",
    "#Needs to be changed to to_categorical since we have more than 2 classes to be identified\n",
    "y=to_categorical(y)"
   ]
  },
  {
   "cell_type": "code",
   "execution_count": 9,
   "metadata": {
    "id": "kBQn7MdGt5T7"
   },
   "outputs": [],
   "source": [
    "from sklearn.model_selection import train_test_split\n",
    "#Splits our data into our training and test dataset. Our test data is 20% of the overall data and training data is 80%\n",
    "x_train,x_test,y_train,y_test=train_test_split(features,y,random_state=11,test_size=0.2)"
   ]
  },
  {
   "cell_type": "code",
   "execution_count": 10,
   "metadata": {
    "id": "ztrKG8a-t_2g"
   },
   "outputs": [],
   "source": [
    "from tensorflow.keras.layers import (\n",
    "    BatchNormalization, Conv2D, MaxPooling2D, Activation, Flatten, Dropout, Dense\n",
    ")\n",
    "from tensorflow.keras.models import Sequential\n",
    "from tensorflow.keras.optimizers import Adam\n",
    "from tensorflow.keras.regularizers import l2,l1\n",
    "\n",
    "#Building the model\n",
    "model = Sequential() # Allows us to create multiple layers to use a CNN structure\n",
    "model.add(Conv2D(32, (3,3), padding=\"same\", activation = 'relu', kernel_regularizer=l2(0.0002) , input_shape=(220,220,3)))\n",
    "model.add(MaxPooling2D((3,3)))\n",
    "model.add(BatchNormalization())\n",
    "\n",
    "model.add(Conv2D(32, (5, 5), activation='relu', kernel_regularizer=l1(0.0002))) \n",
    "model.add(MaxPooling2D((3,3)))\n",
    "model.add(BatchNormalization())\n",
    "\n",
    "model.add(Conv2D(64, (3, 3), activation='relu', kernel_regularizer=l2(0.0002))) \n",
    "model.add(MaxPooling2D((2, 2)))\n",
    "model.add(BatchNormalization())\n",
    "\n",
    "model.add(Conv2D(128, (3, 3), activation='relu', kernel_regularizer=l2(0.0002))) \n",
    "model.add(MaxPooling2D((2, 2)))\n",
    "model.add(BatchNormalization())\n",
    "\n",
    "model.add(Conv2D(128, (3, 3), activation='relu' , kernel_regularizer=l2(0.0002))) \n",
    "model.add(MaxPooling2D((2, 2)))\n",
    "model.add(BatchNormalization())\n",
    "\n",
    "model.add(Flatten())\n",
    "# Dropout layer used to help reduce overfitting\n",
    "model.add(Dropout(0.3))\n",
    "model.add(Dense(100, activation='relu'))\n",
    "\n",
    "# Output layer have 10 labels \n",
    "model.add(Dense(10, activation='softmax'))"
   ]
  },
  {
   "cell_type": "code",
   "execution_count": 11,
   "metadata": {
    "id": "iar8DH8Ht_4Q"
   },
   "outputs": [
    {
     "name": "stdout",
     "output_type": "stream",
     "text": [
      "Epoch 1/50\n",
      "45/45 [==============================] - 8s 152ms/step - loss: 1.9509 - accuracy: 0.4004 - precision: 0.5514 - recall: 0.2218 - val_loss: 2.4959 - val_accuracy: 0.1504 - val_precision: 0.0000e+00 - val_recall: 0.0000e+00\n",
      "Epoch 2/50\n",
      "45/45 [==============================] - 7s 145ms/step - loss: 1.0901 - accuracy: 0.7105 - precision: 0.8746 - recall: 0.5376 - val_loss: 2.7280 - val_accuracy: 0.1805 - val_precision: 0.0000e+00 - val_recall: 0.0000e+00\n",
      "Epoch 3/50\n",
      "45/45 [==============================] - 6s 145ms/step - loss: 0.7365 - accuracy: 0.8477 - precision: 0.9151 - recall: 0.7500 - val_loss: 3.0924 - val_accuracy: 0.1654 - val_precision: 0.0857 - val_recall: 0.0451\n",
      "Epoch 4/50\n",
      "45/45 [==============================] - 7s 146ms/step - loss: 0.5687 - accuracy: 0.8929 - precision: 0.9450 - recall: 0.8402 - val_loss: 3.5101 - val_accuracy: 0.2331 - val_precision: 0.0980 - val_recall: 0.0376\n",
      "Epoch 5/50\n",
      "45/45 [==============================] - 7s 147ms/step - loss: 0.5204 - accuracy: 0.9023 - precision: 0.9408 - recall: 0.8665 - val_loss: 2.7546 - val_accuracy: 0.1579 - val_precision: 0.3438 - val_recall: 0.0827\n",
      "Epoch 6/50\n",
      "45/45 [==============================] - 7s 147ms/step - loss: 0.4326 - accuracy: 0.9380 - precision: 0.9546 - recall: 0.9098 - val_loss: 2.7324 - val_accuracy: 0.1729 - val_precision: 0.1831 - val_recall: 0.0977\n",
      "Epoch 7/50\n",
      "45/45 [==============================] - 6s 143ms/step - loss: 0.3869 - accuracy: 0.9530 - precision: 0.9632 - recall: 0.9361 - val_loss: 2.7941 - val_accuracy: 0.2707 - val_precision: 0.2574 - val_recall: 0.1955\n",
      "Epoch 8/50\n",
      "45/45 [==============================] - 7s 146ms/step - loss: 0.3946 - accuracy: 0.9492 - precision: 0.9670 - recall: 0.9361 - val_loss: 2.1688 - val_accuracy: 0.4135 - val_precision: 0.4224 - val_recall: 0.3684\n",
      "Epoch 9/50\n",
      "45/45 [==============================] - 6s 144ms/step - loss: 0.3024 - accuracy: 0.9737 - precision: 0.9808 - recall: 0.9605 - val_loss: 1.3208 - val_accuracy: 0.6316 - val_precision: 0.7115 - val_recall: 0.5564\n",
      "Epoch 10/50\n",
      "45/45 [==============================] - 7s 150ms/step - loss: 0.2805 - accuracy: 0.9793 - precision: 0.9867 - recall: 0.9774 - val_loss: 1.0774 - val_accuracy: 0.6917 - val_precision: 0.7627 - val_recall: 0.6767\n",
      "Epoch 11/50\n",
      "45/45 [==============================] - 7s 150ms/step - loss: 0.2484 - accuracy: 0.9906 - precision: 0.9924 - recall: 0.9868 - val_loss: 0.7551 - val_accuracy: 0.8045 - val_precision: 0.8455 - val_recall: 0.7820\n",
      "Epoch 12/50\n",
      "45/45 [==============================] - 7s 150ms/step - loss: 0.2490 - accuracy: 0.9887 - precision: 0.9906 - recall: 0.9868 - val_loss: 1.2709 - val_accuracy: 0.7444 - val_precision: 0.7734 - val_recall: 0.7444\n",
      "Epoch 13/50\n",
      "45/45 [==============================] - 7s 148ms/step - loss: 0.2469 - accuracy: 0.9812 - precision: 0.9830 - recall: 0.9793 - val_loss: 0.7918 - val_accuracy: 0.8120 - val_precision: 0.8217 - val_recall: 0.7970\n",
      "Epoch 14/50\n",
      "45/45 [==============================] - 7s 152ms/step - loss: 0.2303 - accuracy: 0.9850 - precision: 0.9868 - recall: 0.9850 - val_loss: 0.5902 - val_accuracy: 0.8947 - val_precision: 0.9200 - val_recall: 0.8647\n",
      "Epoch 15/50\n",
      "45/45 [==============================] - 7s 157ms/step - loss: 0.2256 - accuracy: 0.9944 - precision: 0.9962 - recall: 0.9868 - val_loss: 0.5078 - val_accuracy: 0.8947 - val_precision: 0.9219 - val_recall: 0.8872\n",
      "Epoch 16/50\n",
      "45/45 [==============================] - 6s 144ms/step - loss: 0.2516 - accuracy: 0.9774 - precision: 0.9810 - recall: 0.9718 - val_loss: 0.5219 - val_accuracy: 0.8947 - val_precision: 0.9077 - val_recall: 0.8872\n",
      "Epoch 17/50\n",
      "45/45 [==============================] - 6s 141ms/step - loss: 0.3702 - accuracy: 0.9323 - precision: 0.9443 - recall: 0.9248 - val_loss: 0.7283 - val_accuracy: 0.8496 - val_precision: 0.8871 - val_recall: 0.8271\n",
      "Epoch 18/50\n",
      "45/45 [==============================] - 6s 141ms/step - loss: 0.3149 - accuracy: 0.9643 - precision: 0.9732 - recall: 0.9549 - val_loss: 0.6692 - val_accuracy: 0.8647 - val_precision: 0.8760 - val_recall: 0.8496\n",
      "Epoch 19/50\n",
      "45/45 [==============================] - 6s 142ms/step - loss: 0.2512 - accuracy: 0.9887 - precision: 0.9924 - recall: 0.9756 - val_loss: 0.5685 - val_accuracy: 0.9023 - val_precision: 0.9077 - val_recall: 0.8872\n",
      "Epoch 20/50\n",
      "45/45 [==============================] - 6s 142ms/step - loss: 0.2650 - accuracy: 0.9793 - precision: 0.9848 - recall: 0.9756 - val_loss: 0.7408 - val_accuracy: 0.8722 - val_precision: 0.8906 - val_recall: 0.8571\n",
      "Epoch 21/50\n",
      "45/45 [==============================] - 6s 142ms/step - loss: 0.2237 - accuracy: 0.9831 - precision: 0.9886 - recall: 0.9812 - val_loss: 0.6361 - val_accuracy: 0.8872 - val_precision: 0.8864 - val_recall: 0.8797\n",
      "Epoch 22/50\n",
      "45/45 [==============================] - 6s 143ms/step - loss: 0.2063 - accuracy: 0.9906 - precision: 0.9925 - recall: 0.9887 - val_loss: 0.5123 - val_accuracy: 0.9323 - val_precision: 0.9462 - val_recall: 0.9248\n",
      "Epoch 23/50\n",
      "45/45 [==============================] - 6s 142ms/step - loss: 0.2061 - accuracy: 0.9944 - precision: 0.9962 - recall: 0.9925 - val_loss: 0.5222 - val_accuracy: 0.9023 - val_precision: 0.9141 - val_recall: 0.8797\n",
      "Epoch 24/50\n",
      "45/45 [==============================] - 6s 143ms/step - loss: 0.1904 - accuracy: 0.9981 - precision: 1.0000 - recall: 0.9944 - val_loss: 0.4269 - val_accuracy: 0.9323 - val_precision: 0.9385 - val_recall: 0.9173\n",
      "Epoch 25/50\n",
      "45/45 [==============================] - 7s 145ms/step - loss: 0.2094 - accuracy: 0.9906 - precision: 0.9906 - recall: 0.9906 - val_loss: 0.6873 - val_accuracy: 0.8195 - val_precision: 0.8651 - val_recall: 0.8195\n",
      "Epoch 26/50\n",
      "45/45 [==============================] - 7s 146ms/step - loss: 0.1937 - accuracy: 0.9944 - precision: 0.9962 - recall: 0.9944 - val_loss: 0.4852 - val_accuracy: 0.9098 - val_precision: 0.9297 - val_recall: 0.8947\n",
      "Epoch 27/50\n",
      "45/45 [==============================] - 7s 145ms/step - loss: 0.2854 - accuracy: 0.9680 - precision: 0.9699 - recall: 0.9680 - val_loss: 0.6955 - val_accuracy: 0.8722 - val_precision: 0.8846 - val_recall: 0.8647\n",
      "Epoch 28/50\n",
      "45/45 [==============================] - 7s 152ms/step - loss: 0.2787 - accuracy: 0.9662 - precision: 0.9715 - recall: 0.9605 - val_loss: 0.7153 - val_accuracy: 0.8872 - val_precision: 0.9200 - val_recall: 0.8647\n",
      "Epoch 29/50\n",
      "45/45 [==============================] - 7s 155ms/step - loss: 0.3688 - accuracy: 0.9436 - precision: 0.9505 - recall: 0.9380 - val_loss: 0.8950 - val_accuracy: 0.8195 - val_precision: 0.8308 - val_recall: 0.8120\n",
      "Epoch 30/50\n",
      "45/45 [==============================] - 7s 153ms/step - loss: 0.2452 - accuracy: 0.9793 - precision: 0.9867 - recall: 0.9793 - val_loss: 0.5470 - val_accuracy: 0.8872 - val_precision: 0.8915 - val_recall: 0.8647\n",
      "Epoch 31/50\n",
      "45/45 [==============================] - 7s 149ms/step - loss: 0.2187 - accuracy: 0.9850 - precision: 0.9886 - recall: 0.9812 - val_loss: 0.5916 - val_accuracy: 0.8872 - val_precision: 0.8939 - val_recall: 0.8872\n",
      "Epoch 32/50\n",
      "45/45 [==============================] - 7s 150ms/step - loss: 0.2219 - accuracy: 0.9850 - precision: 0.9886 - recall: 0.9812 - val_loss: 0.4755 - val_accuracy: 0.9398 - val_precision: 0.9535 - val_recall: 0.9248\n",
      "Epoch 33/50\n",
      "45/45 [==============================] - 7s 151ms/step - loss: 0.1926 - accuracy: 0.9944 - precision: 0.9981 - recall: 0.9925 - val_loss: 0.5586 - val_accuracy: 0.9173 - val_precision: 0.9225 - val_recall: 0.8947\n",
      "Epoch 34/50\n",
      "45/45 [==============================] - 7s 150ms/step - loss: 0.1877 - accuracy: 0.9962 - precision: 0.9962 - recall: 0.9944 - val_loss: 0.5225 - val_accuracy: 0.9173 - val_precision: 0.9147 - val_recall: 0.8872\n",
      "Epoch 35/50\n",
      "45/45 [==============================] - 7s 150ms/step - loss: 0.1800 - accuracy: 0.9981 - precision: 0.9981 - recall: 0.9981 - val_loss: 0.4544 - val_accuracy: 0.9248 - val_precision: 0.9302 - val_recall: 0.9023\n",
      "Epoch 36/50\n",
      "45/45 [==============================] - 7s 150ms/step - loss: 0.1680 - accuracy: 1.0000 - precision: 1.0000 - recall: 1.0000 - val_loss: 0.4471 - val_accuracy: 0.9549 - val_precision: 0.9618 - val_recall: 0.9474\n",
      "Epoch 37/50\n"
     ]
    },
    {
     "name": "stdout",
     "output_type": "stream",
     "text": [
      "45/45 [==============================] - 7s 149ms/step - loss: 0.1671 - accuracy: 0.9981 - precision: 0.9981 - recall: 0.9981 - val_loss: 0.4002 - val_accuracy: 0.9474 - val_precision: 0.9690 - val_recall: 0.9398\n",
      "Epoch 38/50\n",
      "45/45 [==============================] - 7s 151ms/step - loss: 0.1713 - accuracy: 0.9962 - precision: 0.9981 - recall: 0.9962 - val_loss: 0.4766 - val_accuracy: 0.9098 - val_precision: 0.9520 - val_recall: 0.8947\n",
      "Epoch 39/50\n",
      "45/45 [==============================] - 7s 149ms/step - loss: 0.1982 - accuracy: 0.9887 - precision: 0.9887 - recall: 0.9887 - val_loss: 0.6738 - val_accuracy: 0.8571 - val_precision: 0.8760 - val_recall: 0.8496\n",
      "Epoch 40/50\n",
      "45/45 [==============================] - 7s 149ms/step - loss: 0.3305 - accuracy: 0.9361 - precision: 0.9481 - recall: 0.9267 - val_loss: 1.6944 - val_accuracy: 0.7519 - val_precision: 0.7717 - val_recall: 0.7368\n",
      "Epoch 41/50\n",
      "45/45 [==============================] - 7s 149ms/step - loss: 0.2983 - accuracy: 0.9605 - precision: 0.9659 - recall: 0.9586 - val_loss: 1.0639 - val_accuracy: 0.8195 - val_precision: 0.8425 - val_recall: 0.8045\n",
      "Epoch 42/50\n",
      "45/45 [==============================] - 7s 149ms/step - loss: 0.2280 - accuracy: 0.9868 - precision: 0.9887 - recall: 0.9850 - val_loss: 0.9644 - val_accuracy: 0.8271 - val_precision: 0.8583 - val_recall: 0.8195\n",
      "Epoch 43/50\n",
      "45/45 [==============================] - 7s 148ms/step - loss: 0.2045 - accuracy: 0.9944 - precision: 0.9943 - recall: 0.9906 - val_loss: 0.6694 - val_accuracy: 0.8797 - val_precision: 0.8915 - val_recall: 0.8647\n",
      "Epoch 44/50\n",
      "45/45 [==============================] - 7s 149ms/step - loss: 0.2217 - accuracy: 0.9831 - precision: 0.9830 - recall: 0.9793 - val_loss: 0.7392 - val_accuracy: 0.8647 - val_precision: 0.8760 - val_recall: 0.8496\n",
      "Epoch 45/50\n",
      "45/45 [==============================] - 7s 149ms/step - loss: 0.2236 - accuracy: 0.9756 - precision: 0.9848 - recall: 0.9718 - val_loss: 0.6446 - val_accuracy: 0.8722 - val_precision: 0.8976 - val_recall: 0.8571\n",
      "Epoch 46/50\n",
      "45/45 [==============================] - 7s 150ms/step - loss: 0.2119 - accuracy: 0.9812 - precision: 0.9849 - recall: 0.9812 - val_loss: 0.5902 - val_accuracy: 0.8797 - val_precision: 0.8992 - val_recall: 0.8722\n",
      "Epoch 47/50\n",
      "45/45 [==============================] - 7s 149ms/step - loss: 0.2135 - accuracy: 0.9850 - precision: 0.9868 - recall: 0.9850 - val_loss: 0.5982 - val_accuracy: 0.8722 - val_precision: 0.8984 - val_recall: 0.8647\n",
      "Epoch 48/50\n",
      "45/45 [==============================] - 7s 148ms/step - loss: 0.2048 - accuracy: 0.9887 - precision: 0.9925 - recall: 0.9887 - val_loss: 0.8795 - val_accuracy: 0.8195 - val_precision: 0.8231 - val_recall: 0.8045\n",
      "Epoch 49/50\n",
      "45/45 [==============================] - 7s 148ms/step - loss: 0.1995 - accuracy: 0.9831 - precision: 0.9831 - recall: 0.9831 - val_loss: 0.6921 - val_accuracy: 0.8571 - val_precision: 0.8828 - val_recall: 0.8496\n",
      "Epoch 50/50\n",
      "45/45 [==============================] - 7s 148ms/step - loss: 0.2314 - accuracy: 0.9774 - precision: 0.9774 - recall: 0.9756 - val_loss: 0.8674 - val_accuracy: 0.8195 - val_precision: 0.8359 - val_recall: 0.8045\n"
     ]
    }
   ],
   "source": [
    "model.compile(optimizer='adam'\n",
    "              ,metrics=['accuracy',Precision(), Recall()],loss='categorical_crossentropy')\n",
    "history=model.fit(x_train,y_train,batch_size=12,epochs=50,validation_split=0.2)"
   ]
  },
  {
   "cell_type": "code",
   "execution_count": 12,
   "metadata": {
    "id": "UbCOPYuct_51"
   },
   "outputs": [
    {
     "data": {
      "image/png": "[encoded data removed]",
      "text/plain": [
       "<Figure size 864x576 with 1 Axes>"
      ]
     },
     "metadata": {},
     "output_type": "display_data"
    }
   ],
   "source": [
    "import matplotlib.pyplot as plt\n",
    "import seaborn as sns\n",
    "sns.set_style('whitegrid')\n",
    "plt.figure(figsize=(12,8))\n",
    "plt.plot(history.history['accuracy'])\n",
    "plt.plot(history.history['val_accuracy'])\n",
    "plt.xlabel('Epochs')\n",
    "plt.ylabel('Accuracy score')\n",
    "plt.title('Model Accuracy')\n",
    "plt.legend(['Train','Test'])\n",
    "plt.show()"
   ]
  },
  {
   "cell_type": "code",
   "execution_count": 13,
   "metadata": {
    "id": "9ALJnIz2t_7x"
   },
   "outputs": [
    {
     "name": "stdout",
     "output_type": "stream",
     "text": [
      "6/6 [==============================] - 0s 67ms/step - loss: 1.0455 - accuracy: 0.8024 - precision: 0.8397 - recall: 0.7844\n"
     ]
    }
   ],
   "source": [
    "loss,accuracy,precision,recall=model.evaluate(x_test,y_test)"
   ]
  },
  {
   "cell_type": "code",
   "execution_count": 14,
   "metadata": {
    "id": "51e9xMjft_9t"
   },
   "outputs": [
    {
     "name": "stdout",
     "output_type": "stream",
     "text": [
      "WARNING:tensorflow:`input_shape` is undefined or non-square, or `rows` is not in [96, 128, 160, 192, 224]. Weights for input shape (224, 224) will be loaded as the default.\n",
      "Model: \"mobilenetv2_1.00_224\"\n",
      "__________________________________________________________________________________________________\n",
      "Layer (type)                    Output Shape         Param #     Connected to                     \n",
      "==================================================================================================\n",
      "input_1 (InputLayer)            [(None, 220, 220, 3) 0                                            \n",
      "__________________________________________________________________________________________________\n",
      "Conv1 (Conv2D)                  (None, 110, 110, 32) 864         input_1[0][0]                    \n",
      "__________________________________________________________________________________________________\n",
      "bn_Conv1 (BatchNormalization)   (None, 110, 110, 32) 128         Conv1[0][0]                      \n",
      "__________________________________________________________________________________________________\n",
      "Conv1_relu (ReLU)               (None, 110, 110, 32) 0           bn_Conv1[0][0]                   \n",
      "__________________________________________________________________________________________________\n",
      "expanded_conv_depthwise (Depthw (None, 110, 110, 32) 288         Conv1_relu[0][0]                 \n",
      "__________________________________________________________________________________________________\n",
      "expanded_conv_depthwise_BN (Bat (None, 110, 110, 32) 128         expanded_conv_depthwise[0][0]    \n",
      "__________________________________________________________________________________________________\n",
      "expanded_conv_depthwise_relu (R (None, 110, 110, 32) 0           expanded_conv_depthwise_BN[0][0] \n",
      "__________________________________________________________________________________________________\n",
      "expanded_conv_project (Conv2D)  (None, 110, 110, 16) 512         expanded_conv_depthwise_relu[0][0\n",
      "__________________________________________________________________________________________________\n",
      "expanded_conv_project_BN (Batch (None, 110, 110, 16) 64          expanded_conv_project[0][0]      \n",
      "__________________________________________________________________________________________________\n",
      "block_1_expand (Conv2D)         (None, 110, 110, 96) 1536        expanded_conv_project_BN[0][0]   \n",
      "__________________________________________________________________________________________________\n",
      "block_1_expand_BN (BatchNormali (None, 110, 110, 96) 384         block_1_expand[0][0]             \n",
      "__________________________________________________________________________________________________\n",
      "block_1_expand_relu (ReLU)      (None, 110, 110, 96) 0           block_1_expand_BN[0][0]          \n",
      "__________________________________________________________________________________________________\n",
      "block_1_pad (ZeroPadding2D)     (None, 111, 111, 96) 0           block_1_expand_relu[0][0]        \n",
      "__________________________________________________________________________________________________\n",
      "block_1_depthwise (DepthwiseCon (None, 55, 55, 96)   864         block_1_pad[0][0]                \n",
      "__________________________________________________________________________________________________\n",
      "block_1_depthwise_BN (BatchNorm (None, 55, 55, 96)   384         block_1_depthwise[0][0]          \n",
      "__________________________________________________________________________________________________\n",
      "block_1_depthwise_relu (ReLU)   (None, 55, 55, 96)   0           block_1_depthwise_BN[0][0]       \n",
      "__________________________________________________________________________________________________\n",
      "block_1_project (Conv2D)        (None, 55, 55, 24)   2304        block_1_depthwise_relu[0][0]     \n",
      "__________________________________________________________________________________________________\n",
      "block_1_project_BN (BatchNormal (None, 55, 55, 24)   96          block_1_project[0][0]            \n",
      "__________________________________________________________________________________________________\n",
      "block_2_expand (Conv2D)         (None, 55, 55, 144)  3456        block_1_project_BN[0][0]         \n",
      "__________________________________________________________________________________________________\n",
      "block_2_expand_BN (BatchNormali (None, 55, 55, 144)  576         block_2_expand[0][0]             \n",
      "__________________________________________________________________________________________________\n",
      "block_2_expand_relu (ReLU)      (None, 55, 55, 144)  0           block_2_expand_BN[0][0]          \n",
      "__________________________________________________________________________________________________\n",
      "block_2_depthwise (DepthwiseCon (None, 55, 55, 144)  1296        block_2_expand_relu[0][0]        \n",
      "__________________________________________________________________________________________________\n",
      "block_2_depthwise_BN (BatchNorm (None, 55, 55, 144)  576         block_2_depthwise[0][0]          \n",
      "__________________________________________________________________________________________________\n",
      "block_2_depthwise_relu (ReLU)   (None, 55, 55, 144)  0           block_2_depthwise_BN[0][0]       \n",
      "__________________________________________________________________________________________________\n",
      "block_2_project (Conv2D)        (None, 55, 55, 24)   3456        block_2_depthwise_relu[0][0]     \n",
      "__________________________________________________________________________________________________\n",
      "block_2_project_BN (BatchNormal (None, 55, 55, 24)   96          block_2_project[0][0]            \n",
      "__________________________________________________________________________________________________\n",
      "block_2_add (Add)               (None, 55, 55, 24)   0           block_1_project_BN[0][0]         \n",
      "                                                                 block_2_project_BN[0][0]         \n",
      "__________________________________________________________________________________________________\n",
      "block_3_expand (Conv2D)         (None, 55, 55, 144)  3456        block_2_add[0][0]                \n",
      "__________________________________________________________________________________________________\n",
      "block_3_expand_BN (BatchNormali (None, 55, 55, 144)  576         block_3_expand[0][0]             \n",
      "__________________________________________________________________________________________________\n",
      "block_3_expand_relu (ReLU)      (None, 55, 55, 144)  0           block_3_expand_BN[0][0]          \n",
      "__________________________________________________________________________________________________\n",
      "block_3_pad (ZeroPadding2D)     (None, 57, 57, 144)  0           block_3_expand_relu[0][0]        \n",
      "__________________________________________________________________________________________________\n",
      "block_3_depthwise (DepthwiseCon (None, 28, 28, 144)  1296        block_3_pad[0][0]                \n",
      "__________________________________________________________________________________________________\n",
      "block_3_depthwise_BN (BatchNorm (None, 28, 28, 144)  576         block_3_depthwise[0][0]          \n",
      "__________________________________________________________________________________________________\n",
      "block_3_depthwise_relu (ReLU)   (None, 28, 28, 144)  0           block_3_depthwise_BN[0][0]       \n",
      "__________________________________________________________________________________________________\n",
      "block_3_project (Conv2D)        (None, 28, 28, 32)   4608        block_3_depthwise_relu[0][0]     \n",
      "__________________________________________________________________________________________________\n",
      "block_3_project_BN (BatchNormal (None, 28, 28, 32)   128         block_3_project[0][0]            \n",
      "__________________________________________________________________________________________________\n",
      "block_4_expand (Conv2D)         (None, 28, 28, 192)  6144        block_3_project_BN[0][0]         \n",
      "__________________________________________________________________________________________________\n",
      "block_4_expand_BN (BatchNormali (None, 28, 28, 192)  768         block_4_expand[0][0]             \n",
      "__________________________________________________________________________________________________\n",
      "block_4_expand_relu (ReLU)      (None, 28, 28, 192)  0           block_4_expand_BN[0][0]          \n",
      "__________________________________________________________________________________________________\n",
      "block_4_depthwise (DepthwiseCon (None, 28, 28, 192)  1728        block_4_expand_relu[0][0]        \n",
      "__________________________________________________________________________________________________\n",
      "block_4_depthwise_BN (BatchNorm (None, 28, 28, 192)  768         block_4_depthwise[0][0]          \n",
      "__________________________________________________________________________________________________\n",
      "block_4_depthwise_relu (ReLU)   (None, 28, 28, 192)  0           block_4_depthwise_BN[0][0]       \n",
      "__________________________________________________________________________________________________\n",
      "block_4_project (Conv2D)        (None, 28, 28, 32)   6144        block_4_depthwise_relu[0][0]     \n",
      "__________________________________________________________________________________________________\n",
      "block_4_project_BN (BatchNormal (None, 28, 28, 32)   128         block_4_project[0][0]            \n",
      "__________________________________________________________________________________________________\n",
      "block_4_add (Add)               (None, 28, 28, 32)   0           block_3_project_BN[0][0]         \n",
      "                                                                 block_4_project_BN[0][0]         \n",
      "__________________________________________________________________________________________________\n",
      "block_5_expand (Conv2D)         (None, 28, 28, 192)  6144        block_4_add[0][0]                \n",
      "__________________________________________________________________________________________________\n",
      "block_5_expand_BN (BatchNormali (None, 28, 28, 192)  768         block_5_expand[0][0]             \n",
      "__________________________________________________________________________________________________\n",
      "block_5_expand_relu (ReLU)      (None, 28, 28, 192)  0           block_5_expand_BN[0][0]          \n",
      "__________________________________________________________________________________________________\n",
      "block_5_depthwise (DepthwiseCon (None, 28, 28, 192)  1728        block_5_expand_relu[0][0]        \n",
      "__________________________________________________________________________________________________\n",
      "block_5_depthwise_BN (BatchNorm (None, 28, 28, 192)  768         block_5_depthwise[0][0]          \n",
      "__________________________________________________________________________________________________\n",
      "block_5_depthwise_relu (ReLU)   (None, 28, 28, 192)  0           block_5_depthwise_BN[0][0]       \n",
      "__________________________________________________________________________________________________\n",
      "block_5_project (Conv2D)        (None, 28, 28, 32)   6144        block_5_depthwise_relu[0][0]     \n",
      "__________________________________________________________________________________________________\n",
      "block_5_project_BN (BatchNormal (None, 28, 28, 32)   128         block_5_project[0][0]            \n",
      "__________________________________________________________________________________________________\n",
      "block_5_add (Add)               (None, 28, 28, 32)   0           block_4_add[0][0]                \n",
      "                                                                 block_5_project_BN[0][0]         \n",
      "__________________________________________________________________________________________________\n",
      "block_6_expand (Conv2D)         (None, 28, 28, 192)  6144        block_5_add[0][0]                \n",
      "__________________________________________________________________________________________________\n",
      "block_6_expand_BN (BatchNormali (None, 28, 28, 192)  768         block_6_expand[0][0]             \n",
      "__________________________________________________________________________________________________\n",
      "block_6_expand_relu (ReLU)      (None, 28, 28, 192)  0           block_6_expand_BN[0][0]          \n",
      "__________________________________________________________________________________________________\n",
      "block_6_pad (ZeroPadding2D)     (None, 29, 29, 192)  0           block_6_expand_relu[0][0]        \n",
      "__________________________________________________________________________________________________\n",
      "block_6_depthwise (DepthwiseCon (None, 14, 14, 192)  1728        block_6_pad[0][0]                \n",
      "__________________________________________________________________________________________________\n",
      "block_6_depthwise_BN (BatchNorm (None, 14, 14, 192)  768         block_6_depthwise[0][0]          \n",
      "__________________________________________________________________________________________________\n",
      "block_6_depthwise_relu (ReLU)   (None, 14, 14, 192)  0           block_6_depthwise_BN[0][0]       \n",
      "__________________________________________________________________________________________________\n",
      "block_6_project (Conv2D)        (None, 14, 14, 64)   12288       block_6_depthwise_relu[0][0]     \n",
      "__________________________________________________________________________________________________\n",
      "block_6_project_BN (BatchNormal (None, 14, 14, 64)   256         block_6_project[0][0]            \n",
      "__________________________________________________________________________________________________\n",
      "block_7_expand (Conv2D)         (None, 14, 14, 384)  24576       block_6_project_BN[0][0]         \n",
      "__________________________________________________________________________________________________\n",
      "block_7_expand_BN (BatchNormali (None, 14, 14, 384)  1536        block_7_expand[0][0]             \n",
      "__________________________________________________________________________________________________\n",
      "block_7_expand_relu (ReLU)      (None, 14, 14, 384)  0           block_7_expand_BN[0][0]          \n",
      "__________________________________________________________________________________________________\n",
      "block_7_depthwise (DepthwiseCon (None, 14, 14, 384)  3456        block_7_expand_relu[0][0]        \n",
      "__________________________________________________________________________________________________\n",
      "block_7_depthwise_BN (BatchNorm (None, 14, 14, 384)  1536        block_7_depthwise[0][0]          \n",
      "__________________________________________________________________________________________________\n",
      "block_7_depthwise_relu (ReLU)   (None, 14, 14, 384)  0           block_7_depthwise_BN[0][0]       \n",
      "__________________________________________________________________________________________________\n",
      "block_7_project (Conv2D)        (None, 14, 14, 64)   24576       block_7_depthwise_relu[0][0]     \n",
      "__________________________________________________________________________________________________\n",
      "block_7_project_BN (BatchNormal (None, 14, 14, 64)   256         block_7_project[0][0]            \n",
      "__________________________________________________________________________________________________\n",
      "block_7_add (Add)               (None, 14, 14, 64)   0           block_6_project_BN[0][0]         \n",
      "                                                                 block_7_project_BN[0][0]         \n",
      "__________________________________________________________________________________________________\n",
      "block_8_expand (Conv2D)         (None, 14, 14, 384)  24576       block_7_add[0][0]                \n",
      "__________________________________________________________________________________________________\n",
      "block_8_expand_BN (BatchNormali (None, 14, 14, 384)  1536        block_8_expand[0][0]             \n",
      "__________________________________________________________________________________________________\n",
      "block_8_expand_relu (ReLU)      (None, 14, 14, 384)  0           block_8_expand_BN[0][0]          \n",
      "__________________________________________________________________________________________________\n",
      "block_8_depthwise (DepthwiseCon (None, 14, 14, 384)  3456        block_8_expand_relu[0][0]        \n",
      "__________________________________________________________________________________________________\n",
      "block_8_depthwise_BN (BatchNorm (None, 14, 14, 384)  1536        block_8_depthwise[0][0]          \n",
      "__________________________________________________________________________________________________\n",
      "block_8_depthwise_relu (ReLU)   (None, 14, 14, 384)  0           block_8_depthwise_BN[0][0]       \n",
      "__________________________________________________________________________________________________\n",
      "block_8_project (Conv2D)        (None, 14, 14, 64)   24576       block_8_depthwise_relu[0][0]     \n",
      "__________________________________________________________________________________________________\n",
      "block_8_project_BN (BatchNormal (None, 14, 14, 64)   256         block_8_project[0][0]            \n",
      "__________________________________________________________________________________________________\n",
      "block_8_add (Add)               (None, 14, 14, 64)   0           block_7_add[0][0]                \n",
      "                                                                 block_8_project_BN[0][0]         \n",
      "__________________________________________________________________________________________________\n",
      "block_9_expand (Conv2D)         (None, 14, 14, 384)  24576       block_8_add[0][0]                \n",
      "__________________________________________________________________________________________________\n",
      "block_9_expand_BN (BatchNormali (None, 14, 14, 384)  1536        block_9_expand[0][0]             \n",
      "__________________________________________________________________________________________________\n",
      "block_9_expand_relu (ReLU)      (None, 14, 14, 384)  0           block_9_expand_BN[0][0]          \n",
      "__________________________________________________________________________________________________\n",
      "block_9_depthwise (DepthwiseCon (None, 14, 14, 384)  3456        block_9_expand_relu[0][0]        \n",
      "__________________________________________________________________________________________________\n",
      "block_9_depthwise_BN (BatchNorm (None, 14, 14, 384)  1536        block_9_depthwise[0][0]          \n",
      "__________________________________________________________________________________________________\n",
      "block_9_depthwise_relu (ReLU)   (None, 14, 14, 384)  0           block_9_depthwise_BN[0][0]       \n",
      "__________________________________________________________________________________________________\n",
      "block_9_project (Conv2D)        (None, 14, 14, 64)   24576       block_9_depthwise_relu[0][0]     \n",
      "__________________________________________________________________________________________________\n",
      "block_9_project_BN (BatchNormal (None, 14, 14, 64)   256         block_9_project[0][0]            \n",
      "__________________________________________________________________________________________________\n",
      "block_9_add (Add)               (None, 14, 14, 64)   0           block_8_add[0][0]                \n",
      "                                                                 block_9_project_BN[0][0]         \n",
      "__________________________________________________________________________________________________\n",
      "block_10_expand (Conv2D)        (None, 14, 14, 384)  24576       block_9_add[0][0]                \n",
      "__________________________________________________________________________________________________\n",
      "block_10_expand_BN (BatchNormal (None, 14, 14, 384)  1536        block_10_expand[0][0]            \n",
      "__________________________________________________________________________________________________\n",
      "block_10_expand_relu (ReLU)     (None, 14, 14, 384)  0           block_10_expand_BN[0][0]         \n",
      "__________________________________________________________________________________________________\n",
      "block_10_depthwise (DepthwiseCo (None, 14, 14, 384)  3456        block_10_expand_relu[0][0]       \n",
      "__________________________________________________________________________________________________\n",
      "block_10_depthwise_BN (BatchNor (None, 14, 14, 384)  1536        block_10_depthwise[0][0]         \n",
      "__________________________________________________________________________________________________\n",
      "block_10_depthwise_relu (ReLU)  (None, 14, 14, 384)  0           block_10_depthwise_BN[0][0]      \n",
      "__________________________________________________________________________________________________\n",
      "block_10_project (Conv2D)       (None, 14, 14, 96)   36864       block_10_depthwise_relu[0][0]    \n",
      "__________________________________________________________________________________________________\n",
      "block_10_project_BN (BatchNorma (None, 14, 14, 96)   384         block_10_project[0][0]           \n",
      "__________________________________________________________________________________________________\n",
      "block_11_expand (Conv2D)        (None, 14, 14, 576)  55296       block_10_project_BN[0][0]        \n",
      "__________________________________________________________________________________________________\n",
      "block_11_expand_BN (BatchNormal (None, 14, 14, 576)  2304        block_11_expand[0][0]            \n",
      "__________________________________________________________________________________________________\n",
      "block_11_expand_relu (ReLU)     (None, 14, 14, 576)  0           block_11_expand_BN[0][0]         \n",
      "__________________________________________________________________________________________________\n",
      "block_11_depthwise (DepthwiseCo (None, 14, 14, 576)  5184        block_11_expand_relu[0][0]       \n",
      "__________________________________________________________________________________________________\n",
      "block_11_depthwise_BN (BatchNor (None, 14, 14, 576)  2304        block_11_depthwise[0][0]         \n",
      "__________________________________________________________________________________________________\n",
      "block_11_depthwise_relu (ReLU)  (None, 14, 14, 576)  0           block_11_depthwise_BN[0][0]      \n",
      "__________________________________________________________________________________________________\n",
      "block_11_project (Conv2D)       (None, 14, 14, 96)   55296       block_11_depthwise_relu[0][0]    \n",
      "__________________________________________________________________________________________________\n",
      "block_11_project_BN (BatchNorma (None, 14, 14, 96)   384         block_11_project[0][0]           \n",
      "__________________________________________________________________________________________________\n",
      "block_11_add (Add)              (None, 14, 14, 96)   0           block_10_project_BN[0][0]        \n",
      "                                                                 block_11_project_BN[0][0]        \n",
      "__________________________________________________________________________________________________\n",
      "block_12_expand (Conv2D)        (None, 14, 14, 576)  55296       block_11_add[0][0]               \n",
      "__________________________________________________________________________________________________\n",
      "block_12_expand_BN (BatchNormal (None, 14, 14, 576)  2304        block_12_expand[0][0]            \n",
      "__________________________________________________________________________________________________\n",
      "block_12_expand_relu (ReLU)     (None, 14, 14, 576)  0           block_12_expand_BN[0][0]         \n",
      "__________________________________________________________________________________________________\n",
      "block_12_depthwise (DepthwiseCo (None, 14, 14, 576)  5184        block_12_expand_relu[0][0]       \n",
      "__________________________________________________________________________________________________\n",
      "block_12_depthwise_BN (BatchNor (None, 14, 14, 576)  2304        block_12_depthwise[0][0]         \n",
      "__________________________________________________________________________________________________\n",
      "block_12_depthwise_relu (ReLU)  (None, 14, 14, 576)  0           block_12_depthwise_BN[0][0]      \n",
      "__________________________________________________________________________________________________\n",
      "block_12_project (Conv2D)       (None, 14, 14, 96)   55296       block_12_depthwise_relu[0][0]    \n",
      "__________________________________________________________________________________________________\n",
      "block_12_project_BN (BatchNorma (None, 14, 14, 96)   384         block_12_project[0][0]           \n",
      "__________________________________________________________________________________________________\n",
      "block_12_add (Add)              (None, 14, 14, 96)   0           block_11_add[0][0]               \n",
      "                                                                 block_12_project_BN[0][0]        \n",
      "__________________________________________________________________________________________________\n",
      "block_13_expand (Conv2D)        (None, 14, 14, 576)  55296       block_12_add[0][0]               \n",
      "__________________________________________________________________________________________________\n",
      "block_13_expand_BN (BatchNormal (None, 14, 14, 576)  2304        block_13_expand[0][0]            \n",
      "__________________________________________________________________________________________________\n",
      "block_13_expand_relu (ReLU)     (None, 14, 14, 576)  0           block_13_expand_BN[0][0]         \n",
      "__________________________________________________________________________________________________\n",
      "block_13_pad (ZeroPadding2D)    (None, 15, 15, 576)  0           block_13_expand_relu[0][0]       \n",
      "__________________________________________________________________________________________________\n",
      "block_13_depthwise (DepthwiseCo (None, 7, 7, 576)    5184        block_13_pad[0][0]               \n",
      "__________________________________________________________________________________________________\n",
      "block_13_depthwise_BN (BatchNor (None, 7, 7, 576)    2304        block_13_depthwise[0][0]         \n",
      "__________________________________________________________________________________________________\n",
      "block_13_depthwise_relu (ReLU)  (None, 7, 7, 576)    0           block_13_depthwise_BN[0][0]      \n",
      "__________________________________________________________________________________________________\n",
      "block_13_project (Conv2D)       (None, 7, 7, 160)    92160       block_13_depthwise_relu[0][0]    \n",
      "__________________________________________________________________________________________________\n",
      "block_13_project_BN (BatchNorma (None, 7, 7, 160)    640         block_13_project[0][0]           \n",
      "__________________________________________________________________________________________________\n",
      "block_14_expand (Conv2D)        (None, 7, 7, 960)    153600      block_13_project_BN[0][0]        \n",
      "__________________________________________________________________________________________________\n",
      "block_14_expand_BN (BatchNormal (None, 7, 7, 960)    3840        block_14_expand[0][0]            \n",
      "__________________________________________________________________________________________________\n",
      "block_14_expand_relu (ReLU)     (None, 7, 7, 960)    0           block_14_expand_BN[0][0]         \n",
      "__________________________________________________________________________________________________\n",
      "block_14_depthwise (DepthwiseCo (None, 7, 7, 960)    8640        block_14_expand_relu[0][0]       \n",
      "__________________________________________________________________________________________________\n",
      "block_14_depthwise_BN (BatchNor (None, 7, 7, 960)    3840        block_14_depthwise[0][0]         \n",
      "__________________________________________________________________________________________________\n",
      "block_14_depthwise_relu (ReLU)  (None, 7, 7, 960)    0           block_14_depthwise_BN[0][0]      \n",
      "__________________________________________________________________________________________________\n",
      "block_14_project (Conv2D)       (None, 7, 7, 160)    153600      block_14_depthwise_relu[0][0]    \n",
      "__________________________________________________________________________________________________\n",
      "block_14_project_BN (BatchNorma (None, 7, 7, 160)    640         block_14_project[0][0]           \n",
      "__________________________________________________________________________________________________\n",
      "block_14_add (Add)              (None, 7, 7, 160)    0           block_13_project_BN[0][0]        \n",
      "                                                                 block_14_project_BN[0][0]        \n",
      "__________________________________________________________________________________________________\n",
      "block_15_expand (Conv2D)        (None, 7, 7, 960)    153600      block_14_add[0][0]               \n",
      "__________________________________________________________________________________________________\n",
      "block_15_expand_BN (BatchNormal (None, 7, 7, 960)    3840        block_15_expand[0][0]            \n",
      "__________________________________________________________________________________________________\n",
      "block_15_expand_relu (ReLU)     (None, 7, 7, 960)    0           block_15_expand_BN[0][0]         \n",
      "__________________________________________________________________________________________________\n",
      "block_15_depthwise (DepthwiseCo (None, 7, 7, 960)    8640        block_15_expand_relu[0][0]       \n",
      "__________________________________________________________________________________________________\n",
      "block_15_depthwise_BN (BatchNor (None, 7, 7, 960)    3840        block_15_depthwise[0][0]         \n",
      "__________________________________________________________________________________________________\n",
      "block_15_depthwise_relu (ReLU)  (None, 7, 7, 960)    0           block_15_depthwise_BN[0][0]      \n",
      "__________________________________________________________________________________________________\n",
      "block_15_project (Conv2D)       (None, 7, 7, 160)    153600      block_15_depthwise_relu[0][0]    \n",
      "__________________________________________________________________________________________________\n",
      "block_15_project_BN (BatchNorma (None, 7, 7, 160)    640         block_15_project[0][0]           \n",
      "__________________________________________________________________________________________________\n",
      "block_15_add (Add)              (None, 7, 7, 160)    0           block_14_add[0][0]               \n",
      "                                                                 block_15_project_BN[0][0]        \n",
      "__________________________________________________________________________________________________\n",
      "block_16_expand (Conv2D)        (None, 7, 7, 960)    153600      block_15_add[0][0]               \n",
      "__________________________________________________________________________________________________\n",
      "block_16_expand_BN (BatchNormal (None, 7, 7, 960)    3840        block_16_expand[0][0]            \n",
      "__________________________________________________________________________________________________\n",
      "block_16_expand_relu (ReLU)     (None, 7, 7, 960)    0           block_16_expand_BN[0][0]         \n",
      "__________________________________________________________________________________________________\n",
      "block_16_depthwise (DepthwiseCo (None, 7, 7, 960)    8640        block_16_expand_relu[0][0]       \n",
      "__________________________________________________________________________________________________\n",
      "block_16_depthwise_BN (BatchNor (None, 7, 7, 960)    3840        block_16_depthwise[0][0]         \n",
      "__________________________________________________________________________________________________\n",
      "block_16_depthwise_relu (ReLU)  (None, 7, 7, 960)    0           block_16_depthwise_BN[0][0]      \n",
      "__________________________________________________________________________________________________\n",
      "block_16_project (Conv2D)       (None, 7, 7, 320)    307200      block_16_depthwise_relu[0][0]    \n",
      "__________________________________________________________________________________________________\n",
      "block_16_project_BN (BatchNorma (None, 7, 7, 320)    1280        block_16_project[0][0]           \n",
      "__________________________________________________________________________________________________\n",
      "Conv_1 (Conv2D)                 (None, 7, 7, 1280)   409600      block_16_project_BN[0][0]        \n",
      "__________________________________________________________________________________________________\n",
      "Conv_1_bn (BatchNormalization)  (None, 7, 7, 1280)   5120        Conv_1[0][0]                     \n",
      "__________________________________________________________________________________________________\n",
      "out_relu (ReLU)                 (None, 7, 7, 1280)   0           Conv_1_bn[0][0]                  \n",
      "__________________________________________________________________________________________________\n",
      "global_average_pooling2d (Globa (None, 1280)         0           out_relu[0][0]                   \n",
      "==================================================================================================\n",
      "Total params: 2,257,984\n",
      "Trainable params: 2,223,872\n",
      "Non-trainable params: 34,112\n",
      "__________________________________________________________________________________________________\n"
     ]
    }
   ],
   "source": [
    "import tensorflow\n",
    "# This network has many hyper parameters that you have to adjust first\n",
    "# The first hyperparameter gives you the freedom to choose whether to enter the final dense layer of the network or cancel it, in which case it has been cancelled.\n",
    "mnet = tensorflow.keras.applications.mobilenet_v2.MobileNetV2(include_top=False, \n",
    "                                                      input_shape=(220, 220, 3),#same as of custom model\n",
    "                                                      pooling='avg',\n",
    "                                                      weights='imagenet')\n",
    "\n",
    "mnet.summary()"
   ]
  },
  {
   "cell_type": "code",
   "execution_count": 15,
   "metadata": {
    "id": "kSDKs3-auEMi"
   },
   "outputs": [],
   "source": [
    "model2=Sequential([\n",
    "    mnet,\n",
    "    Dropout(0.25),\n",
    "    Dense(10,activation='softmax') # here we use 10 layers because we have to predict bewtween 10 classes\n",
    "])"
   ]
  },
  {
   "cell_type": "code",
   "execution_count": 16,
   "metadata": {
    "id": "L0aXWHmIuEOW"
   },
   "outputs": [
    {
     "name": "stdout",
     "output_type": "stream",
     "text": [
      "Model: \"sequential_1\"\n",
      "_________________________________________________________________\n",
      "Layer (type)                 Output Shape              Param #   \n",
      "=================================================================\n",
      "mobilenetv2_1.00_224 (Functi (None, 1280)              2257984   \n",
      "_________________________________________________________________\n",
      "dropout_1 (Dropout)          (None, 1280)              0         \n",
      "_________________________________________________________________\n",
      "dense_2 (Dense)              (None, 10)                12810     \n",
      "=================================================================\n",
      "Total params: 2,270,794\n",
      "Trainable params: 12,810\n",
      "Non-trainable params: 2,257,984\n",
      "_________________________________________________________________\n"
     ]
    }
   ],
   "source": [
    "# here we freezed the layer that responsible for feature extraction\n",
    "model2.layers[0].trainable = False\n",
    "model2.summary()"
   ]
  },
  {
   "cell_type": "code",
   "execution_count": 17,
   "metadata": {
    "id": "JyK1FF8UuEQT",
    "scrolled": true
   },
   "outputs": [
    {
     "name": "stdout",
     "output_type": "stream",
     "text": [
      "Epoch 1/10\n",
      "39/39 [==============================] - 9s 204ms/step - loss: 1.8985 - accuracy: 0.3441 - precision_1: 0.6420 - recall_1: 0.1118 - val_loss: 0.8855 - val_accuracy: 0.8450 - val_precision_1: 0.9877 - val_recall_1: 0.4000\n",
      "Epoch 2/10\n",
      "39/39 [==============================] - 7s 191ms/step - loss: 0.7243 - accuracy: 0.8323 - precision_1: 0.9609 - recall_1: 0.5806 - val_loss: 0.4486 - val_accuracy: 0.9300 - val_precision_1: 0.9869 - val_recall_1: 0.7550\n",
      "Epoch 3/10\n",
      "39/39 [==============================] - 7s 190ms/step - loss: 0.3942 - accuracy: 0.9333 - precision_1: 0.9622 - recall_1: 0.8215 - val_loss: 0.3048 - val_accuracy: 0.9600 - val_precision_1: 0.9832 - val_recall_1: 0.8800\n",
      "Epoch 4/10\n",
      "39/39 [==============================] - 7s 191ms/step - loss: 0.2769 - accuracy: 0.9634 - precision_1: 0.9812 - recall_1: 0.8968 - val_loss: 0.2518 - val_accuracy: 0.9650 - val_precision_1: 0.9893 - val_recall_1: 0.9250\n",
      "Epoch 5/10\n",
      "39/39 [==============================] - 7s 191ms/step - loss: 0.1832 - accuracy: 0.9849 - precision_1: 0.9978 - recall_1: 0.9570 - val_loss: 0.2036 - val_accuracy: 0.9650 - val_precision_1: 0.9844 - val_recall_1: 0.9450\n",
      "Epoch 6/10\n",
      "39/39 [==============================] - 7s 191ms/step - loss: 0.1480 - accuracy: 0.9871 - precision_1: 0.9955 - recall_1: 0.9591 - val_loss: 0.1747 - val_accuracy: 0.9700 - val_precision_1: 0.9843 - val_recall_1: 0.9400\n",
      "Epoch 7/10\n",
      "39/39 [==============================] - 7s 190ms/step - loss: 0.1252 - accuracy: 0.9871 - precision_1: 0.9956 - recall_1: 0.9677 - val_loss: 0.1534 - val_accuracy: 0.9850 - val_precision_1: 0.9845 - val_recall_1: 0.9500\n",
      "Epoch 8/10\n",
      "39/39 [==============================] - 7s 190ms/step - loss: 0.0964 - accuracy: 0.9957 - precision_1: 1.0000 - recall_1: 0.9849 - val_loss: 0.1449 - val_accuracy: 0.9700 - val_precision_1: 0.9895 - val_recall_1: 0.9450\n",
      "Epoch 9/10\n",
      "39/39 [==============================] - 7s 190ms/step - loss: 0.0827 - accuracy: 1.0000 - precision_1: 1.0000 - recall_1: 0.9935 - val_loss: 0.1327 - val_accuracy: 0.9650 - val_precision_1: 0.9896 - val_recall_1: 0.9550\n",
      "Epoch 10/10\n",
      "39/39 [==============================] - 7s 189ms/step - loss: 0.0683 - accuracy: 1.0000 - precision_1: 1.0000 - recall_1: 1.0000 - val_loss: 0.1245 - val_accuracy: 0.9700 - val_precision_1: 0.9896 - val_recall_1: 0.9550\n"
     ]
    }
   ],
   "source": [
    "model2.compile(loss='categorical_crossentropy', optimizer='adam', metrics=['accuracy',Precision(), Recall()])\n",
    "history2=model2.fit(x_train,y_train,batch_size=12, epochs=10,validation_split=0.3)"
   ]
  },
  {
   "cell_type": "code",
   "execution_count": 18,
   "metadata": {
    "id": "0pIR-gCNuESS"
   },
   "outputs": [
    {
     "name": "stdout",
     "output_type": "stream",
     "text": [
      "6/6 [==============================] - 2s 256ms/step - loss: 0.1842 - accuracy: 0.9820 - precision_1: 0.9935 - recall_1: 0.9222\n"
     ]
    },
    {
     "data": {
      "image/png": "[encoded data removed]",
      "text/plain": [
       "<Figure size 864x576 with 1 Axes>"
      ]
     },
     "metadata": {},
     "output_type": "display_data"
    }
   ],
   "source": [
    "loss,accuracy,precision,recall=model2.evaluate(x_test,y_test)\n",
    "sns.set_style('darkgrid')\n",
    "plt.figure(figsize=(12,8))\n",
    "plt.plot(history2.history['accuracy'])\n",
    "plt.plot(history2.history['val_accuracy'])\n",
    "plt.xlabel('Epochs')\n",
    "plt.ylabel('Accuracy score')\n",
    "plt.title('Model Accuracy')\n",
    "plt.legend(['Train','Test'])\n",
    "plt.show()"
   ]
  },
  {
   "cell_type": "code",
   "execution_count": 19,
   "metadata": {},
   "outputs": [
    {
     "data": {
      "image/png": "[encoded data removed]",
      "text/plain": [
       "<Figure size 864x576 with 1 Axes>"
      ]
     },
     "metadata": {},
     "output_type": "display_data"
    }
   ],
   "source": [
    "sns.set_style('darkgrid')\n",
    "plt.figure(figsize=(12,8))\n",
    "plt.plot(history2.history['precision_1'])\n",
    "plt.plot(history2.history['val_precision_1'])\n",
    "plt.xlabel('Epochs')\n",
    "plt.ylabel('Precision')\n",
    "plt.title('Model Precision')\n",
    "plt.legend(['Train','Test'])\n",
    "plt.show()"
   ]
  },
  {
   "cell_type": "code",
   "execution_count": 20,
   "metadata": {},
   "outputs": [
    {
     "data": {
      "image/png": "[encoded data removed]",
      "text/plain": [
       "<Figure size 864x576 with 1 Axes>"
      ]
     },
     "metadata": {},
     "output_type": "display_data"
    }
   ],
   "source": [
    "sns.set_style('darkgrid')\n",
    "plt.figure(figsize=(12,8))\n",
    "plt.plot(history2.history['recall_1'])\n",
    "plt.plot(history2.history['val_recall_1'])\n",
    "plt.xlabel('Epochs')\n",
    "plt.ylabel('Recall')\n",
    "plt.title('Model Recall')\n",
    "plt.legend(['Train','Test'])\n",
    "plt.show()"
   ]
  },
  {
   "cell_type": "code",
   "execution_count": 21,
   "metadata": {},
   "outputs": [
    {
     "name": "stdout",
     "output_type": "stream",
     "text": [
      "[0.34408602118492126, 0.8322580456733704, 0.9333333373069763, 0.9634408354759216, 0.9849462509155273, 0.9870967864990234, 0.9870967864990234, 0.9956989288330078, 1.0, 1.0]\n"
     ]
    }
   ],
   "source": [
    "print(history2.history['accuracy'])"
   ]
  },
  {
   "cell_type": "code",
   "execution_count": 22,
   "metadata": {},
   "outputs": [
    {
     "name": "stdout",
     "output_type": "stream",
     "text": [
      "\n",
      "Average Accuracy:\n",
      "0.9027956992387771\n"
     ]
    }
   ],
   "source": [
    "sum = 0\n",
    "for x in history2.history['accuracy']:\n",
    "    sum += x\n",
    "    \n",
    "\n",
    "average = sum / len(history2.history['accuracy'])\n",
    "print(\"\")\n",
    "print(\"Average Accuracy:\")\n",
    "print(average)"
   ]
  },
  {
   "cell_type": "code",
   "execution_count": 23,
   "metadata": {},
   "outputs": [
    {
     "name": "stdout",
     "output_type": "stream",
     "text": [
      "\n",
      "Average Recall:\n",
      "0.8273118183016777\n"
     ]
    }
   ],
   "source": [
    "sum = 0\n",
    "for x in history2.history['recall_1']:\n",
    "    sum += x\n",
    "    \n",
    "\n",
    "average = sum / len(history2.history['recall_1'])\n",
    "print(\"\")\n",
    "print(\"Average Recall:\")\n",
    "print(average)"
   ]
  },
  {
   "cell_type": "code",
   "execution_count": 24,
   "metadata": {},
   "outputs": [
    {
     "name": "stdout",
     "output_type": "stream",
     "text": [
      "\n",
      "Average Precision:\n",
      "0.9535091340541839\n"
     ]
    }
   ],
   "source": [
    "sum = 0\n",
    "for x in history2.history['precision_1']:\n",
    "    sum += x\n",
    "    \n",
    "\n",
    "average = sum / len(history2.history['precision_1'])\n",
    "print(\"\")\n",
    "print(\"Average Precision:\")\n",
    "print(average)"
   ]
  },
  {
   "cell_type": "code",
   "execution_count": null,
   "metadata": {},
   "outputs": [],
   "source": []
  }
 ],
 "metadata": {
  "colab": {
   "collapsed_sections": [],
   "name": "Untitled2.ipynb",
   "provenance": []
  },
  "kernelspec": {
   "display_name": "Python 3 (ipykernel)",
   "language": "python",
   "name": "python3"
  },
  "language_info": {
   "codemirror_mode": {
    "name": "ipython",
    "version": 3
   },
   "file_extension": ".py",
   "mimetype": "text/x-python",
   "name": "python",
   "nbconvert_exporter": "python",
   "pygments_lexer": "ipython3",
   "version": "3.8.3"
  }
 },
 "nbformat": 4,
 "nbformat_minor": 4
}

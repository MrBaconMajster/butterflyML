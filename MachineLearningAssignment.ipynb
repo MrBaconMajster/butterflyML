{
 "cells": [
  {
   "cell_type": "code",
   "execution_count": 1,
   "metadata": {
    "id": "MVcPwFhvsch4"
   },
   "outputs": [],
   "source": [
    "# 18222757 Maciej Augustynek ,18244327 Bartlomiej Skorecki\n",
    "# Code executes till the end without errors\n",
    "# Original source : https://www.kaggle.com/esraamohamedahmed/classification-of-butterflies-images"
   ]
  },
  {
   "cell_type": "code",
   "execution_count": 2,
   "metadata": {
    "id": "EBh-8oBAtiV5"
   },
   "outputs": [],
   "source": [
    "# This Python 3 environment comes with many helpful analytics libraries installed\n",
    "# It is defined by the kaggle/python Docker image: https://github.com/kaggle/docker-python\n",
    "# For example, here's several helpful packages to load\n",
    "\n",
    "import numpy as np \n",
    "import pandas as pd\n",
    "import os\n"
   ]
  },
  {
   "cell_type": "code",
   "execution_count": 3,
   "metadata": {
    "id": "oyK5dKektuTp"
   },
   "outputs": [],
   "source": [
    "import cv2\n",
    "path='./images/'\n",
    "file=os.listdir('./images/')\n",
    "features=[] #to store images\n",
    "labels=[] #to store labels\n",
    "for img in file:\n",
    "    # label=int(img) \n",
    "    label=int(img[:3]) #extracts label from the image file name\n",
    "    labels.append(label) #adds the found label to the list of labels\n",
    "    img_array=cv2.imread(os.path.join(path,img),cv2.IMREAD_COLOR)\n",
    "    #Resizes images into the size 220x220\n",
    "    img_array=cv2.resize(img_array,(220,220))\n",
    "    #stores images in the array\n",
    "    features.append(img_array)"
   ]
  },
  {
   "cell_type": "code",
   "execution_count": 4,
   "metadata": {
    "id": "EkIz7S2Ot4w4"
   },
   "outputs": [
    {
     "data": {
      "text/plain": [
       "['001.txt',\n",
       " '002.txt',\n",
       " '003.txt',\n",
       " '004.txt',\n",
       " '005.txt',\n",
       " '006.txt',\n",
       " '007.txt',\n",
       " '008.txt',\n",
       " '009.txt',\n",
       " '010.txt']"
      ]
     },
     "execution_count": 4,
     "metadata": {},
     "output_type": "execute_result"
    }
   ],
   "source": [
    "import os\n",
    "descrid_path='./descriptions'\n",
    "descrid=os.listdir('./descriptions')\n",
    "descrid"
   ]
  },
  {
   "cell_type": "code",
   "execution_count": 5,
   "metadata": {
    "id": "sNhJA5gEt5Gc"
   },
   "outputs": [],
   "source": [
    "#Creating a list of butterfly types\n",
    "dict_1={'001': 'Danaus_plexippus', '002': 'Heliconius_charitonius', '003': 'Heliconius_erato', '004': 'Junonia_coenia', '005': 'Lycaena_phlaeas', '006': 'Nymphalis_antiopa', '007': 'Papilio_cresphontes', '008': 'Pieris_rapae', '009': 'Vanessa_atalanta', '0010': 'Vanessa_cardui'} "
   ]
  },
  {
   "cell_type": "code",
   "execution_count": 6,
   "metadata": {
    "id": "p9QAUoPQt5IQ"
   },
   "outputs": [
    {
     "name": "stdout",
     "output_type": "stream",
     "text": [
      "{1, 2, 3, 4, 5, 6, 7, 8, 9, 10}\n",
      "{'Danaus_plexippus', 'Vanessa_cardui', 'Lycaena_phlaeas', 'Nymphalis_antiopa', 'Heliconius_charitonius', 'Junonia_coenia', 'Heliconius_erato', 'Pieris_rapae', 'Papilio_cresphontes', 'Vanessa_atalanta'}\n"
     ]
    }
   ],
   "source": [
    "print(set(labels))\n",
    "list_labels=[]\n",
    "#We add labels to a set for each image in the dataset. We will use this list later to assign the labels to the images.\n",
    "for i in labels:\n",
    "    new_label=dict_1['00'+str(i)]\n",
    "    list_labels.append(new_label)\n",
    "#Printed unique labels from the labels added\n",
    "print(set(list_labels)) "
   ]
  },
  {
   "cell_type": "code",
   "execution_count": 7,
   "metadata": {
    "id": "7BUvaHZwt5KE"
   },
   "outputs": [
    {
     "ename": "TypeError",
     "evalue": "'NoneType' object cannot be interpreted as an integer",
     "output_type": "error",
     "traceback": [
      "\u001b[1;31m---------------------------------------------------------------------------\u001b[0m",
      "\u001b[1;31mTypeError\u001b[0m                                 Traceback (most recent call last)",
      "\u001b[1;32m~\\AppData\\Local\\Temp/ipykernel_20692/3298504080.py\u001b[0m in \u001b[0;36m<module>\u001b[1;34m\u001b[0m\n\u001b[0;32m      4\u001b[0m \u001b[1;31m#Normalising the images\u001b[0m\u001b[1;33m\u001b[0m\u001b[1;33m\u001b[0m\u001b[0m\n\u001b[0;32m      5\u001b[0m \u001b[0mfeatures\u001b[0m\u001b[1;33m=\u001b[0m\u001b[0mfeatures\u001b[0m\u001b[1;33m/\u001b[0m\u001b[1;36m255.0\u001b[0m\u001b[1;33m\u001b[0m\u001b[1;33m\u001b[0m\u001b[0m\n\u001b[1;32m----> 6\u001b[1;33m \u001b[0mfeatures\u001b[0m\u001b[1;33m=\u001b[0m\u001b[0mfeatures\u001b[0m\u001b[1;33m.\u001b[0m\u001b[0mreshape\u001b[0m\u001b[1;33m(\u001b[0m\u001b[1;32mNone\u001b[0m\u001b[1;33m,\u001b[0m\u001b[1;36m220\u001b[0m\u001b[1;33m,\u001b[0m\u001b[1;36m220\u001b[0m\u001b[1;33m,\u001b[0m\u001b[1;36m3\u001b[0m\u001b[1;33m)\u001b[0m\u001b[1;33m\u001b[0m\u001b[1;33m\u001b[0m\u001b[0m\n\u001b[0m\u001b[0;32m      7\u001b[0m \u001b[0mprint\u001b[0m\u001b[1;33m(\u001b[0m\u001b[0mfeatures\u001b[0m\u001b[1;33m.\u001b[0m\u001b[0mshape\u001b[0m\u001b[1;33m)\u001b[0m\u001b[1;33m\u001b[0m\u001b[1;33m\u001b[0m\u001b[0m\n",
      "\u001b[1;31mTypeError\u001b[0m: 'NoneType' object cannot be interpreted as an integer"
     ]
    }
   ],
   "source": [
    "import numpy as np\n",
    "#We change the 220x220 images into a numpy array to make it easier for them to work with the model\n",
    "features=np.array(features)\n",
    "#Normalising the images\n",
    "features=features/255.0\n",
    "features=features.reshape(-1,220,220,3)\n",
    "print(features.shape)"
   ]
  },
  {
   "cell_type": "code",
   "execution_count": null,
   "metadata": {
    "id": "De2ihj3_t5SG"
   },
   "outputs": [],
   "source": [
    "#OneHotEncoding:To deal with categorical values we need to preprocess it using onehot ecnoding\n",
    "from sklearn.preprocessing import OneHotEncoder,LabelEncoder\n",
    "#One hot encoding coverts our labels so they can be processed by the ML model better to get a better prediction\n",
    "le=LabelEncoder()\n",
    "#Fits our labels into the LabelEncoder and returns the transformed data\n",
    "y=le.fit_transform(list_labels)\n",
    "from tensorflow.keras.utils import to_categorical\n",
    "#Needs to be changed to to_categorical since we have more than 2 classes to be identified\n",
    "y=to_categorical(y)"
   ]
  },
  {
   "cell_type": "code",
   "execution_count": null,
   "metadata": {
    "id": "kBQn7MdGt5T7"
   },
   "outputs": [],
   "source": [
    "from sklearn.model_selection import train_test_split\n",
    "#Splits our data into our training and test dataset. Our test data is 20% of the overall data and training data is 80%\n",
    "x_train,x_test,y_train,y_test=train_test_split(features,y,random_state=11,test_size=0.2)"
   ]
  },
  {
   "cell_type": "code",
   "execution_count": null,
   "metadata": {
    "id": "ztrKG8a-t_2g"
   },
   "outputs": [],
   "source": [
    "from tensorflow.keras.layers import Dense,MaxPooling2D,Conv2D,Dropout,Flatten\n",
    "from tensorflow.keras.models import Sequential\n",
    "from tensorflow.keras.optimizers import Adam\n",
    "from tensorflow.keras.regularizers import l2,l1\n",
    "#Building the model\n",
    "model = Sequential() # Allows us to create multiple layers to use a CNN structure\n",
    "model.add(Conv2D(32, (3,3), padding=\"same\", activation = 'relu', kernel_regularizer=l2(0.0002) , input_shape=(220,220,3)))\n",
    "model.add(MaxPooling2D((3,3)))\n",
    "\n",
    "model.add(Conv2D(32, (5, 5), activation='relu', kernel_regularizer=l1(0.0002))) \n",
    "model.add(MaxPooling2D((3,3)))\n",
    "\n",
    "model.add(Conv2D(64, (3, 3), activation='relu', kernel_regularizer=l2(0.0002))) \n",
    "model.add(MaxPooling2D((2, 2)))\n",
    "\n",
    "model.add(Conv2D(128, (3, 3), activation='relu', kernel_regularizer=l2(0.0002))) \n",
    "model.add(MaxPooling2D((2, 2)))\n",
    "\n",
    "model.add(Conv2D(128, (3, 3), activation='relu' , kernel_regularizer=l2(0.0002))) \n",
    "model.add(MaxPooling2D((2, 2)))\n",
    "\n",
    "model.add(Flatten())\n",
    "# Dropout layer used to help reduce overfitting\n",
    "model.add(Dropout(0.3))\n",
    "model.add(Dense(100, activation='relu'))\n",
    "\n",
    "# Output layer have 10 labels \n",
    "model.add(Dense(10, activation='softmax'))"
   ]
  },
  {
   "cell_type": "code",
   "execution_count": null,
   "metadata": {
    "id": "iar8DH8Ht_4Q"
   },
   "outputs": [],
   "source": [
    "model.compile(optimizer='adam'\n",
    "              ,metrics=['accuracy'],loss='categorical_crossentropy')\n",
    "history=model.fit(x_train,y_train,batch_size=12,epochs=50,validation_split=0.2)"
   ]
  },
  {
   "cell_type": "code",
   "execution_count": null,
   "metadata": {
    "id": "UbCOPYuct_51"
   },
   "outputs": [],
   "source": [
    "import matplotlib.pyplot as plt\n",
    "import seaborn as sns\n",
    "sns.set_style('whitegrid')\n",
    "plt.figure(figsize=(12,8))\n",
    "plt.plot(history.history['accuracy'])\n",
    "plt.plot(history.history['val_accuracy'])\n",
    "plt.xlabel('Epochs')\n",
    "plt.ylabel('Accuracy score')\n",
    "plt.title('Model Accuracy')\n",
    "plt.legend(['Train','Test'])\n",
    "plt.show()"
   ]
  },
  {
   "cell_type": "code",
   "execution_count": null,
   "metadata": {
    "id": "9ALJnIz2t_7x"
   },
   "outputs": [],
   "source": [
    "loss,accuracy=model.evaluate(x_test,y_test)"
   ]
  },
  {
   "cell_type": "code",
   "execution_count": null,
   "metadata": {
    "id": "51e9xMjft_9t"
   },
   "outputs": [],
   "source": [
    "import tensorflow\n",
    "# This network has many hyper parameters that you have to adjust first\n",
    "# The first hyperparameter gives you the freedom to choose whether to enter the final dense layer of the network or cancel it, in which case it has been cancelled.\n",
    "mnet = tensorflow.keras.applications.mobilenet_v2.MobileNetV2(include_top=False, \n",
    "                                                      input_shape=(220, 220, 3),#same as of custom model\n",
    "                                                      pooling='avg',\n",
    "                                                      weights='imagenet')\n",
    "\n",
    "mnet.summary()"
   ]
  },
  {
   "cell_type": "code",
   "execution_count": null,
   "metadata": {
    "id": "kSDKs3-auEMi"
   },
   "outputs": [],
   "source": [
    "model2=Sequential([\n",
    "    mnet,\n",
    "    Dropout(0.25),\n",
    "    Dense(10,activation='softmax') # here we use 10 layers because we have to predict bewtween 10 classes\n",
    "])"
   ]
  },
  {
   "cell_type": "code",
   "execution_count": null,
   "metadata": {
    "id": "L0aXWHmIuEOW"
   },
   "outputs": [],
   "source": [
    "# here we freezed the layer that responsible for feature extraction\n",
    "model2.layers[0].trainable = False\n",
    "model2.summary()"
   ]
  },
  {
   "cell_type": "code",
   "execution_count": null,
   "metadata": {
    "id": "JyK1FF8UuEQT",
    "scrolled": true
   },
   "outputs": [],
   "source": [
    "model2.compile(loss='categorical_crossentropy', optimizer='adam', metrics=['acc'])\n",
    "history2=model2.fit(x_train,y_train,batch_size=12, epochs=10,validation_split=0.3)"
   ]
  },
  {
   "cell_type": "code",
   "execution_count": null,
   "metadata": {
    "id": "0pIR-gCNuESS"
   },
   "outputs": [],
   "source": [
    "loss,accuracy=model2.evaluate(x_test,y_test)\n",
    "sns.set_style('darkgrid')\n",
    "plt.figure(figsize=(12,8))\n",
    "plt.plot(history2.history['acc'])\n",
    "plt.plot(history2.history['val_acc'])\n",
    "plt.xlabel('Epochs')\n",
    "plt.ylabel('Accuracy score')\n",
    "plt.title('Model Accuracy')\n",
    "plt.legend(['Train','Test'])\n",
    "plt.show()"
   ]
  }
 ],
 "metadata": {
  "colab": {
   "collapsed_sections": [],
   "name": "Untitled2.ipynb",
   "provenance": []
  },
  "kernelspec": {
   "display_name": "Python 3 (ipykernel)",
   "language": "python",
   "name": "python3"
  },
  "language_info": {
   "codemirror_mode": {
    "name": "ipython",
    "version": 3
   },
   "file_extension": ".py",
   "mimetype": "text/x-python",
   "name": "python",
   "nbconvert_exporter": "python",
   "pygments_lexer": "ipython3",
   "version": "3.9.7"
  }
 },
 "nbformat": 4,
 "nbformat_minor": 4
}

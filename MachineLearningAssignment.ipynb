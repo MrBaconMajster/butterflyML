{
 "cells": [
  {
   "cell_type": "code",
   "execution_count": 1,
   "metadata": {
    "id": "MVcPwFhvsch4"
   },
   "outputs": [],
   "source": [
    "# 18222757 Maciej Augustynek ,18244327 Bartlomiej Skorecki\n",
    "# Code executes till the end without errors\n",
    "# Original source : https://www.kaggle.com/esraamohamedahmed/classification-of-butterflies-images"
   ]
  },
  {
   "cell_type": "code",
   "execution_count": 2,
   "metadata": {
    "id": "EBh-8oBAtiV5"
   },
   "outputs": [],
   "source": [
    "# This Python 3 environment comes with many helpful analytics libraries installed\n",
    "# It is defined by the kaggle/python Docker image: https://github.com/kaggle/docker-python\n",
    "# For example, here's several helpful packages to load\n",
    "\n",
    "import numpy as np \n",
    "import pandas as pd\n",
    "import os\n",
    "from tensorflow.keras.metrics import Precision , Recall"
   ]
  },
  {
   "cell_type": "code",
   "execution_count": 3,
   "metadata": {
    "id": "oyK5dKektuTp"
   },
   "outputs": [],
   "source": [
    "import cv2\n",
    "path='./images/'\n",
    "file=os.listdir('./images/')\n",
    "features=[] #to store images\n",
    "labels=[] #to store labels\n",
    "for img in file:\n",
    "    # label=int(img) \n",
    "    label=int(img[:3]) #extracts label from the image file name\n",
    "    labels.append(label) #adds the found label to the list of labels\n",
    "    img_array=cv2.imread(os.path.join(path,img),cv2.IMREAD_COLOR)\n",
    "    #Resizes images into the size 220x220\n",
    "    img_array=cv2.resize(img_array,(220,220))\n",
    "    #stores images in the array\n",
    "    features.append(img_array)"
   ]
  },
  {
   "cell_type": "code",
   "execution_count": 4,
   "metadata": {
    "id": "EkIz7S2Ot4w4"
   },
   "outputs": [
    {
     "data": {
      "text/plain": [
       "['001.txt',\n",
       " '002.txt',\n",
       " '003.txt',\n",
       " '004.txt',\n",
       " '005.txt',\n",
       " '006.txt',\n",
       " '007.txt',\n",
       " '008.txt',\n",
       " '009.txt',\n",
       " '010.txt']"
      ]
     },
     "execution_count": 4,
     "metadata": {},
     "output_type": "execute_result"
    }
   ],
   "source": [
    "import os\n",
    "descrid_path='./descriptions'\n",
    "descrid=os.listdir('./descriptions')\n",
    "descrid"
   ]
  },
  {
   "cell_type": "code",
   "execution_count": 5,
   "metadata": {
    "id": "sNhJA5gEt5Gc"
   },
   "outputs": [],
   "source": [
    "#Creating a list of butterfly types\n",
    "dict_1={'001': 'Danaus_plexippus', '002': 'Heliconius_charitonius', '003': 'Heliconius_erato', '004': 'Junonia_coenia', '005': 'Lycaena_phlaeas', '006': 'Nymphalis_antiopa', '007': 'Papilio_cresphontes', '008': 'Pieris_rapae', '009': 'Vanessa_atalanta', '0010': 'Vanessa_cardui'} "
   ]
  },
  {
   "cell_type": "code",
   "execution_count": 6,
   "metadata": {
    "id": "p9QAUoPQt5IQ"
   },
   "outputs": [
    {
     "name": "stdout",
     "output_type": "stream",
     "text": [
      "{1, 2, 3, 4, 5, 6, 7, 8, 9, 10}\n",
      "{'Vanessa_atalanta', 'Junonia_coenia', 'Pieris_rapae', 'Vanessa_cardui', 'Papilio_cresphontes', 'Danaus_plexippus', 'Nymphalis_antiopa', 'Lycaena_phlaeas', 'Heliconius_charitonius', 'Heliconius_erato'}\n"
     ]
    }
   ],
   "source": [
    "print(set(labels))\n",
    "list_labels=[]\n",
    "#We add labels to a set for each image in the dataset. We will use this list later to assign the labels to the images.\n",
    "for i in labels:\n",
    "    new_label=dict_1['00'+str(i)]\n",
    "    list_labels.append(new_label)\n",
    "#Printed unique labels from the labels added\n",
    "print(set(list_labels)) "
   ]
  },
  {
   "cell_type": "code",
   "execution_count": 7,
   "metadata": {
    "id": "7BUvaHZwt5KE"
   },
   "outputs": [
    {
     "name": "stdout",
     "output_type": "stream",
     "text": [
      "(832, 220, 220, 3)\n"
     ]
    }
   ],
   "source": [
    "import numpy as np\n",
    "#We change the 220x220 images into a numpy array to make it easier for them to work with the model\n",
    "features=np.array(features)\n",
    "#Normalising the images\n",
    "features=features/255.0\n",
    "features=features.reshape(-1,220,220,3)\n",
    "print(features.shape)"
   ]
  },
  {
   "cell_type": "code",
   "execution_count": 8,
   "metadata": {
    "id": "De2ihj3_t5SG"
   },
   "outputs": [],
   "source": [
    "#OneHotEncoding:To deal with categorical values we need to preprocess it using onehot ecnoding\n",
    "from sklearn.preprocessing import OneHotEncoder,LabelEncoder\n",
    "#One hot encoding coverts our labels so they can be processed by the ML model better to get a better prediction\n",
    "le=LabelEncoder()\n",
    "#Fits our labels into the LabelEncoder and returns the transformed data\n",
    "y=le.fit_transform(list_labels)\n",
    "from tensorflow.keras.utils import to_categorical\n",
    "#Needs to be changed to to_categorical since we have more than 2 classes to be identified\n",
    "y=to_categorical(y)"
   ]
  },
  {
   "cell_type": "code",
   "execution_count": 9,
   "metadata": {
    "id": "kBQn7MdGt5T7"
   },
   "outputs": [],
   "source": [
    "from sklearn.model_selection import train_test_split\n",
    "#Splits our data into our training and test dataset. Our test data is 20% of the overall data and training data is 80%\n",
    "x_train,x_test,y_train,y_test=train_test_split(features,y,random_state=11,test_size=0.2)"
   ]
  },
  {
   "cell_type": "code",
   "execution_count": 10,
   "metadata": {
    "id": "ztrKG8a-t_2g"
   },
   "outputs": [],
   "source": [
    "from tensorflow.keras.layers import (\n",
    "    BatchNormalization, Conv2D, MaxPooling2D, Activation, Flatten, Dropout, Dense\n",
    ")\n",
    "from tensorflow.keras.models import Sequential\n",
    "from tensorflow.keras.optimizers import Adam\n",
    "from tensorflow.keras.regularizers import l2,l1\n",
    "\n",
    "#Building the model\n",
    "model = Sequential() # Allows us to create multiple layers to use a CNN structure\n",
    "model.add(Conv2D(32, (3,3), padding=\"same\", activation = 'relu', kernel_regularizer=l2(0.0002) , input_shape=(220,220,3)))\n",
    "model.add(MaxPooling2D((3,3)))\n",
    "model.add(BatchNormalization())\n",
    "\n",
    "model.add(Conv2D(32, (5, 5), activation='relu', kernel_regularizer=l1(0.0002))) \n",
    "model.add(MaxPooling2D((3,3)))\n",
    "model.add(BatchNormalization())\n",
    "\n",
    "model.add(Conv2D(64, (3, 3), activation='relu', kernel_regularizer=l2(0.0002))) \n",
    "model.add(MaxPooling2D((2, 2)))\n",
    "model.add(BatchNormalization())\n",
    "\n",
    "model.add(Conv2D(128, (3, 3), activation='relu', kernel_regularizer=l2(0.0002))) \n",
    "model.add(MaxPooling2D((2, 2)))\n",
    "model.add(BatchNormalization())\n",
    "\n",
    "model.add(Conv2D(128, (3, 3), activation='relu' , kernel_regularizer=l2(0.0002))) \n",
    "model.add(MaxPooling2D((2, 2)))\n",
    "model.add(BatchNormalization())\n",
    "\n",
    "model.add(Flatten())\n",
    "# Dropout layer used to help reduce overfitting\n",
    "model.add(Dropout(0.3))\n",
    "model.add(Dense(100, activation='relu'))\n",
    "\n",
    "# Output layer have 10 labels \n",
    "model.add(Dense(10, activation='softmax'))"
   ]
  },
  {
   "cell_type": "code",
   "execution_count": 11,
   "metadata": {
    "id": "iar8DH8Ht_4Q"
   },
   "outputs": [
    {
     "name": "stdout",
     "output_type": "stream",
     "text": [
      "Epoch 1/50\n",
      "45/45 [==============================] - 10s 195ms/step - loss: 1.8896 - accuracy: 0.3872 - precision: 0.6231 - recall: 0.2331 - val_loss: 2.6752 - val_accuracy: 0.0977 - val_precision: 0.0000e+00 - val_recall: 0.0000e+00\n",
      "Epoch 2/50\n",
      "45/45 [==============================] - 9s 190ms/step - loss: 1.1240 - accuracy: 0.6842 - precision: 0.8177 - recall: 0.5564 - val_loss: 3.0343 - val_accuracy: 0.0902 - val_precision: 0.8333 - val_recall: 0.0376\n",
      "Epoch 3/50\n",
      "45/45 [==============================] - 8s 188ms/step - loss: 0.7686 - accuracy: 0.8177 - precision: 0.9031 - recall: 0.7180 - val_loss: 3.4353 - val_accuracy: 0.2406 - val_precision: 0.0000e+00 - val_recall: 0.0000e+00\n",
      "Epoch 4/50\n",
      "45/45 [==============================] - 8s 189ms/step - loss: 0.5904 - accuracy: 0.8853 - precision: 0.9260 - recall: 0.8233 - val_loss: 3.1981 - val_accuracy: 0.2406 - val_precision: 0.4800 - val_recall: 0.0902\n",
      "Epoch 5/50\n",
      "45/45 [==============================] - 8s 188ms/step - loss: 0.4586 - accuracy: 0.9323 - precision: 0.9540 - recall: 0.8966 - val_loss: 3.4761 - val_accuracy: 0.1880 - val_precision: 0.1875 - val_recall: 0.1805\n",
      "Epoch 6/50\n",
      "45/45 [==============================] - 8s 187ms/step - loss: 0.4739 - accuracy: 0.9286 - precision: 0.9489 - recall: 0.9079 - val_loss: 3.5048 - val_accuracy: 0.1729 - val_precision: 0.1800 - val_recall: 0.1353\n",
      "Epoch 7/50\n",
      "45/45 [==============================] - 8s 188ms/step - loss: 0.4883 - accuracy: 0.9192 - precision: 0.9418 - recall: 0.8816 - val_loss: 2.5808 - val_accuracy: 0.3609 - val_precision: 0.4159 - val_recall: 0.3534\n",
      "Epoch 8/50\n",
      "45/45 [==============================] - 9s 191ms/step - loss: 0.3525 - accuracy: 0.9549 - precision: 0.9672 - recall: 0.9436 - val_loss: 1.9215 - val_accuracy: 0.5113 - val_precision: 0.6064 - val_recall: 0.4286\n",
      "Epoch 9/50\n",
      "45/45 [==============================] - 9s 196ms/step - loss: 0.2962 - accuracy: 0.9774 - precision: 0.9829 - recall: 0.9718 - val_loss: 1.3748 - val_accuracy: 0.5940 - val_precision: 0.7156 - val_recall: 0.5865\n",
      "Epoch 10/50\n",
      "45/45 [==============================] - 9s 193ms/step - loss: 0.3180 - accuracy: 0.9662 - precision: 0.9732 - recall: 0.9549 - val_loss: 1.1649 - val_accuracy: 0.7143 - val_precision: 0.7667 - val_recall: 0.6917\n",
      "Epoch 11/50\n",
      "45/45 [==============================] - 9s 193ms/step - loss: 0.3192 - accuracy: 0.9530 - precision: 0.9691 - recall: 0.9436 - val_loss: 0.8759 - val_accuracy: 0.7970 - val_precision: 0.8596 - val_recall: 0.7368\n",
      "Epoch 12/50\n",
      "45/45 [==============================] - 9s 191ms/step - loss: 0.3233 - accuracy: 0.9586 - precision: 0.9656 - recall: 0.9511 - val_loss: 1.0458 - val_accuracy: 0.7669 - val_precision: 0.8103 - val_recall: 0.7068\n",
      "Epoch 13/50\n",
      "45/45 [==============================] - 9s 191ms/step - loss: 0.3013 - accuracy: 0.9699 - precision: 0.9827 - recall: 0.9624 - val_loss: 0.7573 - val_accuracy: 0.7820 - val_precision: 0.8306 - val_recall: 0.7744\n",
      "Epoch 14/50\n",
      "45/45 [==============================] - 9s 190ms/step - loss: 0.3792 - accuracy: 0.9380 - precision: 0.9535 - recall: 0.9248 - val_loss: 1.2653 - val_accuracy: 0.7218 - val_precision: 0.7521 - val_recall: 0.6842\n",
      "Epoch 15/50\n",
      "45/45 [==============================] - 9s 190ms/step - loss: 0.3413 - accuracy: 0.9643 - precision: 0.9712 - recall: 0.9492 - val_loss: 0.5590 - val_accuracy: 0.8947 - val_precision: 0.9200 - val_recall: 0.8647\n",
      "Epoch 16/50\n",
      "45/45 [==============================] - 8s 188ms/step - loss: 0.2530 - accuracy: 0.9850 - precision: 0.9868 - recall: 0.9812 - val_loss: 0.5581 - val_accuracy: 0.8872 - val_precision: 0.8923 - val_recall: 0.8722\n",
      "Epoch 17/50\n",
      "45/45 [==============================] - 8s 189ms/step - loss: 0.2316 - accuracy: 0.9906 - precision: 0.9905 - recall: 0.9850 - val_loss: 0.4077 - val_accuracy: 0.9474 - val_precision: 0.9612 - val_recall: 0.9323\n",
      "Epoch 18/50\n",
      "45/45 [==============================] - 9s 190ms/step - loss: 0.2393 - accuracy: 0.9887 - precision: 0.9906 - recall: 0.9887 - val_loss: 0.5065 - val_accuracy: 0.8872 - val_precision: 0.8864 - val_recall: 0.8797\n",
      "Epoch 19/50\n",
      "45/45 [==============================] - 8s 189ms/step - loss: 0.2747 - accuracy: 0.9756 - precision: 0.9810 - recall: 0.9680 - val_loss: 0.6399 - val_accuracy: 0.8722 - val_precision: 0.8915 - val_recall: 0.8647\n",
      "Epoch 20/50\n",
      "45/45 [==============================] - 8s 188ms/step - loss: 0.2399 - accuracy: 0.9793 - precision: 0.9867 - recall: 0.9774 - val_loss: 0.6277 - val_accuracy: 0.8797 - val_precision: 0.8880 - val_recall: 0.8346\n",
      "Epoch 21/50\n",
      "45/45 [==============================] - 9s 190ms/step - loss: 0.2260 - accuracy: 0.9831 - precision: 0.9849 - recall: 0.9793 - val_loss: 0.5067 - val_accuracy: 0.8947 - val_precision: 0.9000 - val_recall: 0.8797\n",
      "Epoch 22/50\n",
      "45/45 [==============================] - 9s 191ms/step - loss: 0.2144 - accuracy: 0.9887 - precision: 0.9962 - recall: 0.9850 - val_loss: 0.7284 - val_accuracy: 0.8120 - val_precision: 0.8333 - val_recall: 0.7895\n",
      "Epoch 23/50\n",
      "45/45 [==============================] - 9s 190ms/step - loss: 0.2086 - accuracy: 0.9887 - precision: 0.9906 - recall: 0.9868 - val_loss: 0.4789 - val_accuracy: 0.8797 - val_precision: 0.8984 - val_recall: 0.8647\n",
      "Epoch 24/50\n",
      "45/45 [==============================] - 8s 189ms/step - loss: 0.2031 - accuracy: 0.9887 - precision: 0.9887 - recall: 0.9868 - val_loss: 0.4158 - val_accuracy: 0.9173 - val_precision: 0.9370 - val_recall: 0.8947\n",
      "Epoch 25/50\n",
      "45/45 [==============================] - 8s 188ms/step - loss: 0.2084 - accuracy: 0.9925 - precision: 0.9925 - recall: 0.9887 - val_loss: 0.4261 - val_accuracy: 0.9323 - val_precision: 0.9308 - val_recall: 0.9098\n",
      "Epoch 26/50\n",
      "45/45 [==============================] - 8s 189ms/step - loss: 0.2376 - accuracy: 0.9793 - precision: 0.9829 - recall: 0.9737 - val_loss: 0.5469 - val_accuracy: 0.8797 - val_precision: 0.8915 - val_recall: 0.8647\n",
      "Epoch 27/50\n",
      "45/45 [==============================] - 9s 191ms/step - loss: 0.2351 - accuracy: 0.9774 - precision: 0.9811 - recall: 0.9737 - val_loss: 0.4743 - val_accuracy: 0.9173 - val_precision: 0.9231 - val_recall: 0.9023\n",
      "Epoch 28/50\n",
      "45/45 [==============================] - 8s 189ms/step - loss: 0.2285 - accuracy: 0.9812 - precision: 0.9849 - recall: 0.9793 - val_loss: 0.5254 - val_accuracy: 0.9248 - val_precision: 0.9318 - val_recall: 0.9248\n",
      "Epoch 29/50\n",
      "45/45 [==============================] - 8s 189ms/step - loss: 0.2498 - accuracy: 0.9756 - precision: 0.9773 - recall: 0.9718 - val_loss: 0.7097 - val_accuracy: 0.8872 - val_precision: 0.9070 - val_recall: 0.8797\n",
      "Epoch 30/50\n",
      "45/45 [==============================] - 9s 192ms/step - loss: 0.2529 - accuracy: 0.9718 - precision: 0.9773 - recall: 0.9699 - val_loss: 0.5950 - val_accuracy: 0.8496 - val_precision: 0.8750 - val_recall: 0.8421\n",
      "Epoch 31/50\n",
      "45/45 [==============================] - 9s 199ms/step - loss: 0.2074 - accuracy: 0.9868 - precision: 0.9887 - recall: 0.9868 - val_loss: 0.5176 - val_accuracy: 0.8872 - val_precision: 0.9070 - val_recall: 0.8797\n",
      "Epoch 32/50\n",
      "45/45 [==============================] - 9s 196ms/step - loss: 0.1964 - accuracy: 0.9944 - precision: 0.9944 - recall: 0.9944 - val_loss: 0.7673 - val_accuracy: 0.8195 - val_precision: 0.8504 - val_recall: 0.8120\n",
      "Epoch 33/50\n",
      "45/45 [==============================] - 9s 190ms/step - loss: 0.1939 - accuracy: 0.9887 - precision: 0.9943 - recall: 0.9887 - val_loss: 0.5067 - val_accuracy: 0.9248 - val_precision: 0.9242 - val_recall: 0.9173\n",
      "Epoch 34/50\n",
      "45/45 [==============================] - 9s 208ms/step - loss: 0.1734 - accuracy: 0.9962 - precision: 0.9981 - recall: 0.9962 - val_loss: 0.4847 - val_accuracy: 0.8872 - val_precision: 0.9008 - val_recall: 0.8872\n",
      "Epoch 35/50\n",
      "45/45 [==============================] - 9s 209ms/step - loss: 0.1964 - accuracy: 0.9906 - precision: 0.9906 - recall: 0.9906 - val_loss: 0.5580 - val_accuracy: 0.8797 - val_precision: 0.8992 - val_recall: 0.8722\n",
      "Epoch 36/50\n",
      "45/45 [==============================] - 9s 209ms/step - loss: 0.1615 - accuracy: 1.0000 - precision: 1.0000 - recall: 1.0000 - val_loss: 0.5950 - val_accuracy: 0.8722 - val_precision: 0.8837 - val_recall: 0.8571\n",
      "Epoch 37/50\n"
     ]
    },
    {
     "name": "stdout",
     "output_type": "stream",
     "text": [
      "45/45 [==============================] - 9s 208ms/step - loss: 0.1849 - accuracy: 0.9887 - precision: 0.9887 - recall: 0.9868 - val_loss: 0.4356 - val_accuracy: 0.9173 - val_precision: 0.9173 - val_recall: 0.9173\n",
      "Epoch 38/50\n",
      "45/45 [==============================] - 9s 208ms/step - loss: 0.2701 - accuracy: 0.9624 - precision: 0.9641 - recall: 0.9586 - val_loss: 0.6829 - val_accuracy: 0.8722 - val_precision: 0.9055 - val_recall: 0.8647\n",
      "Epoch 39/50\n",
      "45/45 [==============================] - 9s 209ms/step - loss: 0.2244 - accuracy: 0.9774 - precision: 0.9848 - recall: 0.9737 - val_loss: 0.6501 - val_accuracy: 0.8722 - val_precision: 0.8779 - val_recall: 0.8647\n",
      "Epoch 40/50\n",
      "45/45 [==============================] - 9s 206ms/step - loss: 0.2796 - accuracy: 0.9549 - precision: 0.9583 - recall: 0.9511 - val_loss: 0.5374 - val_accuracy: 0.9098 - val_precision: 0.9297 - val_recall: 0.8947\n",
      "Epoch 41/50\n",
      "45/45 [==============================] - 9s 193ms/step - loss: 0.2797 - accuracy: 0.9624 - precision: 0.9678 - recall: 0.9605 - val_loss: 0.6180 - val_accuracy: 0.8872 - val_precision: 0.9070 - val_recall: 0.8797\n",
      "Epoch 42/50\n",
      "45/45 [==============================] - 9s 193ms/step - loss: 0.1974 - accuracy: 0.9831 - precision: 0.9830 - recall: 0.9793 - val_loss: 0.4583 - val_accuracy: 0.9098 - val_precision: 0.9225 - val_recall: 0.8947\n",
      "Epoch 43/50\n",
      "45/45 [==============================] - 9s 200ms/step - loss: 0.2033 - accuracy: 0.9831 - precision: 0.9831 - recall: 0.9812 - val_loss: 0.5031 - val_accuracy: 0.9023 - val_precision: 0.9084 - val_recall: 0.8947\n",
      "Epoch 44/50\n",
      "45/45 [==============================] - 9s 193ms/step - loss: 0.1766 - accuracy: 0.9981 - precision: 0.9981 - recall: 0.9962 - val_loss: 0.6054 - val_accuracy: 0.9023 - val_precision: 0.9160 - val_recall: 0.9023\n",
      "Epoch 45/50\n",
      "45/45 [==============================] - 9s 191ms/step - loss: 0.2996 - accuracy: 0.9586 - precision: 0.9622 - recall: 0.9568 - val_loss: 1.4141 - val_accuracy: 0.6992 - val_precision: 0.7188 - val_recall: 0.6917\n",
      "Epoch 46/50\n",
      "45/45 [==============================] - 9s 193ms/step - loss: 0.2557 - accuracy: 0.9643 - precision: 0.9677 - recall: 0.9568 - val_loss: 0.7128 - val_accuracy: 0.8496 - val_precision: 0.8750 - val_recall: 0.8421\n",
      "Epoch 47/50\n",
      "45/45 [==============================] - 9s 191ms/step - loss: 0.2461 - accuracy: 0.9737 - precision: 0.9755 - recall: 0.9737 - val_loss: 0.5792 - val_accuracy: 0.9023 - val_precision: 0.9091 - val_recall: 0.9023\n",
      "Epoch 48/50\n",
      "45/45 [==============================] - 9s 192ms/step - loss: 0.1913 - accuracy: 0.9944 - precision: 0.9962 - recall: 0.9944 - val_loss: 0.5188 - val_accuracy: 0.9173 - val_precision: 0.9313 - val_recall: 0.9173\n",
      "Epoch 49/50\n",
      "45/45 [==============================] - 9s 191ms/step - loss: 0.2019 - accuracy: 0.9812 - precision: 0.9831 - recall: 0.9812 - val_loss: 0.6723 - val_accuracy: 0.8797 - val_precision: 0.8864 - val_recall: 0.8797\n",
      "Epoch 50/50\n",
      "45/45 [==============================] - 9s 196ms/step - loss: 0.2182 - accuracy: 0.9756 - precision: 0.9774 - recall: 0.9756 - val_loss: 0.5387 - val_accuracy: 0.9098 - val_precision: 0.9237 - val_recall: 0.9098\n"
     ]
    }
   ],
   "source": [
    "model.compile(optimizer='adam'\n",
    "              ,metrics=['accuracy',Precision(), Recall()],loss='categorical_crossentropy')\n",
    "history=model.fit(x_train,y_train,batch_size=12,epochs=50,validation_split=0.2)"
   ]
  },
  {
   "cell_type": "code",
   "execution_count": 12,
   "metadata": {
    "id": "UbCOPYuct_51"
   },
   "outputs": [
    {
     "data": {
      "image/png": "[encoded data removed]",
      "text/plain": [
       "<Figure size 864x576 with 1 Axes>"
      ]
     },
     "metadata": {},
     "output_type": "display_data"
    }
   ],
   "source": [
    "import matplotlib.pyplot as plt\n",
    "import seaborn as sns\n",
    "sns.set_style('whitegrid')\n",
    "plt.figure(figsize=(12,8))\n",
    "plt.plot(history.history['accuracy'])\n",
    "plt.plot(history.history['val_accuracy'])\n",
    "plt.xlabel('Epochs')\n",
    "plt.ylabel('Accuracy score')\n",
    "plt.title('Model Accuracy')\n",
    "plt.legend(['Train','Test'])\n",
    "plt.show()"
   ]
  },
  {
   "cell_type": "code",
   "execution_count": 13,
   "metadata": {
    "id": "9ALJnIz2t_7x"
   },
   "outputs": [
    {
     "name": "stdout",
     "output_type": "stream",
     "text": [
      "6/6 [==============================] - 1s 81ms/step - loss: 0.6925 - accuracy: 0.8683 - precision: 0.8889 - recall: 0.8623\n"
     ]
    }
   ],
   "source": [
    "loss,accuracy,precision,recall=model.evaluate(x_test,y_test)"
   ]
  },
  {
   "cell_type": "code",
   "execution_count": 14,
   "metadata": {
    "id": "51e9xMjft_9t"
   },
   "outputs": [
    {
     "name": "stdout",
     "output_type": "stream",
     "text": [
      "WARNING:tensorflow:`input_shape` is undefined or non-square, or `rows` is not in [96, 128, 160, 192, 224]. Weights for input shape (224, 224) will be loaded as the default.\n",
      "Model: \"mobilenetv2_1.00_224\"\n",
      "__________________________________________________________________________________________________\n",
      "Layer (type)                    Output Shape         Param #     Connected to                     \n",
      "==================================================================================================\n",
      "input_1 (InputLayer)            [(None, 220, 220, 3) 0                                            \n",
      "__________________________________________________________________________________________________\n",
      "Conv1 (Conv2D)                  (None, 110, 110, 32) 864         input_1[0][0]                    \n",
      "__________________________________________________________________________________________________\n",
      "bn_Conv1 (BatchNormalization)   (None, 110, 110, 32) 128         Conv1[0][0]                      \n",
      "__________________________________________________________________________________________________\n",
      "Conv1_relu (ReLU)               (None, 110, 110, 32) 0           bn_Conv1[0][0]                   \n",
      "__________________________________________________________________________________________________\n",
      "expanded_conv_depthwise (Depthw (None, 110, 110, 32) 288         Conv1_relu[0][0]                 \n",
      "__________________________________________________________________________________________________\n",
      "expanded_conv_depthwise_BN (Bat (None, 110, 110, 32) 128         expanded_conv_depthwise[0][0]    \n",
      "__________________________________________________________________________________________________\n",
      "expanded_conv_depthwise_relu (R (None, 110, 110, 32) 0           expanded_conv_depthwise_BN[0][0] \n",
      "__________________________________________________________________________________________________\n",
      "expanded_conv_project (Conv2D)  (None, 110, 110, 16) 512         expanded_conv_depthwise_relu[0][0\n",
      "__________________________________________________________________________________________________\n",
      "expanded_conv_project_BN (Batch (None, 110, 110, 16) 64          expanded_conv_project[0][0]      \n",
      "__________________________________________________________________________________________________\n",
      "block_1_expand (Conv2D)         (None, 110, 110, 96) 1536        expanded_conv_project_BN[0][0]   \n",
      "__________________________________________________________________________________________________\n",
      "block_1_expand_BN (BatchNormali (None, 110, 110, 96) 384         block_1_expand[0][0]             \n",
      "__________________________________________________________________________________________________\n",
      "block_1_expand_relu (ReLU)      (None, 110, 110, 96) 0           block_1_expand_BN[0][0]          \n",
      "__________________________________________________________________________________________________\n",
      "block_1_pad (ZeroPadding2D)     (None, 111, 111, 96) 0           block_1_expand_relu[0][0]        \n",
      "__________________________________________________________________________________________________\n",
      "block_1_depthwise (DepthwiseCon (None, 55, 55, 96)   864         block_1_pad[0][0]                \n",
      "__________________________________________________________________________________________________\n",
      "block_1_depthwise_BN (BatchNorm (None, 55, 55, 96)   384         block_1_depthwise[0][0]          \n",
      "__________________________________________________________________________________________________\n",
      "block_1_depthwise_relu (ReLU)   (None, 55, 55, 96)   0           block_1_depthwise_BN[0][0]       \n",
      "__________________________________________________________________________________________________\n",
      "block_1_project (Conv2D)        (None, 55, 55, 24)   2304        block_1_depthwise_relu[0][0]     \n",
      "__________________________________________________________________________________________________\n",
      "block_1_project_BN (BatchNormal (None, 55, 55, 24)   96          block_1_project[0][0]            \n",
      "__________________________________________________________________________________________________\n",
      "block_2_expand (Conv2D)         (None, 55, 55, 144)  3456        block_1_project_BN[0][0]         \n",
      "__________________________________________________________________________________________________\n",
      "block_2_expand_BN (BatchNormali (None, 55, 55, 144)  576         block_2_expand[0][0]             \n",
      "__________________________________________________________________________________________________\n",
      "block_2_expand_relu (ReLU)      (None, 55, 55, 144)  0           block_2_expand_BN[0][0]          \n",
      "__________________________________________________________________________________________________\n",
      "block_2_depthwise (DepthwiseCon (None, 55, 55, 144)  1296        block_2_expand_relu[0][0]        \n",
      "__________________________________________________________________________________________________\n",
      "block_2_depthwise_BN (BatchNorm (None, 55, 55, 144)  576         block_2_depthwise[0][0]          \n",
      "__________________________________________________________________________________________________\n",
      "block_2_depthwise_relu (ReLU)   (None, 55, 55, 144)  0           block_2_depthwise_BN[0][0]       \n",
      "__________________________________________________________________________________________________\n",
      "block_2_project (Conv2D)        (None, 55, 55, 24)   3456        block_2_depthwise_relu[0][0]     \n",
      "__________________________________________________________________________________________________\n",
      "block_2_project_BN (BatchNormal (None, 55, 55, 24)   96          block_2_project[0][0]            \n",
      "__________________________________________________________________________________________________\n",
      "block_2_add (Add)               (None, 55, 55, 24)   0           block_1_project_BN[0][0]         \n",
      "                                                                 block_2_project_BN[0][0]         \n",
      "__________________________________________________________________________________________________\n",
      "block_3_expand (Conv2D)         (None, 55, 55, 144)  3456        block_2_add[0][0]                \n",
      "__________________________________________________________________________________________________\n",
      "block_3_expand_BN (BatchNormali (None, 55, 55, 144)  576         block_3_expand[0][0]             \n",
      "__________________________________________________________________________________________________\n",
      "block_3_expand_relu (ReLU)      (None, 55, 55, 144)  0           block_3_expand_BN[0][0]          \n",
      "__________________________________________________________________________________________________\n",
      "block_3_pad (ZeroPadding2D)     (None, 57, 57, 144)  0           block_3_expand_relu[0][0]        \n",
      "__________________________________________________________________________________________________\n",
      "block_3_depthwise (DepthwiseCon (None, 28, 28, 144)  1296        block_3_pad[0][0]                \n",
      "__________________________________________________________________________________________________\n",
      "block_3_depthwise_BN (BatchNorm (None, 28, 28, 144)  576         block_3_depthwise[0][0]          \n",
      "__________________________________________________________________________________________________\n",
      "block_3_depthwise_relu (ReLU)   (None, 28, 28, 144)  0           block_3_depthwise_BN[0][0]       \n",
      "__________________________________________________________________________________________________\n",
      "block_3_project (Conv2D)        (None, 28, 28, 32)   4608        block_3_depthwise_relu[0][0]     \n",
      "__________________________________________________________________________________________________\n",
      "block_3_project_BN (BatchNormal (None, 28, 28, 32)   128         block_3_project[0][0]            \n",
      "__________________________________________________________________________________________________\n",
      "block_4_expand (Conv2D)         (None, 28, 28, 192)  6144        block_3_project_BN[0][0]         \n",
      "__________________________________________________________________________________________________\n",
      "block_4_expand_BN (BatchNormali (None, 28, 28, 192)  768         block_4_expand[0][0]             \n",
      "__________________________________________________________________________________________________\n",
      "block_4_expand_relu (ReLU)      (None, 28, 28, 192)  0           block_4_expand_BN[0][0]          \n",
      "__________________________________________________________________________________________________\n",
      "block_4_depthwise (DepthwiseCon (None, 28, 28, 192)  1728        block_4_expand_relu[0][0]        \n",
      "__________________________________________________________________________________________________\n",
      "block_4_depthwise_BN (BatchNorm (None, 28, 28, 192)  768         block_4_depthwise[0][0]          \n",
      "__________________________________________________________________________________________________\n",
      "block_4_depthwise_relu (ReLU)   (None, 28, 28, 192)  0           block_4_depthwise_BN[0][0]       \n",
      "__________________________________________________________________________________________________\n",
      "block_4_project (Conv2D)        (None, 28, 28, 32)   6144        block_4_depthwise_relu[0][0]     \n",
      "__________________________________________________________________________________________________\n",
      "block_4_project_BN (BatchNormal (None, 28, 28, 32)   128         block_4_project[0][0]            \n",
      "__________________________________________________________________________________________________\n",
      "block_4_add (Add)               (None, 28, 28, 32)   0           block_3_project_BN[0][0]         \n",
      "                                                                 block_4_project_BN[0][0]         \n",
      "__________________________________________________________________________________________________\n",
      "block_5_expand (Conv2D)         (None, 28, 28, 192)  6144        block_4_add[0][0]                \n",
      "__________________________________________________________________________________________________\n",
      "block_5_expand_BN (BatchNormali (None, 28, 28, 192)  768         block_5_expand[0][0]             \n",
      "__________________________________________________________________________________________________\n",
      "block_5_expand_relu (ReLU)      (None, 28, 28, 192)  0           block_5_expand_BN[0][0]          \n",
      "__________________________________________________________________________________________________\n",
      "block_5_depthwise (DepthwiseCon (None, 28, 28, 192)  1728        block_5_expand_relu[0][0]        \n",
      "__________________________________________________________________________________________________\n",
      "block_5_depthwise_BN (BatchNorm (None, 28, 28, 192)  768         block_5_depthwise[0][0]          \n",
      "__________________________________________________________________________________________________\n",
      "block_5_depthwise_relu (ReLU)   (None, 28, 28, 192)  0           block_5_depthwise_BN[0][0]       \n",
      "__________________________________________________________________________________________________\n",
      "block_5_project (Conv2D)        (None, 28, 28, 32)   6144        block_5_depthwise_relu[0][0]     \n",
      "__________________________________________________________________________________________________\n",
      "block_5_project_BN (BatchNormal (None, 28, 28, 32)   128         block_5_project[0][0]            \n",
      "__________________________________________________________________________________________________\n",
      "block_5_add (Add)               (None, 28, 28, 32)   0           block_4_add[0][0]                \n",
      "                                                                 block_5_project_BN[0][0]         \n",
      "__________________________________________________________________________________________________\n",
      "block_6_expand (Conv2D)         (None, 28, 28, 192)  6144        block_5_add[0][0]                \n",
      "__________________________________________________________________________________________________\n",
      "block_6_expand_BN (BatchNormali (None, 28, 28, 192)  768         block_6_expand[0][0]             \n",
      "__________________________________________________________________________________________________\n",
      "block_6_expand_relu (ReLU)      (None, 28, 28, 192)  0           block_6_expand_BN[0][0]          \n",
      "__________________________________________________________________________________________________\n",
      "block_6_pad (ZeroPadding2D)     (None, 29, 29, 192)  0           block_6_expand_relu[0][0]        \n",
      "__________________________________________________________________________________________________\n",
      "block_6_depthwise (DepthwiseCon (None, 14, 14, 192)  1728        block_6_pad[0][0]                \n",
      "__________________________________________________________________________________________________\n",
      "block_6_depthwise_BN (BatchNorm (None, 14, 14, 192)  768         block_6_depthwise[0][0]          \n",
      "__________________________________________________________________________________________________\n",
      "block_6_depthwise_relu (ReLU)   (None, 14, 14, 192)  0           block_6_depthwise_BN[0][0]       \n",
      "__________________________________________________________________________________________________\n",
      "block_6_project (Conv2D)        (None, 14, 14, 64)   12288       block_6_depthwise_relu[0][0]     \n",
      "__________________________________________________________________________________________________\n",
      "block_6_project_BN (BatchNormal (None, 14, 14, 64)   256         block_6_project[0][0]            \n",
      "__________________________________________________________________________________________________\n",
      "block_7_expand (Conv2D)         (None, 14, 14, 384)  24576       block_6_project_BN[0][0]         \n",
      "__________________________________________________________________________________________________\n",
      "block_7_expand_BN (BatchNormali (None, 14, 14, 384)  1536        block_7_expand[0][0]             \n",
      "__________________________________________________________________________________________________\n",
      "block_7_expand_relu (ReLU)      (None, 14, 14, 384)  0           block_7_expand_BN[0][0]          \n",
      "__________________________________________________________________________________________________\n",
      "block_7_depthwise (DepthwiseCon (None, 14, 14, 384)  3456        block_7_expand_relu[0][0]        \n",
      "__________________________________________________________________________________________________\n",
      "block_7_depthwise_BN (BatchNorm (None, 14, 14, 384)  1536        block_7_depthwise[0][0]          \n",
      "__________________________________________________________________________________________________\n",
      "block_7_depthwise_relu (ReLU)   (None, 14, 14, 384)  0           block_7_depthwise_BN[0][0]       \n",
      "__________________________________________________________________________________________________\n",
      "block_7_project (Conv2D)        (None, 14, 14, 64)   24576       block_7_depthwise_relu[0][0]     \n",
      "__________________________________________________________________________________________________\n",
      "block_7_project_BN (BatchNormal (None, 14, 14, 64)   256         block_7_project[0][0]            \n",
      "__________________________________________________________________________________________________\n",
      "block_7_add (Add)               (None, 14, 14, 64)   0           block_6_project_BN[0][0]         \n",
      "                                                                 block_7_project_BN[0][0]         \n",
      "__________________________________________________________________________________________________\n",
      "block_8_expand (Conv2D)         (None, 14, 14, 384)  24576       block_7_add[0][0]                \n",
      "__________________________________________________________________________________________________\n",
      "block_8_expand_BN (BatchNormali (None, 14, 14, 384)  1536        block_8_expand[0][0]             \n",
      "__________________________________________________________________________________________________\n",
      "block_8_expand_relu (ReLU)      (None, 14, 14, 384)  0           block_8_expand_BN[0][0]          \n",
      "__________________________________________________________________________________________________\n",
      "block_8_depthwise (DepthwiseCon (None, 14, 14, 384)  3456        block_8_expand_relu[0][0]        \n",
      "__________________________________________________________________________________________________\n",
      "block_8_depthwise_BN (BatchNorm (None, 14, 14, 384)  1536        block_8_depthwise[0][0]          \n",
      "__________________________________________________________________________________________________\n",
      "block_8_depthwise_relu (ReLU)   (None, 14, 14, 384)  0           block_8_depthwise_BN[0][0]       \n",
      "__________________________________________________________________________________________________\n",
      "block_8_project (Conv2D)        (None, 14, 14, 64)   24576       block_8_depthwise_relu[0][0]     \n",
      "__________________________________________________________________________________________________\n",
      "block_8_project_BN (BatchNormal (None, 14, 14, 64)   256         block_8_project[0][0]            \n",
      "__________________________________________________________________________________________________\n",
      "block_8_add (Add)               (None, 14, 14, 64)   0           block_7_add[0][0]                \n",
      "                                                                 block_8_project_BN[0][0]         \n",
      "__________________________________________________________________________________________________\n",
      "block_9_expand (Conv2D)         (None, 14, 14, 384)  24576       block_8_add[0][0]                \n",
      "__________________________________________________________________________________________________\n",
      "block_9_expand_BN (BatchNormali (None, 14, 14, 384)  1536        block_9_expand[0][0]             \n",
      "__________________________________________________________________________________________________\n",
      "block_9_expand_relu (ReLU)      (None, 14, 14, 384)  0           block_9_expand_BN[0][0]          \n",
      "__________________________________________________________________________________________________\n",
      "block_9_depthwise (DepthwiseCon (None, 14, 14, 384)  3456        block_9_expand_relu[0][0]        \n",
      "__________________________________________________________________________________________________\n",
      "block_9_depthwise_BN (BatchNorm (None, 14, 14, 384)  1536        block_9_depthwise[0][0]          \n",
      "__________________________________________________________________________________________________\n",
      "block_9_depthwise_relu (ReLU)   (None, 14, 14, 384)  0           block_9_depthwise_BN[0][0]       \n",
      "__________________________________________________________________________________________________\n",
      "block_9_project (Conv2D)        (None, 14, 14, 64)   24576       block_9_depthwise_relu[0][0]     \n",
      "__________________________________________________________________________________________________\n",
      "block_9_project_BN (BatchNormal (None, 14, 14, 64)   256         block_9_project[0][0]            \n",
      "__________________________________________________________________________________________________\n",
      "block_9_add (Add)               (None, 14, 14, 64)   0           block_8_add[0][0]                \n",
      "                                                                 block_9_project_BN[0][0]         \n",
      "__________________________________________________________________________________________________\n",
      "block_10_expand (Conv2D)        (None, 14, 14, 384)  24576       block_9_add[0][0]                \n",
      "__________________________________________________________________________________________________\n",
      "block_10_expand_BN (BatchNormal (None, 14, 14, 384)  1536        block_10_expand[0][0]            \n",
      "__________________________________________________________________________________________________\n",
      "block_10_expand_relu (ReLU)     (None, 14, 14, 384)  0           block_10_expand_BN[0][0]         \n",
      "__________________________________________________________________________________________________\n",
      "block_10_depthwise (DepthwiseCo (None, 14, 14, 384)  3456        block_10_expand_relu[0][0]       \n",
      "__________________________________________________________________________________________________\n",
      "block_10_depthwise_BN (BatchNor (None, 14, 14, 384)  1536        block_10_depthwise[0][0]         \n",
      "__________________________________________________________________________________________________\n",
      "block_10_depthwise_relu (ReLU)  (None, 14, 14, 384)  0           block_10_depthwise_BN[0][0]      \n",
      "__________________________________________________________________________________________________\n",
      "block_10_project (Conv2D)       (None, 14, 14, 96)   36864       block_10_depthwise_relu[0][0]    \n",
      "__________________________________________________________________________________________________\n",
      "block_10_project_BN (BatchNorma (None, 14, 14, 96)   384         block_10_project[0][0]           \n",
      "__________________________________________________________________________________________________\n",
      "block_11_expand (Conv2D)        (None, 14, 14, 576)  55296       block_10_project_BN[0][0]        \n",
      "__________________________________________________________________________________________________\n",
      "block_11_expand_BN (BatchNormal (None, 14, 14, 576)  2304        block_11_expand[0][0]            \n",
      "__________________________________________________________________________________________________\n",
      "block_11_expand_relu (ReLU)     (None, 14, 14, 576)  0           block_11_expand_BN[0][0]         \n",
      "__________________________________________________________________________________________________\n",
      "block_11_depthwise (DepthwiseCo (None, 14, 14, 576)  5184        block_11_expand_relu[0][0]       \n",
      "__________________________________________________________________________________________________\n",
      "block_11_depthwise_BN (BatchNor (None, 14, 14, 576)  2304        block_11_depthwise[0][0]         \n",
      "__________________________________________________________________________________________________\n",
      "block_11_depthwise_relu (ReLU)  (None, 14, 14, 576)  0           block_11_depthwise_BN[0][0]      \n",
      "__________________________________________________________________________________________________\n",
      "block_11_project (Conv2D)       (None, 14, 14, 96)   55296       block_11_depthwise_relu[0][0]    \n",
      "__________________________________________________________________________________________________\n",
      "block_11_project_BN (BatchNorma (None, 14, 14, 96)   384         block_11_project[0][0]           \n",
      "__________________________________________________________________________________________________\n",
      "block_11_add (Add)              (None, 14, 14, 96)   0           block_10_project_BN[0][0]        \n",
      "                                                                 block_11_project_BN[0][0]        \n",
      "__________________________________________________________________________________________________\n",
      "block_12_expand (Conv2D)        (None, 14, 14, 576)  55296       block_11_add[0][0]               \n",
      "__________________________________________________________________________________________________\n",
      "block_12_expand_BN (BatchNormal (None, 14, 14, 576)  2304        block_12_expand[0][0]            \n",
      "__________________________________________________________________________________________________\n",
      "block_12_expand_relu (ReLU)     (None, 14, 14, 576)  0           block_12_expand_BN[0][0]         \n",
      "__________________________________________________________________________________________________\n",
      "block_12_depthwise (DepthwiseCo (None, 14, 14, 576)  5184        block_12_expand_relu[0][0]       \n",
      "__________________________________________________________________________________________________\n",
      "block_12_depthwise_BN (BatchNor (None, 14, 14, 576)  2304        block_12_depthwise[0][0]         \n",
      "__________________________________________________________________________________________________\n",
      "block_12_depthwise_relu (ReLU)  (None, 14, 14, 576)  0           block_12_depthwise_BN[0][0]      \n",
      "__________________________________________________________________________________________________\n",
      "block_12_project (Conv2D)       (None, 14, 14, 96)   55296       block_12_depthwise_relu[0][0]    \n",
      "__________________________________________________________________________________________________\n",
      "block_12_project_BN (BatchNorma (None, 14, 14, 96)   384         block_12_project[0][0]           \n",
      "__________________________________________________________________________________________________\n",
      "block_12_add (Add)              (None, 14, 14, 96)   0           block_11_add[0][0]               \n",
      "                                                                 block_12_project_BN[0][0]        \n",
      "__________________________________________________________________________________________________\n",
      "block_13_expand (Conv2D)        (None, 14, 14, 576)  55296       block_12_add[0][0]               \n",
      "__________________________________________________________________________________________________\n",
      "block_13_expand_BN (BatchNormal (None, 14, 14, 576)  2304        block_13_expand[0][0]            \n",
      "__________________________________________________________________________________________________\n",
      "block_13_expand_relu (ReLU)     (None, 14, 14, 576)  0           block_13_expand_BN[0][0]         \n",
      "__________________________________________________________________________________________________\n",
      "block_13_pad (ZeroPadding2D)    (None, 15, 15, 576)  0           block_13_expand_relu[0][0]       \n",
      "__________________________________________________________________________________________________\n",
      "block_13_depthwise (DepthwiseCo (None, 7, 7, 576)    5184        block_13_pad[0][0]               \n",
      "__________________________________________________________________________________________________\n",
      "block_13_depthwise_BN (BatchNor (None, 7, 7, 576)    2304        block_13_depthwise[0][0]         \n",
      "__________________________________________________________________________________________________\n",
      "block_13_depthwise_relu (ReLU)  (None, 7, 7, 576)    0           block_13_depthwise_BN[0][0]      \n",
      "__________________________________________________________________________________________________\n",
      "block_13_project (Conv2D)       (None, 7, 7, 160)    92160       block_13_depthwise_relu[0][0]    \n",
      "__________________________________________________________________________________________________\n",
      "block_13_project_BN (BatchNorma (None, 7, 7, 160)    640         block_13_project[0][0]           \n",
      "__________________________________________________________________________________________________\n",
      "block_14_expand (Conv2D)        (None, 7, 7, 960)    153600      block_13_project_BN[0][0]        \n",
      "__________________________________________________________________________________________________\n",
      "block_14_expand_BN (BatchNormal (None, 7, 7, 960)    3840        block_14_expand[0][0]            \n",
      "__________________________________________________________________________________________________\n",
      "block_14_expand_relu (ReLU)     (None, 7, 7, 960)    0           block_14_expand_BN[0][0]         \n",
      "__________________________________________________________________________________________________\n",
      "block_14_depthwise (DepthwiseCo (None, 7, 7, 960)    8640        block_14_expand_relu[0][0]       \n",
      "__________________________________________________________________________________________________\n",
      "block_14_depthwise_BN (BatchNor (None, 7, 7, 960)    3840        block_14_depthwise[0][0]         \n",
      "__________________________________________________________________________________________________\n",
      "block_14_depthwise_relu (ReLU)  (None, 7, 7, 960)    0           block_14_depthwise_BN[0][0]      \n",
      "__________________________________________________________________________________________________\n",
      "block_14_project (Conv2D)       (None, 7, 7, 160)    153600      block_14_depthwise_relu[0][0]    \n",
      "__________________________________________________________________________________________________\n",
      "block_14_project_BN (BatchNorma (None, 7, 7, 160)    640         block_14_project[0][0]           \n",
      "__________________________________________________________________________________________________\n",
      "block_14_add (Add)              (None, 7, 7, 160)    0           block_13_project_BN[0][0]        \n",
      "                                                                 block_14_project_BN[0][0]        \n",
      "__________________________________________________________________________________________________\n",
      "block_15_expand (Conv2D)        (None, 7, 7, 960)    153600      block_14_add[0][0]               \n",
      "__________________________________________________________________________________________________\n",
      "block_15_expand_BN (BatchNormal (None, 7, 7, 960)    3840        block_15_expand[0][0]            \n",
      "__________________________________________________________________________________________________\n",
      "block_15_expand_relu (ReLU)     (None, 7, 7, 960)    0           block_15_expand_BN[0][0]         \n",
      "__________________________________________________________________________________________________\n",
      "block_15_depthwise (DepthwiseCo (None, 7, 7, 960)    8640        block_15_expand_relu[0][0]       \n",
      "__________________________________________________________________________________________________\n",
      "block_15_depthwise_BN (BatchNor (None, 7, 7, 960)    3840        block_15_depthwise[0][0]         \n",
      "__________________________________________________________________________________________________\n",
      "block_15_depthwise_relu (ReLU)  (None, 7, 7, 960)    0           block_15_depthwise_BN[0][0]      \n",
      "__________________________________________________________________________________________________\n",
      "block_15_project (Conv2D)       (None, 7, 7, 160)    153600      block_15_depthwise_relu[0][0]    \n",
      "__________________________________________________________________________________________________\n",
      "block_15_project_BN (BatchNorma (None, 7, 7, 160)    640         block_15_project[0][0]           \n",
      "__________________________________________________________________________________________________\n",
      "block_15_add (Add)              (None, 7, 7, 160)    0           block_14_add[0][0]               \n",
      "                                                                 block_15_project_BN[0][0]        \n",
      "__________________________________________________________________________________________________\n",
      "block_16_expand (Conv2D)        (None, 7, 7, 960)    153600      block_15_add[0][0]               \n",
      "__________________________________________________________________________________________________\n",
      "block_16_expand_BN (BatchNormal (None, 7, 7, 960)    3840        block_16_expand[0][0]            \n",
      "__________________________________________________________________________________________________\n",
      "block_16_expand_relu (ReLU)     (None, 7, 7, 960)    0           block_16_expand_BN[0][0]         \n",
      "__________________________________________________________________________________________________\n",
      "block_16_depthwise (DepthwiseCo (None, 7, 7, 960)    8640        block_16_expand_relu[0][0]       \n",
      "__________________________________________________________________________________________________\n",
      "block_16_depthwise_BN (BatchNor (None, 7, 7, 960)    3840        block_16_depthwise[0][0]         \n",
      "__________________________________________________________________________________________________\n",
      "block_16_depthwise_relu (ReLU)  (None, 7, 7, 960)    0           block_16_depthwise_BN[0][0]      \n",
      "__________________________________________________________________________________________________\n",
      "block_16_project (Conv2D)       (None, 7, 7, 320)    307200      block_16_depthwise_relu[0][0]    \n",
      "__________________________________________________________________________________________________\n",
      "block_16_project_BN (BatchNorma (None, 7, 7, 320)    1280        block_16_project[0][0]           \n",
      "__________________________________________________________________________________________________\n",
      "Conv_1 (Conv2D)                 (None, 7, 7, 1280)   409600      block_16_project_BN[0][0]        \n",
      "__________________________________________________________________________________________________\n",
      "Conv_1_bn (BatchNormalization)  (None, 7, 7, 1280)   5120        Conv_1[0][0]                     \n",
      "__________________________________________________________________________________________________\n",
      "out_relu (ReLU)                 (None, 7, 7, 1280)   0           Conv_1_bn[0][0]                  \n",
      "__________________________________________________________________________________________________\n",
      "global_average_pooling2d (Globa (None, 1280)         0           out_relu[0][0]                   \n",
      "==================================================================================================\n",
      "Total params: 2,257,984\n",
      "Trainable params: 2,223,872\n",
      "Non-trainable params: 34,112\n",
      "__________________________________________________________________________________________________\n"
     ]
    }
   ],
   "source": [
    "import tensorflow\n",
    "# This network has many hyper parameters that you have to adjust first\n",
    "# The first hyperparameter gives you the freedom to choose whether to enter the final dense layer of the network or cancel it, in which case it has been cancelled.\n",
    "mnet = tensorflow.keras.applications.mobilenet_v2.MobileNetV2(include_top=False, \n",
    "                                                      input_shape=(220, 220, 3),#same as of custom model\n",
    "                                                      pooling='avg',\n",
    "                                                      weights='imagenet')\n",
    "\n",
    "mnet.summary()"
   ]
  },
  {
   "cell_type": "code",
   "execution_count": 15,
   "metadata": {
    "id": "kSDKs3-auEMi"
   },
   "outputs": [],
   "source": [
    "model2=Sequential([\n",
    "    mnet,\n",
    "    Dropout(0.25),\n",
    "    Dense(10,activation='softmax') # here we use 10 layers because we have to predict bewtween 10 classes\n",
    "])"
   ]
  },
  {
   "cell_type": "code",
   "execution_count": 16,
   "metadata": {
    "id": "L0aXWHmIuEOW"
   },
   "outputs": [
    {
     "name": "stdout",
     "output_type": "stream",
     "text": [
      "Model: \"sequential_1\"\n",
      "_________________________________________________________________\n",
      "Layer (type)                 Output Shape              Param #   \n",
      "=================================================================\n",
      "mobilenetv2_1.00_224 (Functi (None, 1280)              2257984   \n",
      "_________________________________________________________________\n",
      "dropout_1 (Dropout)          (None, 1280)              0         \n",
      "_________________________________________________________________\n",
      "dense_2 (Dense)              (None, 10)                12810     \n",
      "=================================================================\n",
      "Total params: 2,270,794\n",
      "Trainable params: 12,810\n",
      "Non-trainable params: 2,257,984\n",
      "_________________________________________________________________\n"
     ]
    }
   ],
   "source": [
    "# here we freezed the layer that responsible for feature extraction\n",
    "model2.layers[0].trainable = False\n",
    "model2.summary()"
   ]
  },
  {
   "cell_type": "code",
   "execution_count": 17,
   "metadata": {
    "id": "JyK1FF8UuEQT",
    "scrolled": true
   },
   "outputs": [
    {
     "name": "stdout",
     "output_type": "stream",
     "text": [
      "Epoch 1/10\n",
      "39/39 [==============================] - 11s 257ms/step - loss: 1.8650 - accuracy: 0.3871 - precision_1: 0.7045 - recall_1: 0.1333 - val_loss: 0.8453 - val_accuracy: 0.8700 - val_precision_1: 0.9890 - val_recall_1: 0.4500\n",
      "Epoch 2/10\n",
      "39/39 [==============================] - 9s 237ms/step - loss: 0.6913 - accuracy: 0.8538 - precision_1: 0.9654 - recall_1: 0.6000 - val_loss: 0.4340 - val_accuracy: 0.9250 - val_precision_1: 0.9821 - val_recall_1: 0.8250\n",
      "Epoch 3/10\n",
      "39/39 [==============================] - 9s 241ms/step - loss: 0.3882 - accuracy: 0.9355 - precision_1: 0.9846 - recall_1: 0.8258 - val_loss: 0.3081 - val_accuracy: 0.9650 - val_precision_1: 0.9835 - val_recall_1: 0.8950\n",
      "Epoch 4/10\n",
      "39/39 [==============================] - 9s 236ms/step - loss: 0.2551 - accuracy: 0.9699 - precision_1: 0.9930 - recall_1: 0.9183 - val_loss: 0.2586 - val_accuracy: 0.9600 - val_precision_1: 0.9839 - val_recall_1: 0.9150\n",
      "Epoch 5/10\n",
      "39/39 [==============================] - 9s 237ms/step - loss: 0.2146 - accuracy: 0.9699 - precision_1: 0.9865 - recall_1: 0.9398 - val_loss: 0.1954 - val_accuracy: 0.9700 - val_precision_1: 0.9842 - val_recall_1: 0.9350\n",
      "Epoch 6/10\n",
      "39/39 [==============================] - 9s 234ms/step - loss: 0.1419 - accuracy: 0.9914 - precision_1: 0.9934 - recall_1: 0.9699 - val_loss: 0.1713 - val_accuracy: 0.9750 - val_precision_1: 0.9845 - val_recall_1: 0.9550\n",
      "Epoch 7/10\n",
      "39/39 [==============================] - 9s 234ms/step - loss: 0.1133 - accuracy: 0.9935 - precision_1: 1.0000 - recall_1: 0.9828 - val_loss: 0.1531 - val_accuracy: 0.9750 - val_precision_1: 0.9845 - val_recall_1: 0.9550\n",
      "Epoch 8/10\n",
      "39/39 [==============================] - 9s 234ms/step - loss: 0.0994 - accuracy: 0.9978 - precision_1: 0.9978 - recall_1: 0.9892 - val_loss: 0.1523 - val_accuracy: 0.9650 - val_precision_1: 0.9845 - val_recall_1: 0.9550\n",
      "Epoch 9/10\n",
      "39/39 [==============================] - 9s 236ms/step - loss: 0.0817 - accuracy: 0.9935 - precision_1: 0.9978 - recall_1: 0.9871 - val_loss: 0.1384 - val_accuracy: 0.9650 - val_precision_1: 0.9796 - val_recall_1: 0.9600\n",
      "Epoch 10/10\n",
      "39/39 [==============================] - 9s 233ms/step - loss: 0.0688 - accuracy: 0.9978 - precision_1: 0.9978 - recall_1: 0.9957 - val_loss: 0.1219 - val_accuracy: 0.9750 - val_precision_1: 0.9846 - val_recall_1: 0.9600\n"
     ]
    }
   ],
   "source": [
    "model2.compile(loss='categorical_crossentropy', optimizer='adam', metrics=['accuracy',Precision(), Recall()])\n",
    "history2=model2.fit(x_train,y_train,batch_size=12, epochs=10,validation_split=0.3)"
   ]
  },
  {
   "cell_type": "code",
   "execution_count": 20,
   "metadata": {
    "id": "0pIR-gCNuESS"
   },
   "outputs": [
    {
     "name": "stdout",
     "output_type": "stream",
     "text": [
      "6/6 [==============================] - 2s 350ms/step - loss: 0.1947 - accuracy: 0.9701 - precision_1: 0.9747 - recall_1: 0.9222\n"
     ]
    },
    {
     "data": {
      "image/png": "[encoded data removed]",
      "text/plain": [
       "<Figure size 864x576 with 1 Axes>"
      ]
     },
     "metadata": {},
     "output_type": "display_data"
    }
   ],
   "source": [
    "loss,accuracy,precision,recall=model2.evaluate(x_test,y_test)\n",
    "sns.set_style('darkgrid')\n",
    "plt.figure(figsize=(12,8))\n",
    "plt.plot(history2.history['accuracy'])\n",
    "plt.plot(history2.history['val_accuracy'])\n",
    "plt.xlabel('Epochs')\n",
    "plt.ylabel('Accuracy score')\n",
    "plt.title('Model Accuracy')\n",
    "plt.legend(['Train','Test'])\n",
    "plt.show()"
   ]
  },
  {
   "cell_type": "code",
   "execution_count": null,
   "metadata": {},
   "outputs": [],
   "source": []
  },
  {
   "cell_type": "code",
   "execution_count": null,
   "metadata": {},
   "outputs": [],
   "source": []
  }
 ],
 "metadata": {
  "colab": {
   "collapsed_sections": [],
   "name": "Untitled2.ipynb",
   "provenance": []
  },
  "kernelspec": {
   "display_name": "Python 3 (ipykernel)",
   "language": "python",
   "name": "python3"
  },
  "language_info": {
   "codemirror_mode": {
    "name": "ipython",
    "version": 3
   },
   "file_extension": ".py",
   "mimetype": "text/x-python",
   "name": "python",
   "nbconvert_exporter": "python",
   "pygments_lexer": "ipython3",
   "version": "3.9.7"
  }
 },
 "nbformat": 4,
 "nbformat_minor": 4
}

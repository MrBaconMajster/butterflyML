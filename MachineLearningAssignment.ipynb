{
 "cells": [
  {
   "cell_type": "code",
   "execution_count": 1,
   "metadata": {
    "id": "MVcPwFhvsch4"
   },
   "outputs": [],
   "source": [
    "# 18222757 Maciej Augustynek ,18244327 Bartlomiej Skorecki\n",
    "# Code executes till the end without errors\n",
    "# Original source : https://www.kaggle.com/esraamohamedahmed/classification-of-butterflies-images"
   ]
  },
  {
   "cell_type": "code",
   "execution_count": 2,
   "metadata": {
    "id": "EBh-8oBAtiV5"
   },
   "outputs": [],
   "source": [
    "# This Python 3 environment comes with many helpful analytics libraries installed\n",
    "# It is defined by the kaggle/python Docker image: https://github.com/kaggle/docker-python\n",
    "# For example, here's several helpful packages to load\n",
    "\n",
    "import numpy as np \n",
    "import pandas as pd\n",
    "import os\n",
    "from tensorflow.keras.metrics import Precision , Recall"
   ]
  },
  {
   "cell_type": "code",
   "execution_count": 3,
   "metadata": {
    "id": "oyK5dKektuTp"
   },
   "outputs": [],
   "source": [
    "import cv2\n",
    "path='./images/'\n",
    "file=os.listdir('./images/')\n",
    "features=[] #to store images\n",
    "labels=[] #to store labels\n",
    "for img in file:\n",
    "    # label=int(img) \n",
    "    label=int(img[:3]) #extracts label from the image file name\n",
    "    labels.append(label) #adds the found label to the list of labels\n",
    "    img_array=cv2.imread(os.path.join(path,img),cv2.IMREAD_COLOR)\n",
    "    #Resizes images into the size 224x224\n",
    "    img_array=cv2.resize(img_array,(224,224))\n",
    "    #stores images in the array\n",
    "    features.append(img_array)"
   ]
  },
  {
   "cell_type": "code",
   "execution_count": 4,
   "metadata": {
    "id": "EkIz7S2Ot4w4"
   },
   "outputs": [
    {
     "data": {
      "text/plain": [
       "['001.txt',\n",
       " '002.txt',\n",
       " '003.txt',\n",
       " '004.txt',\n",
       " '005.txt',\n",
       " '006.txt',\n",
       " '007.txt',\n",
       " '008.txt',\n",
       " '009.txt',\n",
       " '010.txt']"
      ]
     },
     "execution_count": 4,
     "metadata": {},
     "output_type": "execute_result"
    }
   ],
   "source": [
    "import os\n",
    "descrid_path='./descriptions'\n",
    "descrid=os.listdir('./descriptions')\n",
    "descrid"
   ]
  },
  {
   "cell_type": "code",
   "execution_count": 5,
   "metadata": {
    "id": "sNhJA5gEt5Gc"
   },
   "outputs": [],
   "source": [
    "#Creating a list of butterfly types\n",
    "dict_1={'001': 'Danaus_plexippus', '002': 'Heliconius_charitonius', '003': 'Heliconius_erato', '004': 'Junonia_coenia', '005': 'Lycaena_phlaeas', '006': 'Nymphalis_antiopa', '007': 'Papilio_cresphontes', '008': 'Pieris_rapae', '009': 'Vanessa_atalanta', '0010': 'Vanessa_cardui'} "
   ]
  },
  {
   "cell_type": "code",
   "execution_count": 6,
   "metadata": {
    "id": "p9QAUoPQt5IQ"
   },
   "outputs": [
    {
     "name": "stdout",
     "output_type": "stream",
     "text": [
      "{1, 2, 3, 4, 5, 6, 7, 8, 9, 10}\n",
      "{'Nymphalis_antiopa', 'Junonia_coenia', 'Vanessa_cardui', 'Danaus_plexippus', 'Lycaena_phlaeas', 'Papilio_cresphontes', 'Vanessa_atalanta', 'Heliconius_charitonius', 'Heliconius_erato', 'Pieris_rapae'}\n"
     ]
    }
   ],
   "source": [
    "print(set(labels))\n",
    "list_labels=[]\n",
    "#We add labels to a set for each image in the dataset. We will use this list later to assign the labels to the images.\n",
    "for i in labels:\n",
    "    new_label=dict_1['00'+str(i)]\n",
    "    list_labels.append(new_label)\n",
    "#Printed unique labels from the labels added\n",
    "print(set(list_labels)) "
   ]
  },
  {
   "cell_type": "code",
   "execution_count": 7,
   "metadata": {
    "id": "7BUvaHZwt5KE"
   },
   "outputs": [
    {
     "name": "stdout",
     "output_type": "stream",
     "text": [
      "(832, 227, 227, 3)\n"
     ]
    }
   ],
   "source": [
    "import numpy as np\n",
    "#We change the 220x220 images into a numpy array to make it easier for them to work with the model\n",
    "features=np.array(features)\n",
    "#Normalising the images\n",
    "features=features/255.0\n",
    "features=features.reshape(-1,227,227,3)\n",
    "print(features.shape)"
   ]
  },
  {
   "cell_type": "code",
   "execution_count": 8,
   "metadata": {
    "id": "De2ihj3_t5SG"
   },
   "outputs": [],
   "source": [
    "#OneHotEncoding:To deal with categorical values we need to preprocess it using onehot ecnoding\n",
    "from sklearn.preprocessing import OneHotEncoder,LabelEncoder\n",
    "#One hot encoding coverts our labels so they can be processed by the ML model better to get a better prediction\n",
    "le=LabelEncoder()\n",
    "#Fits our labels into the LabelEncoder and returns the transformed data\n",
    "y=le.fit_transform(list_labels)\n",
    "from tensorflow.keras.utils import to_categorical\n",
    "#Needs to be changed to to_categorical since we have more than 2 classes to be identified\n",
    "y=to_categorical(y)"
   ]
  },
  {
   "cell_type": "code",
   "execution_count": 9,
   "metadata": {
    "id": "kBQn7MdGt5T7"
   },
   "outputs": [],
   "source": [
    "from sklearn.model_selection import train_test_split\n",
    "#Splits our data into our training and test dataset. Our test data is 20% of the overall data and training data is 80%\n",
    "x_train,x_test,y_train,y_test=train_test_split(features,y,random_state=11,test_size=0.2)"
   ]
  },
  {
   "cell_type": "code",
   "execution_count": 10,
   "metadata": {
    "id": "ztrKG8a-t_2g"
   },
   "outputs": [],
   "source": [
    "from tensorflow.keras.layers import (\n",
    "    BatchNormalization, Conv2D, MaxPooling2D, Activation, Flatten, Dropout, Dense\n",
    ")\n",
    "from tensorflow.keras.models import Sequential\n",
    "from tensorflow.keras.optimizers import Adam\n",
    "from tensorflow.keras.regularizers import l2,l1\n",
    "from tensorflow.keras import layers\n",
    "import tensorflow as tf\n",
    "\n",
    "\n",
    "#Our data in the model will also be copied and flipped to perform augmentation. This will lead to a better accuracy and it will generalise features better\n",
    "data_augmentation = tf.keras.Sequential([\n",
    "  layers.RandomFlip(\"horizontal_and_vertical\"),\n",
    "  layers.RandomRotation(0.2),\n",
    "])\n",
    "\n",
    "#Building the model\n",
    "model = tf.keras.Sequential([\n",
    "  # Add the preprocessing layers you created earlier. Also added augmented data that has been flipped and rotated\n",
    "  data_augmentation,\n",
    "])\n",
    "\n",
    "\n",
    "# Allows us to create multiple layers to use a CNN structure. We are using a AlexNet implementation modified for overfitting\n",
    "model.add(Conv2D(32, (3,3), padding=\"same\", activation = 'relu', kernel_regularizer=l2(0.0002) , input_shape=(227,227,3)))\n",
    "model.add(BatchNormalization())\n",
    "model.add(MaxPooling2D((3,3)))\n",
    "\n",
    "\n",
    "model.add(Conv2D(32, (5, 5), activation='relu', kernel_regularizer=l2(0.0002))) \n",
    "model.add(BatchNormalization())\n",
    "model.add(MaxPooling2D((3,3)))\n",
    "\n",
    "\n",
    "model.add(Conv2D(64, (3, 3), activation='relu', kernel_regularizer=l2(0.0002))) \n",
    "model.add(BatchNormalization())\n",
    "model.add(MaxPooling2D((2, 2)))\n",
    "\n",
    "\n",
    "model.add(Conv2D(128, (3, 3), activation='relu', kernel_regularizer=l2(0.0002))) \n",
    "model.add(BatchNormalization())\n",
    "model.add(MaxPooling2D((2, 2)))\n",
    "\n",
    "\n",
    "model.add(Conv2D(128, (3, 3), activation='relu' , kernel_regularizer=l2(0.0002))) \n",
    "model.add(BatchNormalization())\n",
    "model.add(MaxPooling2D((2, 2)))\n",
    "\n",
    "\n",
    "model.add(Flatten())\n",
    "# Dropout layer used to help reduce overfitting\n",
    "\n",
    "model.add(Dense(100, activation='relu'))\n",
    "model.add(Dropout(0.3))\n",
    "\n",
    "model.add(Dense(100, activation='relu'))\n",
    "model.add(Dropout(0.3))\n",
    "\n",
    "# Output layer have 10 labels \n",
    "model.add(Dense(10, activation='softmax'))\n",
    "\n"
   ]
  },
  {
   "cell_type": "code",
   "execution_count": 11,
   "metadata": {
    "id": "iar8DH8Ht_4Q"
   },
   "outputs": [
    {
     "name": "stdout",
     "output_type": "stream",
     "text": [
      "Epoch 1/50\n",
      "45/45 [==============================] - 16s 326ms/step - loss: 2.3356 - accuracy: 0.2462 - precision: 0.3285 - recall: 0.0846 - val_loss: 2.3882 - val_accuracy: 0.1203 - val_precision: 0.0000e+00 - val_recall: 0.0000e+00\n",
      "Epoch 2/50\n",
      "45/45 [==============================] - 14s 316ms/step - loss: 1.7937 - accuracy: 0.3741 - precision: 0.5602 - recall: 0.2011 - val_loss: 2.5993 - val_accuracy: 0.1579 - val_precision: 0.0000e+00 - val_recall: 0.0000e+00\n",
      "Epoch 3/50\n",
      "45/45 [==============================] - 14s 313ms/step - loss: 1.5213 - accuracy: 0.4737 - precision: 0.5973 - recall: 0.2538 - val_loss: 2.7002 - val_accuracy: 0.0902 - val_precision: 0.7778 - val_recall: 0.0526\n",
      "Epoch 4/50\n",
      "45/45 [==============================] - 14s 312ms/step - loss: 1.2625 - accuracy: 0.5602 - precision: 0.7427 - recall: 0.4286 - val_loss: 3.0036 - val_accuracy: 0.0827 - val_precision: 0.1507 - val_recall: 0.0827\n",
      "Epoch 5/50\n",
      "45/45 [==============================] - 14s 311ms/step - loss: 1.1442 - accuracy: 0.6128 - precision: 0.7442 - recall: 0.4812 - val_loss: 2.9283 - val_accuracy: 0.0827 - val_precision: 0.2619 - val_recall: 0.0827\n",
      "Epoch 6/50\n",
      "45/45 [==============================] - 14s 311ms/step - loss: 0.9936 - accuracy: 0.6936 - precision: 0.7690 - recall: 0.5508 - val_loss: 2.5995 - val_accuracy: 0.2331 - val_precision: 0.5000 - val_recall: 0.0677\n",
      "Epoch 7/50\n",
      "45/45 [==============================] - 14s 312ms/step - loss: 0.8920 - accuracy: 0.7256 - precision: 0.7875 - recall: 0.6410 - val_loss: 2.8033 - val_accuracy: 0.1579 - val_precision: 0.1786 - val_recall: 0.1128\n",
      "Epoch 8/50\n",
      "45/45 [==============================] - 14s 311ms/step - loss: 0.7735 - accuracy: 0.7594 - precision: 0.8436 - recall: 0.6692 - val_loss: 2.0773 - val_accuracy: 0.3083 - val_precision: 0.3690 - val_recall: 0.2331\n",
      "Epoch 9/50\n",
      "45/45 [==============================] - 14s 313ms/step - loss: 0.6597 - accuracy: 0.8083 - precision: 0.8761 - recall: 0.7575 - val_loss: 1.4749 - val_accuracy: 0.6090 - val_precision: 0.6800 - val_recall: 0.5113\n",
      "Epoch 10/50\n",
      "45/45 [==============================] - 14s 313ms/step - loss: 0.6089 - accuracy: 0.8195 - precision: 0.8686 - recall: 0.7707 - val_loss: 1.3757 - val_accuracy: 0.6617 - val_precision: 0.6911 - val_recall: 0.6391\n",
      "Epoch 11/50\n",
      "45/45 [==============================] - 14s 312ms/step - loss: 0.6156 - accuracy: 0.8045 - precision: 0.8584 - recall: 0.7519 - val_loss: 0.6946 - val_accuracy: 0.8195 - val_precision: 0.8347 - val_recall: 0.7594\n",
      "Epoch 12/50\n",
      "45/45 [==============================] - 14s 309ms/step - loss: 0.4864 - accuracy: 0.8609 - precision: 0.8878 - recall: 0.8177 - val_loss: 0.7130 - val_accuracy: 0.7594 - val_precision: 0.7967 - val_recall: 0.7368\n",
      "Epoch 13/50\n",
      "45/45 [==============================] - 14s 311ms/step - loss: 0.5734 - accuracy: 0.8477 - precision: 0.8827 - recall: 0.8064 - val_loss: 0.6631 - val_accuracy: 0.8195 - val_precision: 0.8655 - val_recall: 0.7744\n",
      "Epoch 14/50\n",
      "45/45 [==============================] - 14s 313ms/step - loss: 0.4478 - accuracy: 0.8722 - precision: 0.9179 - recall: 0.8402 - val_loss: 0.7375 - val_accuracy: 0.8045 - val_precision: 0.8347 - val_recall: 0.7594\n",
      "Epoch 15/50\n",
      "45/45 [==============================] - 14s 314ms/step - loss: 0.5664 - accuracy: 0.8365 - precision: 0.8837 - recall: 0.8139 - val_loss: 0.8511 - val_accuracy: 0.7970 - val_precision: 0.8525 - val_recall: 0.7820\n",
      "Epoch 16/50\n",
      "45/45 [==============================] - 14s 316ms/step - loss: 0.4429 - accuracy: 0.8853 - precision: 0.9066 - recall: 0.8571 - val_loss: 0.5309 - val_accuracy: 0.8722 - val_precision: 0.9098 - val_recall: 0.8346\n",
      "Epoch 17/50\n",
      "45/45 [==============================] - 14s 317ms/step - loss: 0.5324 - accuracy: 0.8647 - precision: 0.8884 - recall: 0.8233 - val_loss: 0.5018 - val_accuracy: 0.8496 - val_precision: 0.9032 - val_recall: 0.8421\n",
      "Epoch 18/50\n",
      "45/45 [==============================] - 14s 316ms/step - loss: 0.4919 - accuracy: 0.8759 - precision: 0.9173 - recall: 0.8553 - val_loss: 0.7588 - val_accuracy: 0.8195 - val_precision: 0.8425 - val_recall: 0.8045\n",
      "Epoch 19/50\n",
      "45/45 [==============================] - 14s 321ms/step - loss: 0.4228 - accuracy: 0.8891 - precision: 0.9134 - recall: 0.8722 - val_loss: 0.3956 - val_accuracy: 0.9323 - val_precision: 0.9462 - val_recall: 0.9248\n",
      "Epoch 20/50\n",
      "45/45 [==============================] - 14s 320ms/step - loss: 0.3523 - accuracy: 0.9135 - precision: 0.9369 - recall: 0.8929 - val_loss: 0.4936 - val_accuracy: 0.8797 - val_precision: 0.8828 - val_recall: 0.8496\n",
      "Epoch 21/50\n",
      "45/45 [==============================] - 14s 313ms/step - loss: 0.4151 - accuracy: 0.8910 - precision: 0.9111 - recall: 0.8665 - val_loss: 0.4483 - val_accuracy: 0.8872 - val_precision: 0.9206 - val_recall: 0.8722\n",
      "Epoch 22/50\n",
      "45/45 [==============================] - 14s 311ms/step - loss: 0.3319 - accuracy: 0.9248 - precision: 0.9366 - recall: 0.8891 - val_loss: 0.7452 - val_accuracy: 0.8195 - val_precision: 0.8571 - val_recall: 0.8120\n",
      "Epoch 23/50\n",
      "45/45 [==============================] - 14s 314ms/step - loss: 0.3829 - accuracy: 0.9004 - precision: 0.9165 - recall: 0.8872 - val_loss: 0.4314 - val_accuracy: 0.8872 - val_precision: 0.9000 - val_recall: 0.8797\n",
      "Epoch 24/50\n",
      "45/45 [==============================] - 14s 313ms/step - loss: 0.2845 - accuracy: 0.9417 - precision: 0.9553 - recall: 0.9229 - val_loss: 0.3293 - val_accuracy: 0.9323 - val_precision: 0.9375 - val_recall: 0.9023\n",
      "Epoch 25/50\n",
      "45/45 [==============================] - 14s 312ms/step - loss: 0.5283 - accuracy: 0.8647 - precision: 0.8913 - recall: 0.8477 - val_loss: 0.8536 - val_accuracy: 0.8120 - val_precision: 0.8268 - val_recall: 0.7895\n",
      "Epoch 26/50\n",
      "45/45 [==============================] - 14s 313ms/step - loss: 0.4084 - accuracy: 0.8872 - precision: 0.9091 - recall: 0.8647 - val_loss: 0.8090 - val_accuracy: 0.8195 - val_precision: 0.8571 - val_recall: 0.8120\n",
      "Epoch 27/50\n",
      "45/45 [==============================] - 14s 311ms/step - loss: 0.3184 - accuracy: 0.9286 - precision: 0.9434 - recall: 0.9079 - val_loss: 0.4239 - val_accuracy: 0.8797 - val_precision: 0.8976 - val_recall: 0.8571\n",
      "Epoch 28/50\n",
      "45/45 [==============================] - 14s 311ms/step - loss: 0.2716 - accuracy: 0.9398 - precision: 0.9494 - recall: 0.9173 - val_loss: 0.4517 - val_accuracy: 0.8947 - val_precision: 0.9225 - val_recall: 0.8947\n",
      "Epoch 29/50\n",
      "45/45 [==============================] - 14s 316ms/step - loss: 0.2764 - accuracy: 0.9436 - precision: 0.9595 - recall: 0.9361 - val_loss: 0.2839 - val_accuracy: 0.9624 - val_precision: 0.9618 - val_recall: 0.9474\n",
      "Epoch 30/50\n",
      "45/45 [==============================] - 14s 313ms/step - loss: 0.2706 - accuracy: 0.9417 - precision: 0.9542 - recall: 0.9398 - val_loss: 0.4870 - val_accuracy: 0.8872 - val_precision: 0.9008 - val_recall: 0.8872\n",
      "Epoch 31/50\n",
      "45/45 [==============================] - 14s 311ms/step - loss: 0.3892 - accuracy: 0.9323 - precision: 0.9367 - recall: 0.9173 - val_loss: 0.3567 - val_accuracy: 0.9248 - val_precision: 0.9389 - val_recall: 0.9248\n",
      "Epoch 32/50\n",
      "45/45 [==============================] - 14s 309ms/step - loss: 0.3053 - accuracy: 0.9305 - precision: 0.9470 - recall: 0.9060 - val_loss: 0.8275 - val_accuracy: 0.7895 - val_precision: 0.7984 - val_recall: 0.7744\n",
      "Epoch 33/50\n",
      "45/45 [==============================] - 14s 314ms/step - loss: 0.3193 - accuracy: 0.9229 - precision: 0.9342 - recall: 0.9079 - val_loss: 0.3904 - val_accuracy: 0.9098 - val_precision: 0.9225 - val_recall: 0.8947\n",
      "Epoch 34/50\n",
      "45/45 [==============================] - 14s 320ms/step - loss: 0.2531 - accuracy: 0.9568 - precision: 0.9634 - recall: 0.9398 - val_loss: 0.4174 - val_accuracy: 0.9098 - val_precision: 0.9225 - val_recall: 0.8947\n",
      "Epoch 35/50\n",
      "45/45 [==============================] - 14s 317ms/step - loss: 0.2603 - accuracy: 0.9455 - precision: 0.9520 - recall: 0.9323 - val_loss: 0.3856 - val_accuracy: 0.9098 - val_precision: 0.9237 - val_recall: 0.9098\n",
      "Epoch 36/50\n",
      "45/45 [==============================] - 14s 321ms/step - loss: 0.2208 - accuracy: 0.9511 - precision: 0.9618 - recall: 0.9455 - val_loss: 0.5373 - val_accuracy: 0.8496 - val_precision: 0.8750 - val_recall: 0.8421\n",
      "Epoch 37/50\n"
     ]
    },
    {
     "name": "stdout",
     "output_type": "stream",
     "text": [
      "45/45 [==============================] - 14s 313ms/step - loss: 0.2307 - accuracy: 0.9643 - precision: 0.9693 - recall: 0.9511 - val_loss: 0.3405 - val_accuracy: 0.9023 - val_precision: 0.9302 - val_recall: 0.9023\n",
      "Epoch 38/50\n",
      "45/45 [==============================] - 14s 314ms/step - loss: 0.3347 - accuracy: 0.9229 - precision: 0.9328 - recall: 0.9135 - val_loss: 0.4015 - val_accuracy: 0.8947 - val_precision: 0.9225 - val_recall: 0.8947\n",
      "Epoch 39/50\n",
      "45/45 [==============================] - 14s 317ms/step - loss: 0.2993 - accuracy: 0.9361 - precision: 0.9441 - recall: 0.9211 - val_loss: 0.3062 - val_accuracy: 0.9248 - val_precision: 0.9313 - val_recall: 0.9173\n",
      "Epoch 40/50\n",
      "45/45 [==============================] - 14s 316ms/step - loss: 0.2942 - accuracy: 0.9511 - precision: 0.9559 - recall: 0.9361 - val_loss: 0.7558 - val_accuracy: 0.7820 - val_precision: 0.8047 - val_recall: 0.7744\n",
      "Epoch 41/50\n",
      "45/45 [==============================] - 14s 314ms/step - loss: 0.4556 - accuracy: 0.9060 - precision: 0.9180 - recall: 0.8835 - val_loss: 0.8509 - val_accuracy: 0.7594 - val_precision: 0.7920 - val_recall: 0.7444\n",
      "Epoch 42/50\n",
      "45/45 [==============================] - 14s 319ms/step - loss: 0.3423 - accuracy: 0.9248 - precision: 0.9379 - recall: 0.9079 - val_loss: 0.5938 - val_accuracy: 0.8722 - val_precision: 0.8769 - val_recall: 0.8571\n",
      "Epoch 43/50\n",
      "45/45 [==============================] - 14s 315ms/step - loss: 0.2777 - accuracy: 0.9474 - precision: 0.9524 - recall: 0.9398 - val_loss: 0.2807 - val_accuracy: 0.9549 - val_precision: 0.9767 - val_recall: 0.9474\n",
      "Epoch 44/50\n",
      "45/45 [==============================] - 14s 313ms/step - loss: 0.1950 - accuracy: 0.9680 - precision: 0.9770 - recall: 0.9586 - val_loss: 0.3435 - val_accuracy: 0.9624 - val_precision: 0.9624 - val_recall: 0.9624\n",
      "Epoch 45/50\n",
      "45/45 [==============================] - 14s 314ms/step - loss: 0.2669 - accuracy: 0.9511 - precision: 0.9559 - recall: 0.9380 - val_loss: 0.5639 - val_accuracy: 0.8872 - val_precision: 0.8923 - val_recall: 0.8722\n",
      "Epoch 46/50\n",
      "45/45 [==============================] - 14s 317ms/step - loss: 0.2864 - accuracy: 0.9342 - precision: 0.9439 - recall: 0.9173 - val_loss: 0.9636 - val_accuracy: 0.8045 - val_precision: 0.8203 - val_recall: 0.7895\n",
      "Epoch 47/50\n",
      "45/45 [==============================] - 14s 316ms/step - loss: 0.2488 - accuracy: 0.9530 - precision: 0.9598 - recall: 0.9436 - val_loss: 0.5124 - val_accuracy: 0.9098 - val_precision: 0.9167 - val_recall: 0.9098\n",
      "Epoch 48/50\n",
      "45/45 [==============================] - 14s 315ms/step - loss: 0.2418 - accuracy: 0.9530 - precision: 0.9656 - recall: 0.9492 - val_loss: 0.3345 - val_accuracy: 0.9474 - val_precision: 0.9542 - val_recall: 0.9398\n",
      "Epoch 49/50\n",
      "45/45 [==============================] - 14s 313ms/step - loss: 0.2351 - accuracy: 0.9549 - precision: 0.9603 - recall: 0.9549 - val_loss: 0.4675 - val_accuracy: 0.9023 - val_precision: 0.9091 - val_recall: 0.9023\n",
      "Epoch 50/50\n",
      "45/45 [==============================] - 14s 315ms/step - loss: 0.2416 - accuracy: 0.9549 - precision: 0.9673 - recall: 0.9455 - val_loss: 0.3817 - val_accuracy: 0.9173 - val_precision: 0.9237 - val_recall: 0.9098\n",
      "Model: \"sequential_1\"\n",
      "_________________________________________________________________\n",
      "Layer (type)                 Output Shape              Param #   \n",
      "=================================================================\n",
      "sequential (Sequential)      (None, 227, 227, 3)       0         \n",
      "_________________________________________________________________\n",
      "conv2d (Conv2D)              (None, 227, 227, 32)      896       \n",
      "_________________________________________________________________\n",
      "batch_normalization (BatchNo (None, 227, 227, 32)      128       \n",
      "_________________________________________________________________\n",
      "max_pooling2d (MaxPooling2D) (None, 75, 75, 32)        0         \n",
      "_________________________________________________________________\n",
      "conv2d_1 (Conv2D)            (None, 71, 71, 32)        25632     \n",
      "_________________________________________________________________\n",
      "batch_normalization_1 (Batch (None, 71, 71, 32)        128       \n",
      "_________________________________________________________________\n",
      "max_pooling2d_1 (MaxPooling2 (None, 23, 23, 32)        0         \n",
      "_________________________________________________________________\n",
      "conv2d_2 (Conv2D)            (None, 21, 21, 64)        18496     \n",
      "_________________________________________________________________\n",
      "batch_normalization_2 (Batch (None, 21, 21, 64)        256       \n",
      "_________________________________________________________________\n",
      "max_pooling2d_2 (MaxPooling2 (None, 10, 10, 64)        0         \n",
      "_________________________________________________________________\n",
      "conv2d_3 (Conv2D)            (None, 8, 8, 128)         73856     \n",
      "_________________________________________________________________\n",
      "batch_normalization_3 (Batch (None, 8, 8, 128)         512       \n",
      "_________________________________________________________________\n",
      "max_pooling2d_3 (MaxPooling2 (None, 4, 4, 128)         0         \n",
      "_________________________________________________________________\n",
      "conv2d_4 (Conv2D)            (None, 2, 2, 128)         147584    \n",
      "_________________________________________________________________\n",
      "batch_normalization_4 (Batch (None, 2, 2, 128)         512       \n",
      "_________________________________________________________________\n",
      "max_pooling2d_4 (MaxPooling2 (None, 1, 1, 128)         0         \n",
      "_________________________________________________________________\n",
      "flatten (Flatten)            (None, 128)               0         \n",
      "_________________________________________________________________\n",
      "dense (Dense)                (None, 100)               12900     \n",
      "_________________________________________________________________\n",
      "dropout (Dropout)            (None, 100)               0         \n",
      "_________________________________________________________________\n",
      "dense_1 (Dense)              (None, 100)               10100     \n",
      "_________________________________________________________________\n",
      "dropout_1 (Dropout)          (None, 100)               0         \n",
      "_________________________________________________________________\n",
      "dense_2 (Dense)              (None, 10)                1010      \n",
      "=================================================================\n",
      "Total params: 292,010\n",
      "Trainable params: 291,242\n",
      "Non-trainable params: 768\n",
      "_________________________________________________________________\n"
     ]
    }
   ],
   "source": [
    "import tensorflow\n",
    "optimizer = tensorflow.keras.optimizers.Adam(0.001)\n",
    "optimizer.learning_rate.assign(0.01)\n",
    "\n",
    "model.compile(optimizer='adam'\n",
    "              ,metrics=['accuracy',Precision(), Recall()],loss='categorical_crossentropy')\n",
    "\n",
    "# Training of the model\n",
    "history=model.fit(x_train,y_train,batch_size=12,epochs=50,validation_split=0.2)\n",
    "model.summary()"
   ]
  },
  {
   "cell_type": "code",
   "execution_count": 12,
   "metadata": {
    "id": "UbCOPYuct_51"
   },
   "outputs": [
    {
     "data": {
      "image/png": "[encoded data removed]",
      "text/plain": [
       "<Figure size 864x576 with 1 Axes>"
      ]
     },
     "metadata": {},
     "output_type": "display_data"
    }
   ],
   "source": [
    "import matplotlib.pyplot as plt\n",
    "import seaborn as sns\n",
    "sns.set_style('whitegrid')\n",
    "plt.figure(figsize=(12,8))\n",
    "plt.plot(history.history['accuracy'])\n",
    "plt.plot(history.history['val_accuracy'])\n",
    "plt.xlabel('Epochs')\n",
    "plt.ylabel('Accuracy score')\n",
    "plt.title('Model Accuracy')\n",
    "plt.legend(['Train','Test'])\n",
    "plt.show()"
   ]
  },
  {
   "cell_type": "code",
   "execution_count": 13,
   "metadata": {
    "id": "9ALJnIz2t_7x"
   },
   "outputs": [
    {
     "name": "stdout",
     "output_type": "stream",
     "text": [
      "6/6 [==============================] - 1s 132ms/step - loss: 0.5338 - accuracy: 0.8743 - precision: 0.8902 - recall: 0.8743\n"
     ]
    }
   ],
   "source": [
    "loss,accuracy,precision,recall=model.evaluate(x_test,y_test)"
   ]
  },
  {
   "cell_type": "code",
   "execution_count": 14,
   "metadata": {
    "id": "51e9xMjft_9t"
   },
   "outputs": [
    {
     "name": "stdout",
     "output_type": "stream",
     "text": [
      "WARNING:tensorflow:`input_shape` is undefined or non-square, or `rows` is not in [96, 128, 160, 192, 224]. Weights for input shape (224, 224) will be loaded as the default.\n",
      "Model: \"mobilenetv2_1.00_224\"\n",
      "__________________________________________________________________________________________________\n",
      "Layer (type)                    Output Shape         Param #     Connected to                     \n",
      "==================================================================================================\n",
      "input_1 (InputLayer)            [(None, 227, 227, 3) 0                                            \n",
      "__________________________________________________________________________________________________\n",
      "Conv1 (Conv2D)                  (None, 114, 114, 32) 864         input_1[0][0]                    \n",
      "__________________________________________________________________________________________________\n",
      "bn_Conv1 (BatchNormalization)   (None, 114, 114, 32) 128         Conv1[0][0]                      \n",
      "__________________________________________________________________________________________________\n",
      "Conv1_relu (ReLU)               (None, 114, 114, 32) 0           bn_Conv1[0][0]                   \n",
      "__________________________________________________________________________________________________\n",
      "expanded_conv_depthwise (Depthw (None, 114, 114, 32) 288         Conv1_relu[0][0]                 \n",
      "__________________________________________________________________________________________________\n",
      "expanded_conv_depthwise_BN (Bat (None, 114, 114, 32) 128         expanded_conv_depthwise[0][0]    \n",
      "__________________________________________________________________________________________________\n",
      "expanded_conv_depthwise_relu (R (None, 114, 114, 32) 0           expanded_conv_depthwise_BN[0][0] \n",
      "__________________________________________________________________________________________________\n",
      "expanded_conv_project (Conv2D)  (None, 114, 114, 16) 512         expanded_conv_depthwise_relu[0][0\n",
      "__________________________________________________________________________________________________\n",
      "expanded_conv_project_BN (Batch (None, 114, 114, 16) 64          expanded_conv_project[0][0]      \n",
      "__________________________________________________________________________________________________\n",
      "block_1_expand (Conv2D)         (None, 114, 114, 96) 1536        expanded_conv_project_BN[0][0]   \n",
      "__________________________________________________________________________________________________\n",
      "block_1_expand_BN (BatchNormali (None, 114, 114, 96) 384         block_1_expand[0][0]             \n",
      "__________________________________________________________________________________________________\n",
      "block_1_expand_relu (ReLU)      (None, 114, 114, 96) 0           block_1_expand_BN[0][0]          \n",
      "__________________________________________________________________________________________________\n",
      "block_1_pad (ZeroPadding2D)     (None, 115, 115, 96) 0           block_1_expand_relu[0][0]        \n",
      "__________________________________________________________________________________________________\n",
      "block_1_depthwise (DepthwiseCon (None, 57, 57, 96)   864         block_1_pad[0][0]                \n",
      "__________________________________________________________________________________________________\n",
      "block_1_depthwise_BN (BatchNorm (None, 57, 57, 96)   384         block_1_depthwise[0][0]          \n",
      "__________________________________________________________________________________________________\n",
      "block_1_depthwise_relu (ReLU)   (None, 57, 57, 96)   0           block_1_depthwise_BN[0][0]       \n",
      "__________________________________________________________________________________________________\n",
      "block_1_project (Conv2D)        (None, 57, 57, 24)   2304        block_1_depthwise_relu[0][0]     \n",
      "__________________________________________________________________________________________________\n",
      "block_1_project_BN (BatchNormal (None, 57, 57, 24)   96          block_1_project[0][0]            \n",
      "__________________________________________________________________________________________________\n",
      "block_2_expand (Conv2D)         (None, 57, 57, 144)  3456        block_1_project_BN[0][0]         \n",
      "__________________________________________________________________________________________________\n",
      "block_2_expand_BN (BatchNormali (None, 57, 57, 144)  576         block_2_expand[0][0]             \n",
      "__________________________________________________________________________________________________\n",
      "block_2_expand_relu (ReLU)      (None, 57, 57, 144)  0           block_2_expand_BN[0][0]          \n",
      "__________________________________________________________________________________________________\n",
      "block_2_depthwise (DepthwiseCon (None, 57, 57, 144)  1296        block_2_expand_relu[0][0]        \n",
      "__________________________________________________________________________________________________\n",
      "block_2_depthwise_BN (BatchNorm (None, 57, 57, 144)  576         block_2_depthwise[0][0]          \n",
      "__________________________________________________________________________________________________\n",
      "block_2_depthwise_relu (ReLU)   (None, 57, 57, 144)  0           block_2_depthwise_BN[0][0]       \n",
      "__________________________________________________________________________________________________\n",
      "block_2_project (Conv2D)        (None, 57, 57, 24)   3456        block_2_depthwise_relu[0][0]     \n",
      "__________________________________________________________________________________________________\n",
      "block_2_project_BN (BatchNormal (None, 57, 57, 24)   96          block_2_project[0][0]            \n",
      "__________________________________________________________________________________________________\n",
      "block_2_add (Add)               (None, 57, 57, 24)   0           block_1_project_BN[0][0]         \n",
      "                                                                 block_2_project_BN[0][0]         \n",
      "__________________________________________________________________________________________________\n",
      "block_3_expand (Conv2D)         (None, 57, 57, 144)  3456        block_2_add[0][0]                \n",
      "__________________________________________________________________________________________________\n",
      "block_3_expand_BN (BatchNormali (None, 57, 57, 144)  576         block_3_expand[0][0]             \n",
      "__________________________________________________________________________________________________\n",
      "block_3_expand_relu (ReLU)      (None, 57, 57, 144)  0           block_3_expand_BN[0][0]          \n",
      "__________________________________________________________________________________________________\n",
      "block_3_pad (ZeroPadding2D)     (None, 59, 59, 144)  0           block_3_expand_relu[0][0]        \n",
      "__________________________________________________________________________________________________\n",
      "block_3_depthwise (DepthwiseCon (None, 29, 29, 144)  1296        block_3_pad[0][0]                \n",
      "__________________________________________________________________________________________________\n",
      "block_3_depthwise_BN (BatchNorm (None, 29, 29, 144)  576         block_3_depthwise[0][0]          \n",
      "__________________________________________________________________________________________________\n",
      "block_3_depthwise_relu (ReLU)   (None, 29, 29, 144)  0           block_3_depthwise_BN[0][0]       \n",
      "__________________________________________________________________________________________________\n",
      "block_3_project (Conv2D)        (None, 29, 29, 32)   4608        block_3_depthwise_relu[0][0]     \n",
      "__________________________________________________________________________________________________\n",
      "block_3_project_BN (BatchNormal (None, 29, 29, 32)   128         block_3_project[0][0]            \n",
      "__________________________________________________________________________________________________\n",
      "block_4_expand (Conv2D)         (None, 29, 29, 192)  6144        block_3_project_BN[0][0]         \n",
      "__________________________________________________________________________________________________\n",
      "block_4_expand_BN (BatchNormali (None, 29, 29, 192)  768         block_4_expand[0][0]             \n",
      "__________________________________________________________________________________________________\n",
      "block_4_expand_relu (ReLU)      (None, 29, 29, 192)  0           block_4_expand_BN[0][0]          \n",
      "__________________________________________________________________________________________________\n",
      "block_4_depthwise (DepthwiseCon (None, 29, 29, 192)  1728        block_4_expand_relu[0][0]        \n",
      "__________________________________________________________________________________________________\n",
      "block_4_depthwise_BN (BatchNorm (None, 29, 29, 192)  768         block_4_depthwise[0][0]          \n",
      "__________________________________________________________________________________________________\n",
      "block_4_depthwise_relu (ReLU)   (None, 29, 29, 192)  0           block_4_depthwise_BN[0][0]       \n",
      "__________________________________________________________________________________________________\n",
      "block_4_project (Conv2D)        (None, 29, 29, 32)   6144        block_4_depthwise_relu[0][0]     \n",
      "__________________________________________________________________________________________________\n",
      "block_4_project_BN (BatchNormal (None, 29, 29, 32)   128         block_4_project[0][0]            \n",
      "__________________________________________________________________________________________________\n",
      "block_4_add (Add)               (None, 29, 29, 32)   0           block_3_project_BN[0][0]         \n",
      "                                                                 block_4_project_BN[0][0]         \n",
      "__________________________________________________________________________________________________\n",
      "block_5_expand (Conv2D)         (None, 29, 29, 192)  6144        block_4_add[0][0]                \n",
      "__________________________________________________________________________________________________\n",
      "block_5_expand_BN (BatchNormali (None, 29, 29, 192)  768         block_5_expand[0][0]             \n",
      "__________________________________________________________________________________________________\n",
      "block_5_expand_relu (ReLU)      (None, 29, 29, 192)  0           block_5_expand_BN[0][0]          \n",
      "__________________________________________________________________________________________________\n",
      "block_5_depthwise (DepthwiseCon (None, 29, 29, 192)  1728        block_5_expand_relu[0][0]        \n",
      "__________________________________________________________________________________________________\n",
      "block_5_depthwise_BN (BatchNorm (None, 29, 29, 192)  768         block_5_depthwise[0][0]          \n",
      "__________________________________________________________________________________________________\n",
      "block_5_depthwise_relu (ReLU)   (None, 29, 29, 192)  0           block_5_depthwise_BN[0][0]       \n",
      "__________________________________________________________________________________________________\n",
      "block_5_project (Conv2D)        (None, 29, 29, 32)   6144        block_5_depthwise_relu[0][0]     \n",
      "__________________________________________________________________________________________________\n",
      "block_5_project_BN (BatchNormal (None, 29, 29, 32)   128         block_5_project[0][0]            \n",
      "__________________________________________________________________________________________________\n",
      "block_5_add (Add)               (None, 29, 29, 32)   0           block_4_add[0][0]                \n",
      "                                                                 block_5_project_BN[0][0]         \n",
      "__________________________________________________________________________________________________\n",
      "block_6_expand (Conv2D)         (None, 29, 29, 192)  6144        block_5_add[0][0]                \n",
      "__________________________________________________________________________________________________\n",
      "block_6_expand_BN (BatchNormali (None, 29, 29, 192)  768         block_6_expand[0][0]             \n",
      "__________________________________________________________________________________________________\n",
      "block_6_expand_relu (ReLU)      (None, 29, 29, 192)  0           block_6_expand_BN[0][0]          \n",
      "__________________________________________________________________________________________________\n",
      "block_6_pad (ZeroPadding2D)     (None, 31, 31, 192)  0           block_6_expand_relu[0][0]        \n",
      "__________________________________________________________________________________________________\n",
      "block_6_depthwise (DepthwiseCon (None, 15, 15, 192)  1728        block_6_pad[0][0]                \n",
      "__________________________________________________________________________________________________\n",
      "block_6_depthwise_BN (BatchNorm (None, 15, 15, 192)  768         block_6_depthwise[0][0]          \n",
      "__________________________________________________________________________________________________\n",
      "block_6_depthwise_relu (ReLU)   (None, 15, 15, 192)  0           block_6_depthwise_BN[0][0]       \n",
      "__________________________________________________________________________________________________\n",
      "block_6_project (Conv2D)        (None, 15, 15, 64)   12288       block_6_depthwise_relu[0][0]     \n",
      "__________________________________________________________________________________________________\n",
      "block_6_project_BN (BatchNormal (None, 15, 15, 64)   256         block_6_project[0][0]            \n",
      "__________________________________________________________________________________________________\n",
      "block_7_expand (Conv2D)         (None, 15, 15, 384)  24576       block_6_project_BN[0][0]         \n",
      "__________________________________________________________________________________________________\n",
      "block_7_expand_BN (BatchNormali (None, 15, 15, 384)  1536        block_7_expand[0][0]             \n",
      "__________________________________________________________________________________________________\n",
      "block_7_expand_relu (ReLU)      (None, 15, 15, 384)  0           block_7_expand_BN[0][0]          \n",
      "__________________________________________________________________________________________________\n",
      "block_7_depthwise (DepthwiseCon (None, 15, 15, 384)  3456        block_7_expand_relu[0][0]        \n",
      "__________________________________________________________________________________________________\n",
      "block_7_depthwise_BN (BatchNorm (None, 15, 15, 384)  1536        block_7_depthwise[0][0]          \n",
      "__________________________________________________________________________________________________\n",
      "block_7_depthwise_relu (ReLU)   (None, 15, 15, 384)  0           block_7_depthwise_BN[0][0]       \n",
      "__________________________________________________________________________________________________\n",
      "block_7_project (Conv2D)        (None, 15, 15, 64)   24576       block_7_depthwise_relu[0][0]     \n",
      "__________________________________________________________________________________________________\n",
      "block_7_project_BN (BatchNormal (None, 15, 15, 64)   256         block_7_project[0][0]            \n",
      "__________________________________________________________________________________________________\n",
      "block_7_add (Add)               (None, 15, 15, 64)   0           block_6_project_BN[0][0]         \n",
      "                                                                 block_7_project_BN[0][0]         \n",
      "__________________________________________________________________________________________________\n",
      "block_8_expand (Conv2D)         (None, 15, 15, 384)  24576       block_7_add[0][0]                \n",
      "__________________________________________________________________________________________________\n",
      "block_8_expand_BN (BatchNormali (None, 15, 15, 384)  1536        block_8_expand[0][0]             \n",
      "__________________________________________________________________________________________________\n",
      "block_8_expand_relu (ReLU)      (None, 15, 15, 384)  0           block_8_expand_BN[0][0]          \n",
      "__________________________________________________________________________________________________\n",
      "block_8_depthwise (DepthwiseCon (None, 15, 15, 384)  3456        block_8_expand_relu[0][0]        \n",
      "__________________________________________________________________________________________________\n",
      "block_8_depthwise_BN (BatchNorm (None, 15, 15, 384)  1536        block_8_depthwise[0][0]          \n",
      "__________________________________________________________________________________________________\n",
      "block_8_depthwise_relu (ReLU)   (None, 15, 15, 384)  0           block_8_depthwise_BN[0][0]       \n",
      "__________________________________________________________________________________________________\n",
      "block_8_project (Conv2D)        (None, 15, 15, 64)   24576       block_8_depthwise_relu[0][0]     \n",
      "__________________________________________________________________________________________________\n",
      "block_8_project_BN (BatchNormal (None, 15, 15, 64)   256         block_8_project[0][0]            \n",
      "__________________________________________________________________________________________________\n",
      "block_8_add (Add)               (None, 15, 15, 64)   0           block_7_add[0][0]                \n",
      "                                                                 block_8_project_BN[0][0]         \n",
      "__________________________________________________________________________________________________\n",
      "block_9_expand (Conv2D)         (None, 15, 15, 384)  24576       block_8_add[0][0]                \n",
      "__________________________________________________________________________________________________\n",
      "block_9_expand_BN (BatchNormali (None, 15, 15, 384)  1536        block_9_expand[0][0]             \n",
      "__________________________________________________________________________________________________\n",
      "block_9_expand_relu (ReLU)      (None, 15, 15, 384)  0           block_9_expand_BN[0][0]          \n",
      "__________________________________________________________________________________________________\n",
      "block_9_depthwise (DepthwiseCon (None, 15, 15, 384)  3456        block_9_expand_relu[0][0]        \n",
      "__________________________________________________________________________________________________\n",
      "block_9_depthwise_BN (BatchNorm (None, 15, 15, 384)  1536        block_9_depthwise[0][0]          \n",
      "__________________________________________________________________________________________________\n",
      "block_9_depthwise_relu (ReLU)   (None, 15, 15, 384)  0           block_9_depthwise_BN[0][0]       \n",
      "__________________________________________________________________________________________________\n",
      "block_9_project (Conv2D)        (None, 15, 15, 64)   24576       block_9_depthwise_relu[0][0]     \n",
      "__________________________________________________________________________________________________\n",
      "block_9_project_BN (BatchNormal (None, 15, 15, 64)   256         block_9_project[0][0]            \n",
      "__________________________________________________________________________________________________\n",
      "block_9_add (Add)               (None, 15, 15, 64)   0           block_8_add[0][0]                \n",
      "                                                                 block_9_project_BN[0][0]         \n",
      "__________________________________________________________________________________________________\n",
      "block_10_expand (Conv2D)        (None, 15, 15, 384)  24576       block_9_add[0][0]                \n",
      "__________________________________________________________________________________________________\n",
      "block_10_expand_BN (BatchNormal (None, 15, 15, 384)  1536        block_10_expand[0][0]            \n",
      "__________________________________________________________________________________________________\n",
      "block_10_expand_relu (ReLU)     (None, 15, 15, 384)  0           block_10_expand_BN[0][0]         \n",
      "__________________________________________________________________________________________________\n",
      "block_10_depthwise (DepthwiseCo (None, 15, 15, 384)  3456        block_10_expand_relu[0][0]       \n",
      "__________________________________________________________________________________________________\n",
      "block_10_depthwise_BN (BatchNor (None, 15, 15, 384)  1536        block_10_depthwise[0][0]         \n",
      "__________________________________________________________________________________________________\n",
      "block_10_depthwise_relu (ReLU)  (None, 15, 15, 384)  0           block_10_depthwise_BN[0][0]      \n",
      "__________________________________________________________________________________________________\n",
      "block_10_project (Conv2D)       (None, 15, 15, 96)   36864       block_10_depthwise_relu[0][0]    \n",
      "__________________________________________________________________________________________________\n",
      "block_10_project_BN (BatchNorma (None, 15, 15, 96)   384         block_10_project[0][0]           \n",
      "__________________________________________________________________________________________________\n",
      "block_11_expand (Conv2D)        (None, 15, 15, 576)  55296       block_10_project_BN[0][0]        \n",
      "__________________________________________________________________________________________________\n",
      "block_11_expand_BN (BatchNormal (None, 15, 15, 576)  2304        block_11_expand[0][0]            \n",
      "__________________________________________________________________________________________________\n",
      "block_11_expand_relu (ReLU)     (None, 15, 15, 576)  0           block_11_expand_BN[0][0]         \n",
      "__________________________________________________________________________________________________\n",
      "block_11_depthwise (DepthwiseCo (None, 15, 15, 576)  5184        block_11_expand_relu[0][0]       \n",
      "__________________________________________________________________________________________________\n",
      "block_11_depthwise_BN (BatchNor (None, 15, 15, 576)  2304        block_11_depthwise[0][0]         \n",
      "__________________________________________________________________________________________________\n",
      "block_11_depthwise_relu (ReLU)  (None, 15, 15, 576)  0           block_11_depthwise_BN[0][0]      \n",
      "__________________________________________________________________________________________________\n",
      "block_11_project (Conv2D)       (None, 15, 15, 96)   55296       block_11_depthwise_relu[0][0]    \n",
      "__________________________________________________________________________________________________\n",
      "block_11_project_BN (BatchNorma (None, 15, 15, 96)   384         block_11_project[0][0]           \n",
      "__________________________________________________________________________________________________\n",
      "block_11_add (Add)              (None, 15, 15, 96)   0           block_10_project_BN[0][0]        \n",
      "                                                                 block_11_project_BN[0][0]        \n",
      "__________________________________________________________________________________________________\n",
      "block_12_expand (Conv2D)        (None, 15, 15, 576)  55296       block_11_add[0][0]               \n",
      "__________________________________________________________________________________________________\n",
      "block_12_expand_BN (BatchNormal (None, 15, 15, 576)  2304        block_12_expand[0][0]            \n",
      "__________________________________________________________________________________________________\n",
      "block_12_expand_relu (ReLU)     (None, 15, 15, 576)  0           block_12_expand_BN[0][0]         \n",
      "__________________________________________________________________________________________________\n",
      "block_12_depthwise (DepthwiseCo (None, 15, 15, 576)  5184        block_12_expand_relu[0][0]       \n",
      "__________________________________________________________________________________________________\n",
      "block_12_depthwise_BN (BatchNor (None, 15, 15, 576)  2304        block_12_depthwise[0][0]         \n",
      "__________________________________________________________________________________________________\n",
      "block_12_depthwise_relu (ReLU)  (None, 15, 15, 576)  0           block_12_depthwise_BN[0][0]      \n",
      "__________________________________________________________________________________________________\n",
      "block_12_project (Conv2D)       (None, 15, 15, 96)   55296       block_12_depthwise_relu[0][0]    \n",
      "__________________________________________________________________________________________________\n",
      "block_12_project_BN (BatchNorma (None, 15, 15, 96)   384         block_12_project[0][0]           \n",
      "__________________________________________________________________________________________________\n",
      "block_12_add (Add)              (None, 15, 15, 96)   0           block_11_add[0][0]               \n",
      "                                                                 block_12_project_BN[0][0]        \n",
      "__________________________________________________________________________________________________\n",
      "block_13_expand (Conv2D)        (None, 15, 15, 576)  55296       block_12_add[0][0]               \n",
      "__________________________________________________________________________________________________\n",
      "block_13_expand_BN (BatchNormal (None, 15, 15, 576)  2304        block_13_expand[0][0]            \n",
      "__________________________________________________________________________________________________\n",
      "block_13_expand_relu (ReLU)     (None, 15, 15, 576)  0           block_13_expand_BN[0][0]         \n",
      "__________________________________________________________________________________________________\n",
      "block_13_pad (ZeroPadding2D)    (None, 17, 17, 576)  0           block_13_expand_relu[0][0]       \n",
      "__________________________________________________________________________________________________\n",
      "block_13_depthwise (DepthwiseCo (None, 8, 8, 576)    5184        block_13_pad[0][0]               \n",
      "__________________________________________________________________________________________________\n",
      "block_13_depthwise_BN (BatchNor (None, 8, 8, 576)    2304        block_13_depthwise[0][0]         \n",
      "__________________________________________________________________________________________________\n",
      "block_13_depthwise_relu (ReLU)  (None, 8, 8, 576)    0           block_13_depthwise_BN[0][0]      \n",
      "__________________________________________________________________________________________________\n",
      "block_13_project (Conv2D)       (None, 8, 8, 160)    92160       block_13_depthwise_relu[0][0]    \n",
      "__________________________________________________________________________________________________\n",
      "block_13_project_BN (BatchNorma (None, 8, 8, 160)    640         block_13_project[0][0]           \n",
      "__________________________________________________________________________________________________\n",
      "block_14_expand (Conv2D)        (None, 8, 8, 960)    153600      block_13_project_BN[0][0]        \n",
      "__________________________________________________________________________________________________\n",
      "block_14_expand_BN (BatchNormal (None, 8, 8, 960)    3840        block_14_expand[0][0]            \n",
      "__________________________________________________________________________________________________\n",
      "block_14_expand_relu (ReLU)     (None, 8, 8, 960)    0           block_14_expand_BN[0][0]         \n",
      "__________________________________________________________________________________________________\n",
      "block_14_depthwise (DepthwiseCo (None, 8, 8, 960)    8640        block_14_expand_relu[0][0]       \n",
      "__________________________________________________________________________________________________\n",
      "block_14_depthwise_BN (BatchNor (None, 8, 8, 960)    3840        block_14_depthwise[0][0]         \n",
      "__________________________________________________________________________________________________\n",
      "block_14_depthwise_relu (ReLU)  (None, 8, 8, 960)    0           block_14_depthwise_BN[0][0]      \n",
      "__________________________________________________________________________________________________\n",
      "block_14_project (Conv2D)       (None, 8, 8, 160)    153600      block_14_depthwise_relu[0][0]    \n",
      "__________________________________________________________________________________________________\n",
      "block_14_project_BN (BatchNorma (None, 8, 8, 160)    640         block_14_project[0][0]           \n",
      "__________________________________________________________________________________________________\n",
      "block_14_add (Add)              (None, 8, 8, 160)    0           block_13_project_BN[0][0]        \n",
      "                                                                 block_14_project_BN[0][0]        \n",
      "__________________________________________________________________________________________________\n",
      "block_15_expand (Conv2D)        (None, 8, 8, 960)    153600      block_14_add[0][0]               \n",
      "__________________________________________________________________________________________________\n",
      "block_15_expand_BN (BatchNormal (None, 8, 8, 960)    3840        block_15_expand[0][0]            \n",
      "__________________________________________________________________________________________________\n",
      "block_15_expand_relu (ReLU)     (None, 8, 8, 960)    0           block_15_expand_BN[0][0]         \n",
      "__________________________________________________________________________________________________\n",
      "block_15_depthwise (DepthwiseCo (None, 8, 8, 960)    8640        block_15_expand_relu[0][0]       \n",
      "__________________________________________________________________________________________________\n",
      "block_15_depthwise_BN (BatchNor (None, 8, 8, 960)    3840        block_15_depthwise[0][0]         \n",
      "__________________________________________________________________________________________________\n",
      "block_15_depthwise_relu (ReLU)  (None, 8, 8, 960)    0           block_15_depthwise_BN[0][0]      \n",
      "__________________________________________________________________________________________________\n",
      "block_15_project (Conv2D)       (None, 8, 8, 160)    153600      block_15_depthwise_relu[0][0]    \n",
      "__________________________________________________________________________________________________\n",
      "block_15_project_BN (BatchNorma (None, 8, 8, 160)    640         block_15_project[0][0]           \n",
      "__________________________________________________________________________________________________\n",
      "block_15_add (Add)              (None, 8, 8, 160)    0           block_14_add[0][0]               \n",
      "                                                                 block_15_project_BN[0][0]        \n",
      "__________________________________________________________________________________________________\n",
      "block_16_expand (Conv2D)        (None, 8, 8, 960)    153600      block_15_add[0][0]               \n",
      "__________________________________________________________________________________________________\n",
      "block_16_expand_BN (BatchNormal (None, 8, 8, 960)    3840        block_16_expand[0][0]            \n",
      "__________________________________________________________________________________________________\n",
      "block_16_expand_relu (ReLU)     (None, 8, 8, 960)    0           block_16_expand_BN[0][0]         \n",
      "__________________________________________________________________________________________________\n",
      "block_16_depthwise (DepthwiseCo (None, 8, 8, 960)    8640        block_16_expand_relu[0][0]       \n",
      "__________________________________________________________________________________________________\n",
      "block_16_depthwise_BN (BatchNor (None, 8, 8, 960)    3840        block_16_depthwise[0][0]         \n",
      "__________________________________________________________________________________________________\n",
      "block_16_depthwise_relu (ReLU)  (None, 8, 8, 960)    0           block_16_depthwise_BN[0][0]      \n",
      "__________________________________________________________________________________________________\n",
      "block_16_project (Conv2D)       (None, 8, 8, 320)    307200      block_16_depthwise_relu[0][0]    \n",
      "__________________________________________________________________________________________________\n",
      "block_16_project_BN (BatchNorma (None, 8, 8, 320)    1280        block_16_project[0][0]           \n",
      "__________________________________________________________________________________________________\n",
      "Conv_1 (Conv2D)                 (None, 8, 8, 1280)   409600      block_16_project_BN[0][0]        \n",
      "__________________________________________________________________________________________________\n",
      "Conv_1_bn (BatchNormalization)  (None, 8, 8, 1280)   5120        Conv_1[0][0]                     \n",
      "__________________________________________________________________________________________________\n",
      "out_relu (ReLU)                 (None, 8, 8, 1280)   0           Conv_1_bn[0][0]                  \n",
      "__________________________________________________________________________________________________\n",
      "global_average_pooling2d (Globa (None, 1280)         0           out_relu[0][0]                   \n",
      "==================================================================================================\n",
      "Total params: 2,257,984\n",
      "Trainable params: 2,223,872\n",
      "Non-trainable params: 34,112\n",
      "__________________________________________________________________________________________________\n"
     ]
    }
   ],
   "source": [
    "import tensorflow\n",
    "# This network has many hyper parameters that you have to adjust first\n",
    "# The first hyperparameter gives you the freedom to choose whether to enter the final dense layer of the network or cancel it, in which case it has been cancelled.\n",
    "# By specifying include_top= False we exclude the prediction layer which allows us to substitute our custom prediction layer later on.\n",
    "mnet = tensorflow.keras.applications.mobilenet_v2.MobileNetV2(include_top=False, \n",
    "                                                      input_shape=(227, 227, 3),#same as of custom model\n",
    "                                                      pooling='avg',\n",
    "                                                      weights='imagenet')\n",
    "\n",
    "mnet.summary()"
   ]
  },
  {
   "cell_type": "code",
   "execution_count": 15,
   "metadata": {
    "id": "kSDKs3-auEMi"
   },
   "outputs": [],
   "source": [
    "model2=tf.keras.Sequential([\n",
    "    mnet,\n",
    "    Dropout(0.25),\n",
    "    Dense(10,activation='softmax') # here we use 10 layers because we have to predict bewtween 10 classes\n",
    "    \n",
    "])\n"
   ]
  },
  {
   "cell_type": "code",
   "execution_count": 16,
   "metadata": {
    "id": "L0aXWHmIuEOW"
   },
   "outputs": [],
   "source": [
    "# here we freezed the layer that responsible for feature extraction\n",
    "model2.layers[0].trainable = False\n"
   ]
  },
  {
   "cell_type": "code",
   "execution_count": 17,
   "metadata": {
    "id": "JyK1FF8UuEQT",
    "scrolled": true
   },
   "outputs": [
    {
     "name": "stdout",
     "output_type": "stream",
     "text": [
      "Epoch 1/20\n",
      "39/39 [==============================] - 12s 278ms/step - loss: 1.7988 - accuracy: 0.4258 - precision_1: 0.7907 - recall_1: 0.0731 - val_loss: 1.1180 - val_accuracy: 0.7400 - val_precision_1: 0.9219 - val_recall_1: 0.2950\n",
      "Epoch 2/20\n",
      "39/39 [==============================] - 10s 266ms/step - loss: 0.8204 - accuracy: 0.8366 - precision_1: 0.9544 - recall_1: 0.4946 - val_loss: 0.6126 - val_accuracy: 0.9100 - val_precision_1: 0.9848 - val_recall_1: 0.6500\n",
      "Epoch 3/20\n",
      "39/39 [==============================] - 10s 258ms/step - loss: 0.4872 - accuracy: 0.9204 - precision_1: 0.9804 - recall_1: 0.7527 - val_loss: 0.4472 - val_accuracy: 0.9300 - val_precision_1: 0.9879 - val_recall_1: 0.8150\n",
      "Epoch 4/20\n",
      "39/39 [==============================] - 10s 264ms/step - loss: 0.3248 - accuracy: 0.9613 - precision_1: 0.9877 - recall_1: 0.8667 - val_loss: 0.3551 - val_accuracy: 0.9400 - val_precision_1: 0.9775 - val_recall_1: 0.8700\n",
      "Epoch 5/20\n",
      "39/39 [==============================] - 10s 259ms/step - loss: 0.2323 - accuracy: 0.9828 - precision_1: 0.9954 - recall_1: 0.9269 - val_loss: 0.3173 - val_accuracy: 0.9350 - val_precision_1: 0.9832 - val_recall_1: 0.8800\n",
      "Epoch 6/20\n",
      "39/39 [==============================] - 10s 261ms/step - loss: 0.1990 - accuracy: 0.9785 - precision_1: 0.9977 - recall_1: 0.9505 - val_loss: 0.2720 - val_accuracy: 0.9400 - val_precision_1: 0.9731 - val_recall_1: 0.9050\n",
      "Epoch 7/20\n",
      "39/39 [==============================] - 10s 261ms/step - loss: 0.1558 - accuracy: 0.9935 - precision_1: 1.0000 - recall_1: 0.9677 - val_loss: 0.2326 - val_accuracy: 0.9450 - val_precision_1: 0.9787 - val_recall_1: 0.9200\n",
      "Epoch 8/20\n",
      "39/39 [==============================] - 10s 260ms/step - loss: 0.1161 - accuracy: 1.0000 - precision_1: 1.0000 - recall_1: 0.9957 - val_loss: 0.2139 - val_accuracy: 0.9500 - val_precision_1: 0.9788 - val_recall_1: 0.9250\n",
      "Epoch 9/20\n",
      "39/39 [==============================] - 10s 261ms/step - loss: 0.1013 - accuracy: 1.0000 - precision_1: 1.0000 - recall_1: 0.9892 - val_loss: 0.2034 - val_accuracy: 0.9450 - val_precision_1: 0.9789 - val_recall_1: 0.9300\n",
      "Epoch 10/20\n",
      "39/39 [==============================] - 10s 266ms/step - loss: 0.0885 - accuracy: 0.9978 - precision_1: 0.9978 - recall_1: 0.9892 - val_loss: 0.1861 - val_accuracy: 0.9500 - val_precision_1: 0.9791 - val_recall_1: 0.9350\n",
      "Epoch 11/20\n",
      "39/39 [==============================] - 10s 262ms/step - loss: 0.0763 - accuracy: 1.0000 - precision_1: 1.0000 - recall_1: 0.9978 - val_loss: 0.1853 - val_accuracy: 0.9550 - val_precision_1: 0.9742 - val_recall_1: 0.9450\n",
      "Epoch 12/20\n",
      "39/39 [==============================] - 10s 261ms/step - loss: 0.0689 - accuracy: 0.9957 - precision_1: 0.9957 - recall_1: 0.9935 - val_loss: 0.1814 - val_accuracy: 0.9550 - val_precision_1: 0.9590 - val_recall_1: 0.9350\n",
      "Epoch 13/20\n",
      "39/39 [==============================] - 10s 260ms/step - loss: 0.0614 - accuracy: 1.0000 - precision_1: 1.0000 - recall_1: 0.9978 - val_loss: 0.1666 - val_accuracy: 0.9550 - val_precision_1: 0.9694 - val_recall_1: 0.9500\n",
      "Epoch 14/20\n",
      "39/39 [==============================] - 10s 264ms/step - loss: 0.0616 - accuracy: 0.9978 - precision_1: 0.9978 - recall_1: 0.9957 - val_loss: 0.1646 - val_accuracy: 0.9550 - val_precision_1: 0.9692 - val_recall_1: 0.9450\n",
      "Epoch 15/20\n",
      "39/39 [==============================] - 10s 259ms/step - loss: 0.0503 - accuracy: 1.0000 - precision_1: 1.0000 - recall_1: 0.9978 - val_loss: 0.1535 - val_accuracy: 0.9600 - val_precision_1: 0.9744 - val_recall_1: 0.9500\n",
      "Epoch 16/20\n",
      "39/39 [==============================] - 10s 261ms/step - loss: 0.0439 - accuracy: 1.0000 - precision_1: 1.0000 - recall_1: 1.0000 - val_loss: 0.1540 - val_accuracy: 0.9550 - val_precision_1: 0.9694 - val_recall_1: 0.9500\n",
      "Epoch 17/20\n",
      "39/39 [==============================] - 10s 260ms/step - loss: 0.0399 - accuracy: 1.0000 - precision_1: 1.0000 - recall_1: 1.0000 - val_loss: 0.1500 - val_accuracy: 0.9600 - val_precision_1: 0.9643 - val_recall_1: 0.9450\n",
      "Epoch 18/20\n",
      "39/39 [==============================] - 10s 262ms/step - loss: 0.0384 - accuracy: 1.0000 - precision_1: 1.0000 - recall_1: 1.0000 - val_loss: 0.1361 - val_accuracy: 0.9600 - val_precision_1: 0.9795 - val_recall_1: 0.9550\n",
      "Epoch 19/20\n",
      "39/39 [==============================] - 10s 264ms/step - loss: 0.0354 - accuracy: 1.0000 - precision_1: 1.0000 - recall_1: 1.0000 - val_loss: 0.1333 - val_accuracy: 0.9600 - val_precision_1: 0.9744 - val_recall_1: 0.9500\n",
      "Epoch 20/20\n",
      "39/39 [==============================] - 10s 259ms/step - loss: 0.0332 - accuracy: 1.0000 - precision_1: 1.0000 - recall_1: 1.0000 - val_loss: 0.1402 - val_accuracy: 0.9550 - val_precision_1: 0.9646 - val_recall_1: 0.9550\n",
      "Model: \"sequential_2\"\n",
      "_________________________________________________________________\n",
      "Layer (type)                 Output Shape              Param #   \n",
      "=================================================================\n",
      "mobilenetv2_1.00_224 (Functi (None, 1280)              2257984   \n",
      "_________________________________________________________________\n",
      "dropout_2 (Dropout)          (None, 1280)              0         \n",
      "_________________________________________________________________\n",
      "dense_3 (Dense)              (None, 10)                12810     \n",
      "=================================================================\n",
      "Total params: 2,270,794\n",
      "Trainable params: 12,810\n",
      "Non-trainable params: 2,257,984\n",
      "_________________________________________________________________\n"
     ]
    }
   ],
   "source": [
    "model2.compile(loss='categorical_crossentropy', optimizer='adam', metrics=['accuracy',Precision(), Recall()])\n",
    "#Here we supply our training data to the mobilenet model.\n",
    "history2=model2.fit(x_train,y_train,batch_size=12, epochs=20,validation_split=0.3)\n",
    "model2.summary()"
   ]
  },
  {
   "cell_type": "code",
   "execution_count": 18,
   "metadata": {
    "id": "0pIR-gCNuESS"
   },
   "outputs": [
    {
     "name": "stdout",
     "output_type": "stream",
     "text": [
      "6/6 [==============================] - 2s 387ms/step - loss: 0.1713 - accuracy: 0.9521 - precision_1: 0.9814 - recall_1: 0.9461\n"
     ]
    },
    {
     "data": {
      "image/png": "[encoded data removed]",
      "text/plain": [
       "<Figure size 864x576 with 1 Axes>"
      ]
     },
     "metadata": {},
     "output_type": "display_data"
    }
   ],
   "source": [
    "loss,accuracy,precision,recall=model2.evaluate(x_test,y_test)\n",
    "sns.set_style('darkgrid')\n",
    "plt.figure(figsize=(12,8))\n",
    "plt.plot(history2.history['accuracy'])\n",
    "plt.plot(history2.history['val_accuracy'])\n",
    "plt.xlabel('Epochs')\n",
    "plt.ylabel('Accuracy score')\n",
    "plt.title('Model Accuracy')\n",
    "plt.legend(['Train','Test'])\n",
    "plt.show()"
   ]
  },
  {
   "cell_type": "code",
   "execution_count": 19,
   "metadata": {},
   "outputs": [
    {
     "data": {
      "image/png": "[encoded data removed]",
      "text/plain": [
       "<Figure size 864x576 with 1 Axes>"
      ]
     },
     "metadata": {},
     "output_type": "display_data"
    }
   ],
   "source": [
    "sns.set_style('darkgrid')\n",
    "plt.figure(figsize=(12,8))\n",
    "plt.plot(history2.history['precision_1'])\n",
    "plt.plot(history2.history['val_precision_1'])\n",
    "plt.xlabel('Epochs')\n",
    "plt.ylabel('Precision')\n",
    "plt.title('Model Precision')\n",
    "plt.legend(['Train','Test'])\n",
    "plt.show()"
   ]
  },
  {
   "cell_type": "code",
   "execution_count": 20,
   "metadata": {},
   "outputs": [
    {
     "data": {
      "image/png": "[encoded data removed]",
      "text/plain": [
       "<Figure size 864x576 with 1 Axes>"
      ]
     },
     "metadata": {},
     "output_type": "display_data"
    }
   ],
   "source": [
    "sns.set_style('darkgrid')\n",
    "plt.figure(figsize=(12,8))\n",
    "plt.plot(history2.history['recall_1'])\n",
    "plt.plot(history2.history['val_recall_1'])\n",
    "plt.xlabel('Epochs')\n",
    "plt.ylabel('Recall')\n",
    "plt.title('Model Recall')\n",
    "plt.legend(['Train','Test'])\n",
    "plt.show()"
   ]
  },
  {
   "cell_type": "code",
   "execution_count": 21,
   "metadata": {},
   "outputs": [
    {
     "name": "stdout",
     "output_type": "stream",
     "text": [
      "[0.42580646276474, 0.8365591168403625, 0.9204301238059998, 0.9612902998924255, 0.9827957153320312, 0.9784946441650391, 0.9935483932495117, 1.0, 1.0, 0.9978494644165039, 1.0, 0.9956989288330078, 1.0, 0.9978494644165039, 1.0, 1.0, 1.0, 1.0, 1.0, 1.0]\n"
     ]
    }
   ],
   "source": [
    "print(history2.history['accuracy'])"
   ]
  },
  {
   "cell_type": "code",
   "execution_count": 22,
   "metadata": {},
   "outputs": [
    {
     "name": "stdout",
     "output_type": "stream",
     "text": [
      "\n",
      "Average Train Recall:\n",
      "0.899462366476655\n",
      "\n",
      "Average Test Recall:\n",
      "0.8802499935030937\n"
     ]
    }
   ],
   "source": [
    "sumTrain = 0\n",
    "sumTest = 0\n",
    "for x in history2.history['recall_1']:\n",
    "    sumTrain += x\n",
    "    \n",
    "for x in history2.history['val_recall_1']:\n",
    "    sumTest += x\n",
    "\n",
    "print(\"\")\n",
    "print(\"Average Train Recall:\")\n",
    "print(sumTrain / len(history2.history['recall_1']))\n",
    "\n",
    "print(\"\")\n",
    "print(\"Average Test Recall:\")\n",
    "print(sumTest / len(history2.history['val_recall_1']))\n",
    "\n"
   ]
  },
  {
   "cell_type": "code",
   "execution_count": 23,
   "metadata": {},
   "outputs": [
    {
     "name": "stdout",
     "output_type": "stream",
     "text": [
      "\n",
      "Average Train Accuracy:\n",
      "0.9545161306858063\n",
      "\n",
      "Average Test Accuracy:\n",
      "0.9377499908208847\n"
     ]
    }
   ],
   "source": [
    "sumTrain = 0\n",
    "sumTest = 0\n",
    "for x in history2.history['accuracy']:\n",
    "    sumTrain += x\n",
    "    \n",
    "for x in history2.history['val_accuracy']:\n",
    "    sumTest += x\n",
    "\n",
    "print(\"\")\n",
    "print(\"Average Train Accuracy:\")\n",
    "print(sumTrain / len(history2.history['accuracy']))\n",
    "\n",
    "print(\"\")\n",
    "print(\"Average Test Accuracy:\")\n",
    "print(sumTest / len(history2.history['val_accuracy']))\n",
    "\n"
   ]
  },
  {
   "cell_type": "code",
   "execution_count": 24,
   "metadata": {},
   "outputs": [
    {
     "name": "stdout",
     "output_type": "stream",
     "text": [
      "\n",
      "Average Train Precision:\n",
      "0.984884038567543\n",
      "\n",
      "Average Test Precision:\n",
      "0.9721199065446854\n"
     ]
    }
   ],
   "source": [
    "sumTrain = 0\n",
    "sumTest = 0\n",
    "for x in history2.history['precision_1']:\n",
    "    sumTrain += x\n",
    "    \n",
    "for x in history2.history['val_precision_1']:\n",
    "    sumTest += x\n",
    "\n",
    "print(\"\")\n",
    "print(\"Average Train Precision:\")\n",
    "print(sumTrain / len(history2.history['precision_1']))\n",
    "\n",
    "print(\"\")\n",
    "print(\"Average Test Precision:\")\n",
    "print(sumTest / len(history2.history['val_precision_1']))\n",
    "\n"
   ]
  },
  {
   "cell_type": "code",
   "execution_count": null,
   "metadata": {},
   "outputs": [],
   "source": []
  }
 ],
 "metadata": {
  "colab": {
   "collapsed_sections": [],
   "name": "Untitled2.ipynb",
   "provenance": []
  },
  "kernelspec": {
   "display_name": "Python 3 (ipykernel)",
   "language": "python",
   "name": "python3"
  },
  "language_info": {
   "codemirror_mode": {
    "name": "ipython",
    "version": 3
   },
   "file_extension": ".py",
   "mimetype": "text/x-python",
   "name": "python",
   "nbconvert_exporter": "python",
   "pygments_lexer": "ipython3",
   "version": "3.9.7"
  }
 },
 "nbformat": 4,
 "nbformat_minor": 4
}

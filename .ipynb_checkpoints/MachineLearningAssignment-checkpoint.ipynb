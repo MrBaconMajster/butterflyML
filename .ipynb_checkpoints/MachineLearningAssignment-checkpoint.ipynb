{
  "nbformat": 4,
  "nbformat_minor": 0,
  "metadata": {
    "colab": {
      "name": "Untitled2.ipynb",
      "provenance": [],
      "collapsed_sections": []
    },
    "kernelspec": {
      "name": "python3",
      "display_name": "Python 3"
    },
    "language_info": {
      "name": "python"
    }
  },
  "cells": [
    {
      "cell_type": "code",
      "metadata": {
        "id": "MVcPwFhvsch4"
      },
      "source": [
        "# 18222757 Maciej Augustynek ,18244327 Bartlomiej Skorecki\n",
        "# Code executes till the end without errors\n",
        "# Original source : https://www.kaggle.com/esraamohamedahmed/classification-of-butterflies-images"
      ],
      "execution_count": null,
      "outputs": []
    },
    {
      "cell_type": "code",
      "metadata": {
        "id": "EBh-8oBAtiV5"
      },
      "source": [
        "# This Python 3 environment comes with many helpful analytics libraries installed\n",
        "# It is defined by the kaggle/python Docker image: https://github.com/kaggle/docker-python\n",
        "# For example, here's several helpful packages to load\n",
        "\n",
        "import numpy as np \n",
        "import pandas as pd\n",
        "\n",
        "# Input data files are available in the read-only \"../input/\" directory\n",
        "# For example, running this (by clicking run or pressing Shift+Enter) will list all files under the input directory\n",
        "\n",
        "import os\n",
        "for dirname, _, filenames in os.walk('/kaggle/input'):\n",
        "    for filename in filenames:\n",
        "        print(os.path.join(dirname, filename))\n",
        "\n",
        "# You can write up to 20GB to the current directory (/kaggle/working/) that gets preserved as output when you create a version using \"Save & Run All\" \n",
        "# You can also write temporary files to /kaggle/temp/, but they won't be saved outside of the current session"
      ],
      "execution_count": null,
      "outputs": []
    },
    {
      "cell_type": "code",
      "metadata": {
        "id": "oyK5dKektuTp"
      },
      "source": [
        "import cv2\n",
        "path='/kaggle/input/butterfly-dataset/leedsbutterfly/images/'\n",
        "file=os.listdir('/kaggle/input/butterfly-dataset/leedsbutterfly/images/')\n",
        "features=[] #to store images\n",
        "labels=[] #to store labels\n",
        "for img in file:\n",
        "    # label=int(img) \n",
        "    label=int(img[:3]) #extracting labels from the image,it is the third number\n",
        "    labels.append(label) #list of labels\n",
        "    img_array=cv2.imread(os.path.join(path,img),cv2.IMREAD_COLOR)\n",
        "    img_array=cv2.resize(img_array,(220,220))\n",
        "    features.append(img_array)"
      ],
      "execution_count": null,
      "outputs": []
    },
    {
      "cell_type": "code",
      "metadata": {
        "id": "EkIz7S2Ot4w4"
      },
      "source": [
        "import os\n",
        "descrid_path='../input/butterfly-dataset/leedsbutterfly/descriptions'\n",
        "descrid=os.listdir('../input/butterfly-dataset/leedsbutterfly/descriptions')\n",
        "descrid"
      ],
      "execution_count": null,
      "outputs": []
    },
    {
      "cell_type": "code",
      "metadata": {
        "id": "sNhJA5gEt5Gc"
      },
      "source": [
        "dict_1={'001': 'Danaus_plexippus', '002': 'Heliconius_charitonius', '003': 'Heliconius_erato', '004': 'Junonia_coenia', '005': 'Lycaena_phlaeas', '006': 'Nymphalis_antiopa', '007': 'Papilio_cresphontes', '008': 'Pieris_rapae', '009': 'Vanessa_atalanta', '0010': 'Vanessa_cardui'} "
      ],
      "execution_count": null,
      "outputs": []
    },
    {
      "cell_type": "code",
      "metadata": {
        "id": "p9QAUoPQt5IQ"
      },
      "source": [
        "print(set(labels))\n",
        "list_labels=[]\n",
        "# A lobe was created to spin around all the numbers that were extracted which were in the 3rd order in the name sequence for each picture\n",
        "for i in labels:\n",
        "# make a new list of labels have the names / categories in characters\n",
        "    new_label=dict_1['00'+str(i)]\n",
        "    list_labels.append(new_label)\n",
        "# Here we display 10 fixed and non-repetitive categories\n",
        "print(list_labels[:10])    "
      ],
      "execution_count": null,
      "outputs": []
    },
    {
      "cell_type": "code",
      "metadata": {
        "id": "7BUvaHZwt5KE"
      },
      "source": [
        "import numpy as np\n",
        "features=np.array(features)\n",
        "# get lower quality image by dividing the features by 255, to make it appropriate for preprocessing\n",
        "features=features/255.0"
      ],
      "execution_count": null,
      "outputs": []
    },
    {
      "cell_type": "code",
      "metadata": {
        "id": "9LnEBCLDul5Z"
      },
      "source": [
        "print(features.shape)"
      ],
      "execution_count": null,
      "outputs": []
    },
    {
      "cell_type": "code",
      "metadata": {
        "id": "WMb1JjQht5OD"
      },
      "source": [
        "features=features.reshape(-1,220,220,3)"
      ],
      "execution_count": null,
      "outputs": []
    },
    {
      "cell_type": "code",
      "metadata": {
        "id": "Ot4nto8xt5QK"
      },
      "source": [
        "print(features.shape)"
      ],
      "execution_count": null,
      "outputs": []
    },
    {
      "cell_type": "code",
      "metadata": {
        "id": "De2ihj3_t5SG"
      },
      "source": [
        "#OneHotEncoding:To deal with categorical values we need to preprocess it using onehot ecnoding¶\n",
        "from sklearn.preprocessing import OneHotEncoder,LabelEncoder\n",
        "le=LabelEncoder()\n",
        "y=le.fit_transform(list_labels)\n",
        "from tensorflow.keras.utils import to_categorical\n",
        "y=to_categorical(y)"
      ],
      "execution_count": null,
      "outputs": []
    },
    {
      "cell_type": "code",
      "metadata": {
        "id": "kBQn7MdGt5T7"
      },
      "source": [
        "from sklearn.model_selection import train_test_split\n",
        "x_train,x_test,y_train,y_test=train_test_split(features,y,random_state=11,test_size=0.2)"
      ],
      "execution_count": null,
      "outputs": []
    },
    {
      "cell_type": "code",
      "metadata": {
        "id": "ztrKG8a-t_2g"
      },
      "source": [
        "from tensorflow.keras.layers import Dense,MaxPooling2D,Conv2D,Dropout,Flatten\n",
        "from tensorflow.keras.models import Sequential\n",
        "from tensorflow.keras.optimizers import Adam\n",
        "from tensorflow.keras.regularizers import l2,l1\n",
        "model = Sequential()\n",
        "model.add(Conv2D(32, (3,3), padding=\"same\", activation = 'relu', kernel_regularizer=l2(0.0002) , input_shape=(220,220,3)))\n",
        "model.add(MaxPooling2D((3,3)))\n",
        "\n",
        "model.add(Conv2D(32, (5, 5), activation='relu', kernel_regularizer=l1(0.0002))) \n",
        "model.add(MaxPooling2D((3,3)))\n",
        "\n",
        "model.add(Conv2D(64, (3, 3), activation='relu', kernel_regularizer=l2(0.0002))) \n",
        "model.add(MaxPooling2D((2, 2)))\n",
        "\n",
        "model.add(Conv2D(128, (3, 3), activation='relu', kernel_regularizer=l2(0.0002))) \n",
        "model.add(MaxPooling2D((2, 2)))\n",
        "\n",
        "model.add(Conv2D(128, (3, 3), activation='relu' , kernel_regularizer=l2(0.0002))) \n",
        "model.add(MaxPooling2D((2, 2)))\n",
        "\n",
        "model.add(Flatten())\n",
        "# dropout layer that used for avoiding the overfitting \n",
        "model.add(Dropout(0.3))\n",
        "model.add(Dense(100, activation='relu'))\n",
        "\n",
        "# Output layer have 10 labels \n",
        "model.add(Dense(10, activation='softmax'))"
      ],
      "execution_count": null,
      "outputs": []
    },
    {
      "cell_type": "code",
      "metadata": {
        "id": "FH1AoXvOBSz_"
      },
      "source": [
        "from google.colab import drive\n",
        "drive.mount('/content/drive')"
      ],
      "execution_count": null,
      "outputs": []
    },
    {
      "cell_type": "code",
      "metadata": {
        "id": "iar8DH8Ht_4Q"
      },
      "source": [
        "model.compile(optimizer='adam'\n",
        "              ,metrics=['accuracy'],loss='categorical_crossentropy')\n",
        "history=model.fit(x_train,y_train,batch_size=12,epochs=50,validation_split=0.2)"
      ],
      "execution_count": null,
      "outputs": []
    },
    {
      "cell_type": "code",
      "metadata": {
        "id": "UbCOPYuct_51"
      },
      "source": [
        "import matplotlib.pyplot as plt\n",
        "import seaborn as sns\n",
        "sns.set_style('whitegrid')\n",
        "plt.figure(figsize=(12,8))\n",
        "plt.plot(history.history['accuracy'])\n",
        "plt.plot(history.history['val_accuracy'])\n",
        "plt.xlabel('Epochs')\n",
        "plt.ylabel('Accuracy score')\n",
        "plt.title('Model Accuracy')\n",
        "plt.legend(['Train','Test'])\n",
        "plt.show()"
      ],
      "execution_count": null,
      "outputs": []
    },
    {
      "cell_type": "code",
      "metadata": {
        "id": "9ALJnIz2t_7x"
      },
      "source": [
        "loss,accuracy=model.evaluate(x_test,y_test)"
      ],
      "execution_count": null,
      "outputs": []
    },
    {
      "cell_type": "code",
      "metadata": {
        "id": "51e9xMjft_9t"
      },
      "source": [
        "import tensorflow\n",
        "# This network has many hyper parameters that you have to adjust first\n",
        "# The first hyperparameter gives you the freedom to choose whether to enter the final dense layer of the network or cancel it, in which case it has been cancelled.\n",
        "mnet = tensorflow.keras.applications.mobilenet_v2.MobileNetV2(include_top=False, \n",
        "                                                      input_shape=(220, 220, 3),#same as of custom model\n",
        "                                                      pooling='avg',\n",
        "                                                      weights='imagenet')\n",
        "\n",
        "mnet.summary()"
      ],
      "execution_count": null,
      "outputs": []
    },
    {
      "cell_type": "code",
      "metadata": {
        "id": "kSDKs3-auEMi"
      },
      "source": [
        "model2=Sequential([\n",
        "    mnet,\n",
        "    Dropout(0.25),\n",
        "    Dense(10,activation='softmax') # here we use 10 layers because we have to predict bewtween 10 classes\n",
        "])"
      ],
      "execution_count": null,
      "outputs": []
    },
    {
      "cell_type": "code",
      "metadata": {
        "id": "L0aXWHmIuEOW"
      },
      "source": [
        "# here we freezed the layer that responsible for feature extraction\n",
        "model2.layers[0].trainable = False\n",
        "model2.summary()"
      ],
      "execution_count": null,
      "outputs": []
    },
    {
      "cell_type": "code",
      "metadata": {
        "id": "JyK1FF8UuEQT"
      },
      "source": [
        "model2.compile(loss='categorical_crossentropy', optimizer='adam', metrics=['acc'])\n",
        "history2=model2.fit(x_train,y_train,batch_size=12, epochs=10,validation_split=0.3)"
      ],
      "execution_count": null,
      "outputs": []
    },
    {
      "cell_type": "code",
      "metadata": {
        "id": "0pIR-gCNuESS"
      },
      "source": [
        "loss,accuracy=model2.evaluate(x_test,y_test)\n",
        "sns.set_style('darkgrid')\n",
        "plt.figure(figsize=(12,8))\n",
        "plt.plot(history2.history['acc'])\n",
        "plt.plot(history2.history['val_acc'])\n",
        "plt.xlabel('Epochs')\n",
        "plt.ylabel('Accuracy score')\n",
        "plt.title('Model Accuracy')\n",
        "plt.legend(['Train','Test'])\n",
        "plt.show()"
      ],
      "execution_count": null,
      "outputs": []
    }
  ]
}